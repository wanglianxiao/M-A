{
 "cells": [
  {
   "cell_type": "code",
   "execution_count": 1,
   "metadata": {
    "collapsed": true
   },
   "outputs": [],
   "source": [
    "import json"
   ]
  },
  {
   "cell_type": "code",
   "execution_count": 2,
   "metadata": {
    "collapsed": true
   },
   "outputs": [],
   "source": [
    "with open(\"invert_org.json\") as json_file:\n",
    "    invert_org = json.load(json_file)"
   ]
  },
  {
   "cell_type": "code",
   "execution_count": 3,
   "metadata": {},
   "outputs": [
    {
     "data": {
      "text/plain": [
       "{'latestInvest': [],\n",
       " 'org': {'id': 649,\n",
       "  'intro': '苏州龙瑞创业投资管理有限公司是由美籍华人SIUMAN SHIRLEY YEUNG创立的股权投资机构。',\n",
       "  'logo': '',\n",
       "  'nameAbbr': '龙瑞创投'},\n",
       " 'totalCount': 0,\n",
       " 'totalMember': 0}"
      ]
     },
     "execution_count": 3,
     "metadata": {},
     "output_type": "execute_result"
    }
   ],
   "source": [
    "invert_org[2531]"
   ]
  },
  {
   "cell_type": "code",
   "execution_count": 4,
   "metadata": {
    "collapsed": true
   },
   "outputs": [],
   "source": [
    "with open(\"persons.json\") as json_file:\n",
    "    persons = json.load(json_file)"
   ]
  },
  {
   "cell_type": "code",
   "execution_count": 8,
   "metadata": {},
   "outputs": [
    {
     "data": {
      "text/plain": [
       "{'brief': '齐飞先生曾任苏河汇合伙人。齐先生于2008年获得中华人民共和国保荐人资格，他有多年VC/PE股权投资经验，成功运作多家高科技企业上市、并购事宜。他是苏河汇最早的天使投资人，和罗钥一起出资创立苏河汇。',\n",
       " 'city': ['上海市'],\n",
       " 'id': 9430,\n",
       " 'industry': [],\n",
       " 'investCaseList': [],\n",
       " 'investCnt': 0,\n",
       " 'logo': 'https://krplus-pic.b0.upaiyun.com/avatar/v3/avatar_9430.jpg!480',\n",
       " 'name': '齐飞',\n",
       " 'orgName': '',\n",
       " 'phase': [],\n",
       " 'position': ''}"
      ]
     },
     "execution_count": 8,
     "metadata": {},
     "output_type": "execute_result"
    }
   ],
   "source": [
    "persons[15755]"
   ]
  },
  {
   "cell_type": "code",
   "execution_count": 9,
   "metadata": {},
   "outputs": [
    {
     "data": {
      "text/plain": [
       "15756"
      ]
     },
     "execution_count": 9,
     "metadata": {},
     "output_type": "execute_result"
    }
   ],
   "source": [
    "len(persons)"
   ]
  },
  {
   "cell_type": "code",
   "execution_count": 10,
   "metadata": {},
   "outputs": [
    {
     "data": {
      "text/plain": [
       "2532"
      ]
     },
     "execution_count": 10,
     "metadata": {},
     "output_type": "execute_result"
    }
   ],
   "source": [
    "len(invert_org)"
   ]
  },
  {
   "cell_type": "code",
   "execution_count": 12,
   "metadata": {},
   "outputs": [],
   "source": [
    "with open(\"Startups/127.json\") as json_file:\n",
    "    persons = json.load(json_file)"
   ]
  },
  {
   "cell_type": "code",
   "execution_count": 13,
   "metadata": {},
   "outputs": [
    {
     "data": {
      "text/plain": [
       "1000"
      ]
     },
     "execution_count": 13,
     "metadata": {},
     "output_type": "execute_result"
    }
   ],
   "source": [
    "len(persons)"
   ]
  },
  {
   "cell_type": "code",
   "execution_count": 14,
   "metadata": {},
   "outputs": [
    {
     "data": {
      "text/plain": [
       "{'brief': '自行车项目服务平台',\n",
       " 'city': 127,\n",
       " 'cityStr': '陕西省',\n",
       " 'classic': False,\n",
       " 'dau': 0,\n",
       " 'exposureAmount': 0,\n",
       " 'followed': False,\n",
       " 'funding': False,\n",
       " 'hot': False,\n",
       " 'id': 64704207,\n",
       " 'industry': 'SPORTS',\n",
       " 'industryStr': '体育',\n",
       " 'industryTag': [{'expose': 1, 'hot': 0, 'id': 21, 'level': 0, 'name': '体育'},\n",
       "  {'expose': 0, 'hot': 0, 'id': 506, 'level': 2, 'name': '骑行社区'},\n",
       "  {'expose': 1, 'hot': 0, 'id': 61, 'level': 0, 'name': '旅游'},\n",
       "  {'expose': 1, 'hot': 0, 'id': 788, 'level': 0, 'name': '赛事'},\n",
       "  {'expose': 0, 'hot': 0, 'id': 90, 'level': 1, 'name': '旅游攻略'},\n",
       "  {'expose': 0, 'hot': 0, 'id': 116, 'level': 1, 'name': '自由行'},\n",
       "  {'expose': 0, 'hot': 0, 'id': 10437, 'level': 2, 'name': '赛事服务'},\n",
       "  {'expose': 0, 'hot': 0, 'id': 10438, 'level': 2, 'name': '赛事活动'},\n",
       "  {'expose': 0, 'hot': 0, 'id': 11463, 'level': 2, 'name': '骑行'},\n",
       "  {'expose': 0, 'hot': 0, 'id': 789, 'level': 0, 'name': '赛事运营'},\n",
       "  {'expose': 0, 'hot': 0, 'id': 9611, 'level': 2, 'name': '自行车'},\n",
       "  {'expose': 0, 'hot': 0, 'id': 2061, 'level': 2, 'name': '人文'}],\n",
       " 'investParts': [],\n",
       " 'labelSource': ['体育',\n",
       "  '骑行社区',\n",
       "  '旅游',\n",
       "  '赛事',\n",
       "  '旅游攻略',\n",
       "  '自由行',\n",
       "  '赛事服务',\n",
       "  '赛事活动',\n",
       "  '骑行',\n",
       "  '赛事运营',\n",
       "  '自行车',\n",
       "  '人文'],\n",
       " 'logo': 'http://krplus-pic.b0.upaiyun.com/201705/08/6643197257f642386e99fb75efddb1d9.png',\n",
       " 'name': '去哪骑',\n",
       " 'operationTag': [],\n",
       " 'phase': 'NONE',\n",
       " 'startDate': 1432742400000,\n",
       " 'stockDate': 1494212227000,\n",
       " 'tags': ['体育',\n",
       "  '骑行社区',\n",
       "  '旅游',\n",
       "  '赛事',\n",
       "  '旅游攻略',\n",
       "  '自由行',\n",
       "  '赛事服务',\n",
       "  '赛事活动',\n",
       "  '骑行',\n",
       "  '赛事运营',\n",
       "  '自行车',\n",
       "  '人文']}"
      ]
     },
     "execution_count": 14,
     "metadata": {},
     "output_type": "execute_result"
    }
   ],
   "source": [
    "persons[0]"
   ]
  },
  {
   "cell_type": "code",
   "execution_count": null,
   "metadata": {
    "scrolled": false
   },
   "outputs": [],
   "source": []
  },
  {
   "cell_type": "code",
   "execution_count": null,
   "metadata": {
    "collapsed": true
   },
   "outputs": [],
   "source": []
  }
 ],
 "metadata": {
  "kernelspec": {
   "display_name": "Python 3",
   "language": "python",
   "name": "python3"
  },
  "language_info": {
   "codemirror_mode": {
    "name": "ipython",
    "version": 3
   },
   "file_extension": ".py",
   "mimetype": "text/x-python",
   "name": "python",
   "nbconvert_exporter": "python",
   "pygments_lexer": "ipython3",
   "version": "3.5.3"
  }
 },
 "nbformat": 4,
 "nbformat_minor": 2
}
