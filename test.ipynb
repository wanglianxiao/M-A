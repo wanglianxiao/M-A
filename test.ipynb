{
 "cells": [
  {
   "cell_type": "code",
   "execution_count": 1,
   "metadata": {
    "collapsed": true
   },
   "outputs": [],
   "source": [
    "import json"
   ]
  },
  {
   "cell_type": "code",
   "execution_count": 2,
   "metadata": {
    "collapsed": true
   },
   "outputs": [],
   "source": [
    "with open(\"invert_org.json\") as json_file:\n",
    "    invert_org = json.load(json_file)"
   ]
  },
  {
   "cell_type": "code",
   "execution_count": 4,
   "metadata": {},
   "outputs": [
    {
     "data": {
      "text/plain": [
       "{'latestInvest': [{'cid': 106211, 'companyName': '特斯联', 'id': 71916},\n",
       "  {'cid': 90325, 'companyName': '势必可赢', 'id': 71779},\n",
       "  {'cid': 81733953, 'companyName': '街电科技', 'id': 69530}],\n",
       " 'org': {'id': 51,\n",
       "  'intro': 'IDG资本于1992年开始在中国进行风险投资，是最早进入中国的外资投资基金。24年来，IDG资本重点关注互联网、移动互联...',\n",
       "  'logo': 'https://krplus-pic.b0.upaiyun.com/201702/24/7cad28a65057e5fccd7ac2e77b042f6f.jpeg',\n",
       "  'nameAbbr': 'IDG资本'},\n",
       " 'totalCount': 516,\n",
       " 'totalMember': 47}"
      ]
     },
     "execution_count": 4,
     "metadata": {},
     "output_type": "execute_result"
    }
   ],
   "source": [
    "invert_org[0]"
   ]
  },
  {
   "cell_type": "code",
   "execution_count": 7,
   "metadata": {},
   "outputs": [
    {
     "data": {
      "text/plain": [
       "2532"
      ]
     },
     "execution_count": 7,
     "metadata": {},
     "output_type": "execute_result"
    }
   ],
   "source": [
    "len(invert_org)"
   ]
  },
  {
   "cell_type": "code",
   "execution_count": 5,
   "metadata": {
    "collapsed": true
   },
   "outputs": [],
   "source": [
    "with open(\"persons.json\") as json_file:\n",
    "    persons = json.load(json_file)"
   ]
  },
  {
   "cell_type": "code",
   "execution_count": 6,
   "metadata": {},
   "outputs": [
    {
     "data": {
      "text/plain": [
       "{'brief': '王强先生是真格基金的联合创始人。作为真格联合创始人，他还出任“真格基金企业灵魂研究院院长”，帮助投资组合的创始者们从哲学人文角度探讨企业真正的使命与意义。王强先生是中国最大教育培训机构新东方教育科技集团（NYSE:EDU）的联合创始人，曾担任公司的副总裁及董事长。王强先生也曾业余主持北京电视台的双语节目“FromWordtotheWorld”,一度风靡全国三十几个频道。2015年，王强先生被牛津大学哈里斯·曼彻斯特学院授予学院基石院士（终身荣銜）。',\n",
       " 'city': ['北京市'],\n",
       " 'id': 1839,\n",
       " 'industry': ['教育'],\n",
       " 'investCaseList': [{'id': 11718,\n",
       "   'investDate': 1398873600000,\n",
       "   'name': '渡鸦科技'}],\n",
       " 'investCnt': 1,\n",
       " 'logo': 'https://krplus-pic.b0.upaiyun.com/201701/05/973902ac194c50b488321839da3d97d8.png',\n",
       " 'name': '王强',\n",
       " 'orgName': '真格基金',\n",
       " 'phase': ['Pre-A轮', '天使轮'],\n",
       " 'position': '联合创始人'}"
      ]
     },
     "execution_count": 6,
     "metadata": {},
     "output_type": "execute_result"
    }
   ],
   "source": [
    "persons[0]"
   ]
  },
  {
   "cell_type": "code",
   "execution_count": 9,
   "metadata": {},
   "outputs": [
    {
     "data": {
      "text/plain": [
       "15756"
      ]
     },
     "execution_count": 9,
     "metadata": {},
     "output_type": "execute_result"
    }
   ],
   "source": [
    "len(persons)"
   ]
  },
  {
   "cell_type": "code",
   "execution_count": 194,
   "metadata": {
    "collapsed": true
   },
   "outputs": [],
   "source": [
    "with open(\"startups.json\") as json_file:\n",
    "    startups = json.load(json_file)"
   ]
  },
  {
   "cell_type": "code",
   "execution_count": 195,
   "metadata": {},
   "outputs": [
    {
     "data": {
      "text/plain": [
       "65388"
      ]
     },
     "execution_count": 195,
     "metadata": {},
     "output_type": "execute_result"
    }
   ],
   "source": [
    "len(startups)"
   ]
  },
  {
   "cell_type": "code",
   "execution_count": 196,
   "metadata": {},
   "outputs": [
    {
     "data": {
      "text/plain": [
       "{'brief': '食材销售定制平台',\n",
       " 'city': 104,\n",
       " 'cityStr': '山西省',\n",
       " 'classic': False,\n",
       " 'dau': 0,\n",
       " 'exposureAmount': 0,\n",
       " 'followed': False,\n",
       " 'funding': False,\n",
       " 'hot': False,\n",
       " 'id': 99993546,\n",
       " 'industry': 'E_COMMERCE',\n",
       " 'industryStr': '电商',\n",
       " 'industryTag': [{'expose': 0,\n",
       "   'hot': 0,\n",
       "   'id': 596,\n",
       "   'level': 2,\n",
       "   'name': '定制电商'},\n",
       "  {'expose': 1, 'hot': 0, 'id': 26, 'level': 0, 'name': '电商'},\n",
       "  {'expose': 1, 'hot': 0, 'id': 54, 'level': 0, 'name': '农业'},\n",
       "  {'expose': 1, 'hot': 0, 'id': 124, 'level': 1, 'name': '农业电商'},\n",
       "  {'expose': 0, 'hot': 0, 'id': 1610, 'level': 2, 'name': '个性化定制'},\n",
       "  {'expose': 0, 'hot': 0, 'id': 9968, 'level': 2, 'name': '西瓜'},\n",
       "  {'expose': 0, 'hot': 0, 'id': 11368, 'level': 2, 'name': '食材'}],\n",
       " 'investParts': [],\n",
       " 'labelSource': ['定制电商', '电商', '农业', '农业电商', '入口', '个性化定制', '西瓜', '食材'],\n",
       " 'logo': 'https://pic.36krcnd.com/avatar/201612/05120055/pdws1nemb2aynva6.JPG',\n",
       " 'name': '云阿定制',\n",
       " 'operationTag': [],\n",
       " 'phase': 'NONE',\n",
       " 'startDate': 1453910400000,\n",
       " 'stockDate': 1482498029000,\n",
       " 'tags': ['定制电商', '电商', '农业', '农业电商', '入口', '个性化定制', '西瓜', '食材']}"
      ]
     },
     "execution_count": 196,
     "metadata": {},
     "output_type": "execute_result"
    }
   ],
   "source": [
    "startups[0]"
   ]
  },
  {
   "cell_type": "code",
   "execution_count": 14,
   "metadata": {
    "collapsed": true,
    "scrolled": false
   },
   "outputs": [],
   "source": [
    "def write_file(name, data):\n",
    "    f = open(str(name) + '.json', 'w')\n",
    "    f.write(json.dumps(data))\n",
    "    f.close()"
   ]
  },
  {
   "cell_type": "code",
   "execution_count": 49,
   "metadata": {},
   "outputs": [
    {
     "data": {
      "text/plain": [
       "10928"
      ]
     },
     "execution_count": 49,
     "metadata": {},
     "output_type": "execute_result"
    }
   ],
   "source": [
    "investParts = []\n",
    "for c in startups:\n",
    "    if(c['investParts'] != []):\n",
    "        investParts.append([c['id'], c['investParts']])\n",
    "len(investParts)"
   ]
  },
  {
   "cell_type": "code",
   "execution_count": 52,
   "metadata": {},
   "outputs": [
    {
     "data": {
      "text/plain": [
       "[99971381, ['华晟资本', '贝塔斯曼亚洲投资基金', '共创资本', '京东', '险峰长青', '经纬中国', 'DST', '华兴资本']]"
      ]
     },
     "execution_count": 52,
     "metadata": {},
     "output_type": "execute_result"
    }
   ],
   "source": [
    "investParts[0]"
   ]
  },
  {
   "cell_type": "code",
   "execution_count": 217,
   "metadata": {
    "collapsed": true
   },
   "outputs": [],
   "source": [
    "len_p = []\n",
    "for p in investParts:\n",
    "    len_p.append(len(p[1]))"
   ]
  },
  {
   "cell_type": "code",
   "execution_count": 218,
   "metadata": {},
   "outputs": [
    {
     "data": {
      "text/plain": [
       "19"
      ]
     },
     "execution_count": 218,
     "metadata": {},
     "output_type": "execute_result"
    }
   ],
   "source": [
    "max(len_p)"
   ]
  },
  {
   "cell_type": "code",
   "execution_count": 53,
   "metadata": {},
   "outputs": [
    {
     "name": "stdout",
     "output_type": "stream",
     "text": [
      "funding : 0\n"
     ]
    }
   ],
   "source": [
    "funding = []\n",
    "for c in startups:\n",
    "    if(c['funding'] is not False):\n",
    "        funding.append([c['id'], c['funding']])\n",
    "print('funding : ' + str(len(funding)))"
   ]
  },
  {
   "cell_type": "code",
   "execution_count": 54,
   "metadata": {},
   "outputs": [
    {
     "name": "stdout",
     "output_type": "stream",
     "text": [
      "dau : 25644\n"
     ]
    }
   ],
   "source": [
    "dau = []\n",
    "for c in startups:\n",
    "    if(c['dau'] != 0):\n",
    "        dau.append([c['id'], c['dau']])\n",
    "print('dau : ' + str(len(dau)))"
   ]
  },
  {
   "cell_type": "code",
   "execution_count": 47,
   "metadata": {},
   "outputs": [
    {
     "name": "stdout",
     "output_type": "stream",
     "text": [
      "508178601\n"
     ]
    }
   ],
   "source": [
    "last_indices = [x[1] for x in dau]\n",
    "print(max(last_indices))\n",
    "# max(map(lambda x: x[1], dau))"
   ]
  },
  {
   "cell_type": "code",
   "execution_count": 51,
   "metadata": {},
   "outputs": [
    {
     "name": "stdout",
     "output_type": "stream",
     "text": [
      "exposureAmount : 7569\n",
      "operationTag : 13617\n",
      "hot : 0\n",
      "classic : 15\n"
     ]
    }
   ],
   "source": [
    "exposureAmount = []\n",
    "operationTag = []\n",
    "hot = []\n",
    "classic = []\n",
    "for c in startups:\n",
    "    if(c['exposureAmount'] != 0):\n",
    "        exposureAmount.append([c['id'], c['exposureAmount']])\n",
    "    if(c['operationTag'] != []):\n",
    "        operationTag.append([c['id'], c['operationTag']])\n",
    "    if(c['hot'] is not False):\n",
    "        hot.append([c['id'], c['hot']])\n",
    "    if(c['classic'] is not False):\n",
    "        classic.append([c['id'], c['classic']])\n",
    "print('exposureAmount : ' + str(len(exposureAmount)))\n",
    "print('operationTag : ' + str(len(operationTag)))\n",
    "print('hot : ' + str(len(hot)))\n",
    "print('classic : ' + str(len(classic)))"
   ]
  },
  {
   "cell_type": "code",
   "execution_count": 59,
   "metadata": {},
   "outputs": [
    {
     "name": "stdout",
     "output_type": "stream",
     "text": [
      "exposureAmount-Max : 95\n",
      "exposureAmount-Min : 1\n"
     ]
    }
   ],
   "source": [
    "print('exposureAmount-Max : ' + str(max(map(lambda x: x[1], exposureAmount))))\n",
    "print('exposureAmount-Min : ' + str(min(map(lambda x: x[1], exposureAmount))))"
   ]
  },
  {
   "cell_type": "code",
   "execution_count": null,
   "metadata": {
    "collapsed": true
   },
   "outputs": [],
   "source": [
    "for o in operationTag:\n",
    "    if(o[1][0]['name'] != '媒体报道'):\n",
    "        print(o[1][0]['name'])"
   ]
  },
  {
   "cell_type": "code",
   "execution_count": 219,
   "metadata": {
    "collapsed": true
   },
   "outputs": [],
   "source": [
    "len_o = []\n",
    "for o in operationTag:\n",
    "    len_o.append(len(o[1]))"
   ]
  },
  {
   "cell_type": "code",
   "execution_count": 220,
   "metadata": {},
   "outputs": [
    {
     "data": {
      "text/plain": [
       "5"
      ]
     },
     "execution_count": 220,
     "metadata": {},
     "output_type": "execute_result"
    }
   ],
   "source": [
    "max(len_o)"
   ]
  },
  {
   "cell_type": "code",
   "execution_count": 205,
   "metadata": {
    "collapsed": true
   },
   "outputs": [],
   "source": [
    "startDate_count = 0\n",
    "for c in startups:\n",
    "    if 'startDate' in c:\n",
    "        startDate_count += 1"
   ]
  },
  {
   "cell_type": "code",
   "execution_count": 206,
   "metadata": {},
   "outputs": [
    {
     "data": {
      "text/plain": [
       "61237"
      ]
     },
     "execution_count": 206,
     "metadata": {},
     "output_type": "execute_result"
    }
   ],
   "source": [
    "startDate_count"
   ]
  },
  {
   "cell_type": "code",
   "execution_count": 207,
   "metadata": {
    "collapsed": true
   },
   "outputs": [],
   "source": [
    "startDate = []\n",
    "for c in startups:\n",
    "    if 'startDate' in c:\n",
    "        startDate.append([c['id'], c['startDate']])"
   ]
  },
  {
   "cell_type": "code",
   "execution_count": 208,
   "metadata": {},
   "outputs": [
    {
     "name": "stdout",
     "output_type": "stream",
     "text": [
      "startDate-Max : 1493913600000\n",
      "startDate-Min : -4765161943000\n"
     ]
    }
   ],
   "source": [
    "print('startDate-Max : ' + str(max(map(lambda x: x[1], startDate))))\n",
    "print('startDate-Min : ' + str(min(map(lambda x: x[1], startDate))))"
   ]
  },
  {
   "cell_type": "code",
   "execution_count": 211,
   "metadata": {},
   "outputs": [
    {
     "name": "stdout",
     "output_type": "stream",
     "text": [
      "SingPost\n"
     ]
    }
   ],
   "source": [
    "for c in startups:\n",
    "    if('startDate' in c and c['startDate'] == -4765161943000):\n",
    "        print(c['name'])"
   ]
  },
  {
   "cell_type": "code",
   "execution_count": 90,
   "metadata": {},
   "outputs": [
    {
     "data": {
      "text/plain": [
       "[99931973, 11]"
      ]
     },
     "execution_count": 90,
     "metadata": {},
     "output_type": "execute_result"
    }
   ],
   "source": [
    "exposureAmount[0]"
   ]
  },
  {
   "cell_type": "code",
   "execution_count": null,
   "metadata": {
    "collapsed": true
   },
   "outputs": [],
   "source": []
  },
  {
   "cell_type": "code",
   "execution_count": 190,
   "metadata": {},
   "outputs": [
    {
     "data": {
      "text/plain": [
       "21"
      ]
     },
     "execution_count": 190,
     "metadata": {},
     "output_type": "execute_result"
    }
   ],
   "source": [
    "industry_type = []\n",
    "for c in startups:\n",
    "    industry_type.append(c['industry'])\n",
    "industry_type = set(industry_type)\n",
    "len(industry_type)"
   ]
  },
  {
   "cell_type": "code",
   "execution_count": 191,
   "metadata": {},
   "outputs": [
    {
     "data": {
      "text/plain": [
       "{'AI',\n",
       " 'AUTO',\n",
       " 'CONSUMER_LIFESTYLE',\n",
       " 'EDUCATION_TRAINING',\n",
       " 'E_COMMERCE',\n",
       " 'FARMING',\n",
       " 'FINANCE',\n",
       " 'INTELLIGENT_HARDWARE',\n",
       " 'LOGISTICS',\n",
       " 'MEDIA',\n",
       " 'MEDICAL_HEALTH',\n",
       " 'NON_TMT',\n",
       " 'PROPERTY_AND_HOME_FURNISHINGS',\n",
       " 'ROBOT',\n",
       " 'SERVICE_INDUSTRIES',\n",
       " 'SOCIAL_NETWORK',\n",
       " 'SOFTWARE',\n",
       " 'SPORTS',\n",
       " 'TRAVEL_OUTDOORS',\n",
       " 'UAV',\n",
       " 'VR_AR'}"
      ]
     },
     "execution_count": 191,
     "metadata": {},
     "output_type": "execute_result"
    }
   ],
   "source": [
    "industry_type"
   ]
  },
  {
   "cell_type": "code",
   "execution_count": 156,
   "metadata": {},
   "outputs": [
    {
     "data": {
      "text/plain": [
       "list"
      ]
     },
     "execution_count": 156,
     "metadata": {},
     "output_type": "execute_result"
    }
   ],
   "source": [
    "type(industry_type)\n",
    "industry_type = list(industry_type)\n",
    "type(industry_type)"
   ]
  },
  {
   "cell_type": "code",
   "execution_count": 163,
   "metadata": {
    "collapsed": true
   },
   "outputs": [],
   "source": [
    "industry_sum = dict.fromkeys(industry_type, 0)"
   ]
  },
  {
   "cell_type": "code",
   "execution_count": 166,
   "metadata": {
    "collapsed": true
   },
   "outputs": [],
   "source": [
    "for c in startups:\n",
    "    industry = c['industry']\n",
    "    industry_sum[industry] += 1"
   ]
  },
  {
   "cell_type": "code",
   "execution_count": 179,
   "metadata": {
    "collapsed": true
   },
   "outputs": [],
   "source": [
    "industry_type = pd.DataFrame(industry_type, columns = ['行业'])"
   ]
  },
  {
   "cell_type": "code",
   "execution_count": 182,
   "metadata": {
    "collapsed": true
   },
   "outputs": [],
   "source": [
    "industry_sum = pd.DataFrame(list(industry_sum.items()), columns = ['Industry', 'Count'])\n",
    "industry_sum.to_excel(\"industry_sum.xlsx\")"
   ]
  },
  {
   "cell_type": "code",
   "execution_count": 183,
   "metadata": {},
   "outputs": [
    {
     "data": {
      "text/html": [
       "<div>\n",
       "<style>\n",
       "    .dataframe thead tr:only-child th {\n",
       "        text-align: right;\n",
       "    }\n",
       "\n",
       "    .dataframe thead th {\n",
       "        text-align: left;\n",
       "    }\n",
       "\n",
       "    .dataframe tbody tr th {\n",
       "        vertical-align: top;\n",
       "    }\n",
       "</style>\n",
       "<table border=\"1\" class=\"dataframe\">\n",
       "  <thead>\n",
       "    <tr style=\"text-align: right;\">\n",
       "      <th></th>\n",
       "      <th>Industry</th>\n",
       "      <th>Count</th>\n",
       "    </tr>\n",
       "  </thead>\n",
       "  <tbody>\n",
       "    <tr>\n",
       "      <th>0</th>\n",
       "      <td>Industry</td>\n",
       "      <td>0                EDUCATION_TRAINING\n",
       "1         ...</td>\n",
       "    </tr>\n",
       "    <tr>\n",
       "      <th>1</th>\n",
       "      <td>Count</td>\n",
       "      <td>0      4327\n",
       "1      7723\n",
       "2      1232\n",
       "3       25...</td>\n",
       "    </tr>\n",
       "  </tbody>\n",
       "</table>\n",
       "</div>"
      ],
      "text/plain": [
       "   Industry                                              Count\n",
       "0  Industry  0                EDUCATION_TRAINING\n",
       "1         ...\n",
       "1     Count  0      4327\n",
       "1      7723\n",
       "2      1232\n",
       "3       25..."
      ]
     },
     "execution_count": 183,
     "metadata": {},
     "output_type": "execute_result"
    }
   ],
   "source": [
    "industry_sum"
   ]
  },
  {
   "cell_type": "code",
   "execution_count": 112,
   "metadata": {},
   "outputs": [
    {
     "data": {
      "text/plain": [
       "list"
      ]
     },
     "execution_count": 112,
     "metadata": {},
     "output_type": "execute_result"
    }
   ],
   "source": [
    "phase_type = list(phase_type)\n",
    "type(phase_type)"
   ]
  },
  {
   "cell_type": "code",
   "execution_count": 122,
   "metadata": {
    "collapsed": true
   },
   "outputs": [],
   "source": [
    "for c in startups:\n",
    "    phase = c['phase']\n",
    "    phase_sum[phase] += 1"
   ]
  },
  {
   "cell_type": "code",
   "execution_count": 137,
   "metadata": {},
   "outputs": [
    {
     "data": {
      "text/plain": [
       "{'A': 5717,\n",
       " 'ACQUIRED': 1099,\n",
       " 'ANGEL': 10405,\n",
       " 'A_PLUS': 279,\n",
       " 'B': 1633,\n",
       " 'B_PLUS': 75,\n",
       " 'C': 482,\n",
       " 'C_PLUS': 13,\n",
       " 'D': 232,\n",
       " 'E': 106,\n",
       " 'INFORMAL': 1,\n",
       " 'IPO': 1200,\n",
       " 'NONE': 41776,\n",
       " 'PRE_A': 1503,\n",
       " 'PRE_B': 6,\n",
       " 'SEED': 374,\n",
       " 'UNKNOWN': 487}"
      ]
     },
     "execution_count": 137,
     "metadata": {},
     "output_type": "execute_result"
    }
   ],
   "source": [
    "phase_sum"
   ]
  },
  {
   "cell_type": "code",
   "execution_count": 124,
   "metadata": {
    "scrolled": true
   },
   "outputs": [
    {
     "data": {
      "text/plain": [
       "17"
      ]
     },
     "execution_count": 124,
     "metadata": {},
     "output_type": "execute_result"
    }
   ],
   "source": [
    "len(phase_sum)"
   ]
  },
  {
   "cell_type": "code",
   "execution_count": 145,
   "metadata": {
    "collapsed": true
   },
   "outputs": [],
   "source": [
    "import pandas as pd"
   ]
  },
  {
   "cell_type": "code",
   "execution_count": 152,
   "metadata": {
    "collapsed": true
   },
   "outputs": [],
   "source": [
    "phase_sum = pd.DataFrame(list(phase_sum.items()), columns = ['Phase', 'Count'])\n",
    "phase_sum.to_excel(\"phase_sum.xlsx\")"
   ]
  },
  {
   "cell_type": "code",
   "execution_count": 153,
   "metadata": {},
   "outputs": [
    {
     "data": {
      "text/plain": [
       "pandas.core.frame.DataFrame"
      ]
     },
     "execution_count": 153,
     "metadata": {},
     "output_type": "execute_result"
    }
   ],
   "source": [
    "type(phase_sum)"
   ]
  },
  {
   "cell_type": "code",
   "execution_count": 238,
   "metadata": {},
   "outputs": [
    {
     "name": "stdout",
     "output_type": "stream",
     "text": [
      "百度\n"
     ]
    }
   ],
   "source": [
    "for c in startups:\n",
    "    if(c['exposureAmount'] == 95):\n",
    "        print(c['name'])"
   ]
  },
  {
   "cell_type": "code",
   "execution_count": 244,
   "metadata": {},
   "outputs": [
    {
     "name": "stdout",
     "output_type": "stream",
     "text": [
      "88618幻城 : 94\n",
      "5678824小时 : 91\n",
      "3675百度 : 95\n",
      "3655携程 : 91\n",
      "3627阿里巴巴 : 91\n",
      "94华为 : 90\n"
     ]
    }
   ],
   "source": [
    "for c in startups:\n",
    "    if(c['exposureAmount'] >= 90):\n",
    "        print(str(c['id']) + c['name'] + ' : ' + str(c['exposureAmount']))        "
   ]
  },
  {
   "cell_type": "code",
   "execution_count": 223,
   "metadata": {},
   "outputs": [
    {
     "name": "stdout",
     "output_type": "stream",
     "text": [
      "stockDate-Max : 1494474094000\n",
      "stockDate-Min : 1441626493000\n"
     ]
    }
   ],
   "source": [
    "print('stockDate-Max : ' + str(max(map(lambda x: x['stockDate'], startups))))\n",
    "print('stockDate-Min : ' + str(min(map(lambda x: x['stockDate'], startups))))"
   ]
  },
  {
   "cell_type": "code",
   "execution_count": 222,
   "metadata": {},
   "outputs": [
    {
     "data": {
      "text/plain": [
       "{'brief': '食材销售定制平台',\n",
       " 'city': 104,\n",
       " 'cityStr': '山西省',\n",
       " 'classic': False,\n",
       " 'dau': 0,\n",
       " 'exposureAmount': 0,\n",
       " 'followed': False,\n",
       " 'funding': False,\n",
       " 'hot': False,\n",
       " 'id': 99993546,\n",
       " 'industry': 'E_COMMERCE',\n",
       " 'industryStr': '电商',\n",
       " 'industryTag': [{'expose': 0,\n",
       "   'hot': 0,\n",
       "   'id': 596,\n",
       "   'level': 2,\n",
       "   'name': '定制电商'},\n",
       "  {'expose': 1, 'hot': 0, 'id': 26, 'level': 0, 'name': '电商'},\n",
       "  {'expose': 1, 'hot': 0, 'id': 54, 'level': 0, 'name': '农业'},\n",
       "  {'expose': 1, 'hot': 0, 'id': 124, 'level': 1, 'name': '农业电商'},\n",
       "  {'expose': 0, 'hot': 0, 'id': 1610, 'level': 2, 'name': '个性化定制'},\n",
       "  {'expose': 0, 'hot': 0, 'id': 9968, 'level': 2, 'name': '西瓜'},\n",
       "  {'expose': 0, 'hot': 0, 'id': 11368, 'level': 2, 'name': '食材'}],\n",
       " 'investParts': [],\n",
       " 'labelSource': ['定制电商', '电商', '农业', '农业电商', '入口', '个性化定制', '西瓜', '食材'],\n",
       " 'logo': 'https://pic.36krcnd.com/avatar/201612/05120055/pdws1nemb2aynva6.JPG',\n",
       " 'name': '云阿定制',\n",
       " 'operationTag': [],\n",
       " 'phase': 'NONE',\n",
       " 'startDate': 1453910400000,\n",
       " 'stockDate': 1482498029000,\n",
       " 'tags': ['定制电商', '电商', '农业', '农业电商', '入口', '个性化定制', '西瓜', '食材']}"
      ]
     },
     "execution_count": 222,
     "metadata": {},
     "output_type": "execute_result"
    }
   ],
   "source": [
    "startups[0]"
   ]
  },
  {
   "cell_type": "code",
   "execution_count": 224,
   "metadata": {},
   "outputs": [
    {
     "data": {
      "text/plain": [
       "{'latestInvest': [{'cid': 106211, 'companyName': '特斯联', 'id': 71916},\n",
       "  {'cid': 90325, 'companyName': '势必可赢', 'id': 71779},\n",
       "  {'cid': 81733953, 'companyName': '街电科技', 'id': 69530}],\n",
       " 'org': {'id': 51,\n",
       "  'intro': 'IDG资本于1992年开始在中国进行风险投资，是最早进入中国的外资投资基金。24年来，IDG资本重点关注互联网、移动互联...',\n",
       "  'logo': 'https://krplus-pic.b0.upaiyun.com/201702/24/7cad28a65057e5fccd7ac2e77b042f6f.jpeg',\n",
       "  'nameAbbr': 'IDG资本'},\n",
       " 'totalCount': 516,\n",
       " 'totalMember': 47}"
      ]
     },
     "execution_count": 224,
     "metadata": {},
     "output_type": "execute_result"
    }
   ],
   "source": [
    "invert_org[0]"
   ]
  },
  {
   "cell_type": "code",
   "execution_count": 225,
   "metadata": {},
   "outputs": [
    {
     "data": {
      "text/plain": [
       "{'latestInvest': [{'cid': 20306209, 'companyName': '有养', 'id': 71809},\n",
       "  {'cid': 176491, 'companyName': '图玛深维', 'id': 71248},\n",
       "  {'cid': 83588190, 'companyName': 'Gitchat', 'id': 70715}],\n",
       " 'org': {'id': 166,\n",
       "  'intro': '真格基金是由新东方联合创始人徐小平、王强和红杉资本中国在2011年联合创立的天使投资基金，旨在鼓励青年人创业、创新、创富...',\n",
       "  'logo': 'https://krplus-pic.b0.upaiyun.com/org_logo/%E7%9C%9F%E6%A0%BC%E5%9F%BA%E9%87%91.jpg',\n",
       "  'nameAbbr': '真格基金'},\n",
       " 'totalCount': 434,\n",
       " 'totalMember': 49}"
      ]
     },
     "execution_count": 225,
     "metadata": {},
     "output_type": "execute_result"
    }
   ],
   "source": [
    "invert_org[1]"
   ]
  },
  {
   "cell_type": "code",
   "execution_count": 226,
   "metadata": {},
   "outputs": [
    {
     "data": {
      "text/plain": [
       "516"
      ]
     },
     "execution_count": 226,
     "metadata": {},
     "output_type": "execute_result"
    }
   ],
   "source": [
    "max(map(lambda x: x['totalCount'], invert_org))"
   ]
  },
  {
   "cell_type": "code",
   "execution_count": 227,
   "metadata": {},
   "outputs": [
    {
     "data": {
      "text/plain": [
       "0"
      ]
     },
     "execution_count": 227,
     "metadata": {},
     "output_type": "execute_result"
    }
   ],
   "source": [
    "min(map(lambda x: x['totalCount'], invert_org))"
   ]
  },
  {
   "cell_type": "code",
   "execution_count": 235,
   "metadata": {},
   "outputs": [
    {
     "data": {
      "text/plain": [
       "67"
      ]
     },
     "execution_count": 235,
     "metadata": {},
     "output_type": "execute_result"
    }
   ],
   "source": [
    "max(map(lambda x: x['investCnt'], persons))\n"
   ]
  },
  {
   "cell_type": "code",
   "execution_count": 236,
   "metadata": {},
   "outputs": [
    {
     "data": {
      "text/plain": [
       "0"
      ]
     },
     "execution_count": 236,
     "metadata": {},
     "output_type": "execute_result"
    }
   ],
   "source": [
    "min(map(lambda x: x['investCnt'], persons))"
   ]
  },
  {
   "cell_type": "code",
   "execution_count": 231,
   "metadata": {},
   "outputs": [
    {
     "name": "stdout",
     "output_type": "stream",
     "text": [
      "Accel Partners\n",
      "YC\n",
      "抱团科技\n",
      "奇虎欣盛投资\n",
      "825新媒体产业基金\n",
      "SV Angel\n",
      "阿里巴巴影业文化产业基金\n",
      "三万弘合\n",
      "General Catalyst\n",
      "紫金科创\n",
      "Norwest\n",
      "Greylock Partners\n",
      "宜华资本\n",
      "棕泉资本\n",
      "Index Ventures\n",
      "Mayfield Fund\n",
      "SOS Ventures\n",
      "嘉富诚\n",
      "融银资本\n",
      "BV\n",
      "Felicis Ventures\n",
      "FundersClub\n",
      "Greycroft Partners\n",
      "乐奕创投\n",
      "浩方创投\n",
      "熔岩创投\n",
      "红杉资本（海外）\n",
      "颐成投资\n",
      "Benchmark\n",
      "Coatue\n",
      "HAX加速器\n",
      "Ignition Partners\n",
      "Madrona Venture\n",
      "RRE\n",
      "容银投资\n",
      "马力创投\n",
      "GREE Ventures\n",
      "SVB Capital\n",
      "Venrock\n",
      "中金汇财\n",
      "华夏信诺资本\n",
      "国灏创投\n",
      "恩惟资本\n",
      "维港投资\n",
      "谆朴投资\n",
      "龙城英才创投\n",
      "Aspect Ventures\n",
      "Founder Collective\n",
      "Francisco Partners\n",
      "Greenspring\n",
      "HV Holtzbrinck Ventures\n",
      "Techstars\n",
      "Tenaya Capital\n",
      "True Ventures\n",
      "七煋瓢虫投资\n",
      "乐创投资\n",
      "凤凰资本\n",
      "凯欣亚洲投资集团\n",
      "华科基金\n",
      "诚承投资\n",
      "雅瑞天使\n",
      "e.ventures\n",
      "Northzone\n",
      "Shasta Ventures\n",
      "Signia Venture Partners\n",
      "Wicklow Capital\n",
      "中华开发工业银行\n",
      "丰图投资\n",
      "五岳元航天使基金\n",
      "北广文资歌华基金\n",
      "北极星创投\n",
      "博汇源创投\n",
      "同道创业\n",
      "巴美列捷福\n",
      "燧石资本\n",
      "知本投资\n",
      "越银资本\n",
      "远翼投资\n",
      "骊悦投资\n",
      "Coent\n",
      "Foundation Capital\n",
      "HPVP\n",
      "Iconiq Capital\n",
      "Lakestar\n",
      "Sutter Hill Ventures\n",
      "T. Rowe Price\n",
      "Unity游戏产业投资基金\n",
      "Vaizra\n",
      "上海天使基金\n",
      "东莞基金\n",
      "中合担保\n",
      "中国宝安\n",
      "中奥集团\n",
      "中技控股\n",
      "中沃投资\n",
      "中瑞资本\n",
      "丰瑞投资\n",
      "华众投资\n",
      "博叡创投\n",
      "博嘉创投\n",
      "国家集成电路产业投资基金\n",
      "太浩创投\n",
      "安大略教师退休金基金\n",
      "小咖投资\n",
      "春山浦江基金\n",
      "暴风鑫源\n",
      "概念资本\n",
      "盈华创投\n",
      "禹杉投资\n",
      "红塔创投\n",
      "贝莱德\n",
      "道昇投资\n",
      "银来集团\n",
      "Ardent Capital\n",
      "B Dash Ventures\n",
      "Box Group\n",
      "Creandum\n",
      "Harbor Pacific Capital LLC\n",
      "K CUBE\n",
      "Marker LLC\n",
      "Partech\n",
      "Phenomen Ventures\n",
      "Pinehurst\n",
      "Point Nine Capital\n",
      "RCIF\n",
      "Ru-net\n",
      "SMG海外投资\n",
      "Tengelmann Ventures\n",
      "Vy Capital\n",
      "一带一路投资基金\n",
      "上海物联网创业投资基金\n",
      "上海观臻投资\n",
      "中天普创投资\n",
      "中民银发\n",
      "中科昂森创投\n",
      "凯石长江投资\n",
      "华光资本\n",
      "华南金控创投\n",
      "华天资本\n",
      "华禾投资\n",
      "商盈投资\n",
      "国嘉资本\n",
      "天玖创投\n",
      "太证资本\n",
      "安正路投资\n",
      "峰汇资本\n",
      "广东国科蓝海投资基金\n",
      "广东天使会\n",
      "康十医疗投资\n",
      "微众享\n",
      "快鹿投资\n",
      "报喜鸟创投\n",
      "文资数码投资基金\n",
      "时代创投\n",
      "晶凯资本\n",
      "朴雅投资\n",
      "杭州江畔投资\n",
      "永不落幕资本\n",
      "永辉瑞金\n",
      "泽清资本\n",
      "浦东科投\n",
      "淮安奕山资本\n",
      "深圳海量资本管理有限公司\n",
      "清华产业基金\n",
      "清科华璟创投\n",
      "漫游天下投资\n",
      "琴江创投\n",
      "百润央银\n",
      "盛世高金\n",
      "真为基金\n",
      "祖禾资本\n",
      "紫石投资\n",
      "美国IVP\n",
      "美圣投资\n",
      "美拓资本\n",
      "航天新能源基金\n",
      "荣联创富基金\n",
      "蓝色经济区产业基金\n",
      "西证股权投资\n",
      "言和资本\n",
      "金信资本\n",
      "青巢基金\n",
      "飞猪资本\n",
      "香樟投资\n",
      "香江创投\n",
      "骏凯资本\n",
      "高和翰同资本\n",
      "鸣客资本\n",
      "鼎元合创\n",
      "2B Holdings\n",
      "Axon Partners Group\n",
      "Blue Chip Venture\n",
      "Brookside Capital\n",
      "BWA\n",
      "Capvent\n",
      "FDS中国资本\n",
      "FLAG Capital Management\n",
      "Flybridge Capital\n",
      "FTV Capital\n",
      "Georgian Partners\n",
      "I Mercury Capital\n",
      "Incubate Fund\n",
      "Inspire\n",
      "J.H.Whitney\n",
      "Jumpstart\n",
      "KHC\n",
      "Kreos Capital\n",
      "Leitmotiv\n",
      "Lightbox\n",
      "Luxor Capital Group\n",
      "Maverick Capital\n",
      "Moraun Investments\n",
      "NIF SMBC Ventures\n",
      "Palo Alto Venture Science\n",
      "Resolute Ventures\n",
      "Richmond Global\n",
      "Rizvi Traverse\n",
      "Rose Park\n",
      "Route 66 Ventures\n",
      "SGE\n",
      "Sirius Venture Capital\n",
      "Velocity Capital\n",
      "Viling\n",
      "万得投资\n",
      "三泰控股\n",
      "上古资本\n",
      "上海光雅投资\n",
      "上海恒越投投\n",
      "业禾投资\n",
      "东方瑞宸\n",
      "东辰投资\n",
      "中山证券\n",
      "中援应急\n",
      "中港创富\n",
      "中玺资本\n",
      "中生金控\n",
      "中皓资本\n",
      "中通银泰\n",
      "中邮资本\n",
      "丹诚开普\n",
      "乐体创投\n",
      "乐清丰裕教育产业基金\n",
      "乾道基金\n",
      "云智投资\n",
      "云赛创投\n",
      "人保资本\n",
      "佐力资本\n",
      "佛山科风投\n",
      "佳信财富\n",
      "信能资本\n",
      "元道投资\n",
      "先睿投资\n",
      "光云投资\n",
      "光亮资本\n",
      "克拉天使\n",
      "克雷投资\n",
      "兰璞创投\n",
      "共创资本\n",
      "冠太创投\n",
      "凌志汉理基金\n",
      "凯信资本\n",
      "凯睿超投资\n",
      "分众方源\n",
      "创吧投资\n",
      "前海吉祥基金\n",
      "前海富盈通\n",
      "北创投\n",
      "华创赢达创投基金\n",
      "华旅新绩体育投资\n",
      "卓凡创投\n",
      "南山风投基金\n",
      "南粤基金\n",
      "史努克创投\n",
      "吉煤投资\n",
      "向日葵投资\n",
      "启峰\n",
      "和海创投\n",
      "国中创投\n",
      "国信招商基金\n",
      "大数据实验室\n",
      "天云睿海创投\n",
      "天会创投\n",
      "天宇建元创投\n",
      "天津汇和\n",
      "宁波亿人\n",
      "安徽国富基金\n",
      "宏融宝汇\n",
      "宝浩投资\n",
      "富成投资\n",
      "山东高新投\n",
      "山海昆仑资本\n",
      "巢投资\n",
      "康景资本\n",
      "征和惠通\n",
      "微派创投基金\n",
      "德智和投资\n",
      "德瑞恒通高端装备创投基金\n",
      "徽起京金\n",
      "恒一创投\n",
      "悦银基金\n",
      "慧勤投资\n",
      "拉萨楚源投资\n",
      "新余天嘉资本\n",
      "新途基金\n",
      "日照义聚投资\n",
      "时空五星\n",
      "易云投资\n",
      "易真资本\n",
      "星浩资本\n",
      "显比投资\n",
      "智慧谷投资\n",
      "朝乾投资\n",
      "杭州北大协同创新\n",
      "杭州天帮投资\n",
      "杰仕博资本\n",
      "林铂通投资\n",
      "梦想家资本\n",
      "梵顿资本\n",
      "正居资本\n",
      "武汉科投\n",
      "永惠基金\n",
      "汉昕创投\n",
      "江苏辰龙投资\n",
      "沃禾资本\n",
      "泉州文创产业投资\n",
      "法拉龙资本\n",
      "泛华诚业\n",
      "泰腾博越资本\n",
      "泽诚资本\n",
      "济南科风投\n",
      "浩益资本\n",
      "涌玖投资\n",
      "深圳一格数据投资\n",
      "深圳国投资本\n",
      "深圳泰丰移和\n",
      "清科辰光教育基金\n",
      "湖南二三创投\n",
      "瀚丰资本\n",
      "灏蓝资本\n",
      "点睛战略基金\n",
      "点睛资本\n",
      "烟台海源投资咨询有限公司\n",
      "熙信资本\n",
      "瑞盈卓越\n",
      "百舸资本\n",
      "盈创兴科\n",
      "盛太投资\n",
      "盛根资本\n",
      "睿合广润\n",
      "石家庄青创投资\n",
      "科创文华\n",
      "科惠价值投资\n",
      "箭征投资\n",
      "粤汇风投\n",
      "红实资本\n",
      "经典融商\n",
      "绵阳威盛创新基金\n",
      "缘合资本\n",
      "羽时资本\n",
      "翊翎雷地投资基金\n",
      "联德创投\n",
      "联马投资\n",
      "聚心资本\n",
      "舟山鼎泽投资\n",
      "苏州火炬创新创业孵化管理有限公司\n",
      "若水合投\n",
      "荷兰汇盈资产\n",
      "融汇荷多投资\n",
      "融锋创投\n",
      "西塔德资本\n",
      "西拉姆资产\n",
      "观唐投资\n",
      "诺星资本\n",
      "贝祥投资\n",
      "赛曼基金\n",
      "辰龙股权投资基金\n",
      "重庆战略基金\n",
      "金一创投\n",
      "长城资本\n",
      "震泰资本\n",
      "青宥仟和\n",
      "顶华投资\n",
      "题梦资本\n",
      "首业君京投资\n",
      "香格里拉投资\n",
      "高旗投资\n",
      "鲲翎资本\n",
      "默多克家族基金\n",
      "鼎锋明道投资\n",
      "Borealis Ventures\n",
      "Diamond Tech Ventures\n",
      "Eudaimonia Capital\n",
      "Fuel Capital\n",
      "German Startups Group\n",
      "High ground venture\n",
      "ICAN Capital\n",
      "iNovia Capital\n",
      "Kite Ventures\n",
      "Learn Capital\n",
      "Lightbamk\n",
      "MaRS\n",
      "Mercury Capital Partners\n",
      "mpep\n",
      "Otium Capital\n",
      "Rheos基金\n",
      "SOLERA创投\n",
      "Team Europe\n",
      "Trilogy风投\n",
      "UVF\n",
      "VMSInvestmentGroup\n",
      "一起创\n",
      "上海联合投资\n",
      "上海贝琛创业投资管理有限公司\n",
      "东方邦信投资\n",
      "两港投资\n",
      "中南资本\n",
      "中国高科技基金\n",
      "中投圣泉\n",
      "中新文创\n",
      "丰年资本\n",
      "久有股权投资基金\n",
      "亚欧创投\n",
      "伟涛资本\n",
      "佑扬投资\n",
      "信银（深圳）股权投资基金管理有限公司\n",
      "億联资本\n",
      "全经联儿童产业创投基金\n",
      "全经联文化旅游产业基金\n",
      "兴通投资\n",
      "兴铁产业投资基金\n",
      "凡道资本\n",
      "凯悦资本\n",
      "创思\n",
      "创瑞世纪投资\n",
      "前海华宇基金\n",
      "前海天和文化产业基金\n",
      "前海迈达斯基金\n",
      "力天融金投资\n",
      "加数资本\n",
      "北京三和系资产管理有限公司\n",
      "北京中技知识产权投资基金管理公司\n",
      "北京文资华章文化产业投资管理有限公司\n",
      "北京星丰时代投资有限公司\n",
      "十方麟玺投资\n",
      "华夏摩根\n",
      "华清道口资本\n",
      "南凯创投\n",
      "南电基金\n",
      "原苍资产\n",
      "合创团\n",
      "启沣投资\n",
      "和易谷雨\n",
      "嘉弘基金\n",
      "国信行健（北京）股权投资基金管理有限公司\n",
      "壹投基金\n",
      "天津燕山投资管理有限公司\n",
      "天津科创\n",
      "天犇投资\n",
      "宁波摩米融易创新投资管理有限公司\n",
      "宏景天下投资\n",
      "官地投资\n",
      "宝璋投资\n",
      "富海民享\n",
      "广东赛伯乐\n",
      "彤道投资\n",
      "恒华创投\n",
      "恒松资本\n",
      "悟空投资\n",
      "悦伟资本\n",
      "惠君创投\n",
      "新余华集资产管理有限公司\n",
      "日赢资本\n",
      "星空大地投资\n",
      "星罗恒渡\n",
      "晟唐创业\n",
      "普讯投资\n",
      "朗润金控\n",
      "木棉资本\n",
      "朴润投资\n",
      "杭州高科投\n",
      "横琴中鑫泰和\n",
      "欧肯投资\n",
      "永耀投资\n",
      "汇创资产\n",
      "汇功创投\n",
      "江苏华睿\n",
      "沃土投资\n",
      "沃银德克资本\n",
      "泓盛创投\n",
      "泰邦创投\n",
      "海尔广科\n",
      "海峡产业投资基金\n",
      "清风资本\n",
      "湖南开宜投资\n",
      "澜哲资本\n",
      "烟台荣兴投资有限公司\n",
      "环新创投\n",
      "瑞众基金\n",
      "甘泉资本\n",
      "百年世纪\n",
      "盛德资本\n",
      "盛方资本\n",
      "睿清众投\n",
      "祥泰智通\n",
      "福源汇远\n",
      "立达基金\n",
      "第壹阳光投资\n",
      "米贵创投\n",
      "米锐克集团\n",
      "紫菱资管\n",
      "罗斯柴尔德\n",
      "翱鹏资本\n",
      "而立资本\n",
      "联线资本\n",
      "芜湖众创基金\n",
      "苏州农发创投\n",
      "苏州岚源股权投资企业\n",
      "苏州工业园创投引导基金\n",
      "草根天使投资\n",
      "萍乡安普梦想企业咨询中心（有限合伙）\n",
      "西高投\n",
      "言瑞投资\n",
      "诚志瑞华医院投资\n",
      "诚悦资本\n",
      "贵安创投基金\n",
      "辉腾投资\n",
      "辉鸿天使投资\n",
      "重庆天使科技投资\n",
      "重庆市产业引导基金\n",
      "钜铖资本\n",
      "铂翡凯泰（北京）投资有限公司\n",
      "银河吉星\n",
      "长春科风投\n",
      "青岛大学生创投\n",
      "青岛市科技风险投资有限公司\n",
      "青岛清控高创\n",
      "高诚资本\n",
      "鲁创资本\n",
      "麦实创投\n",
      "龙瑞创投\n"
     ]
    }
   ],
   "source": [
    "for o in invert_org:\n",
    "    if(o['totalMember'] == 0):\n",
    "        print(o['org']['nameAbbr'])"
   ]
  },
  {
   "cell_type": "code",
   "execution_count": 232,
   "metadata": {},
   "outputs": [
    {
     "data": {
      "text/plain": [
       "15756"
      ]
     },
     "execution_count": 232,
     "metadata": {},
     "output_type": "execute_result"
    }
   ],
   "source": [
    "len(persons)"
   ]
  },
  {
   "cell_type": "code",
   "execution_count": 234,
   "metadata": {},
   "outputs": [
    {
     "data": {
      "text/plain": [
       "{'brief': '王强先生是真格基金的联合创始人。作为真格联合创始人，他还出任“真格基金企业灵魂研究院院长”，帮助投资组合的创始者们从哲学人文角度探讨企业真正的使命与意义。王强先生是中国最大教育培训机构新东方教育科技集团（NYSE:EDU）的联合创始人，曾担任公司的副总裁及董事长。王强先生也曾业余主持北京电视台的双语节目“FromWordtotheWorld”,一度风靡全国三十几个频道。2015年，王强先生被牛津大学哈里斯·曼彻斯特学院授予学院基石院士（终身荣銜）。',\n",
       " 'city': ['北京市'],\n",
       " 'id': 1839,\n",
       " 'industry': ['教育'],\n",
       " 'investCaseList': [{'id': 11718,\n",
       "   'investDate': 1398873600000,\n",
       "   'name': '渡鸦科技'}],\n",
       " 'investCnt': 1,\n",
       " 'logo': 'https://krplus-pic.b0.upaiyun.com/201701/05/973902ac194c50b488321839da3d97d8.png',\n",
       " 'name': '王强',\n",
       " 'orgName': '真格基金',\n",
       " 'phase': ['Pre-A轮', '天使轮'],\n",
       " 'position': '联合创始人'}"
      ]
     },
     "execution_count": 234,
     "metadata": {},
     "output_type": "execute_result"
    }
   ],
   "source": [
    "persons[0]"
   ]
  },
  {
   "cell_type": "code",
   "execution_count": 246,
   "metadata": {},
   "outputs": [
    {
     "name": "stdout",
     "output_type": "stream",
     "text": [
      "{'industry': 'SERVICE_INDUSTRIES', 'industryStr': '企业服务', 'id': 74721820, 'labelSource': ['企业服务', '广告营销', '微信营销', '精准营销', '自媒体', '服务商'], 'phase': 'ANGEL', 'exposureAmount': 0, 'operationTag': [], 'logo': 'http://krplus-pic.b0.upaiyun.com/201702/02/be57fdf7c0ce2bfdf0f41336c6a87338.jpg', 'investParts': [], 'funding': False, 'stockDate': 1486052810000, 'publishDate': 1492170336000, 'startDate': 1464105600000, 'cityStr': '上海市', 'tags': ['企业服务', '广告营销', '微信营销', '精准营销', '自媒体', '服务商'], 'city': 109, 'name': '红椒易', 'industryTag': [{'hot': 0, 'level': 0, 'expose': 1, 'id': 22, 'name': '企业服务'}, {'hot': 0, 'level': 1, 'expose': 0, 'id': 85, 'name': '广告营销'}, {'hot': 0, 'level': 2, 'expose': 0, 'id': 444, 'name': '微信营销'}, {'hot': 0, 'level': 2, 'expose': 1, 'id': 416, 'name': '精准营销'}, {'hot': 0, 'level': 1, 'expose': 1, 'id': 96, 'name': '自媒体'}, {'hot': 0, 'level': 2, 'expose': 0, 'id': 6839, 'name': '服务商'}], 'classic': False, 'followed': False, 'brief': '为品牌客户提供数据驱动的自媒体营销服务商', 'dau': 0, 'hot': False}\n"
     ]
    }
   ],
   "source": [
    "for c in startups:\n",
    "    if(c['name'] == '红椒易'):\n",
    "        print(c)"
   ]
  },
  {
   "cell_type": "code",
   "execution_count": null,
   "metadata": {
    "collapsed": true
   },
   "outputs": [],
   "source": []
  }
 ],
 "metadata": {
  "kernelspec": {
   "display_name": "Python 3",
   "language": "python",
   "name": "python3"
  },
  "language_info": {
   "codemirror_mode": {
    "name": "ipython",
    "version": 3
   },
   "file_extension": ".py",
   "mimetype": "text/x-python",
   "name": "python",
   "nbconvert_exporter": "python",
   "pygments_lexer": "ipython3",
   "version": "3.5.3"
  }
 },
 "nbformat": 4,
 "nbformat_minor": 2
}
