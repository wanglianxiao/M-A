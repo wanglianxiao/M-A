{
 "cells": [
  {
   "cell_type": "code",
   "execution_count": 1,
   "metadata": {
    "collapsed": true
   },
   "outputs": [],
   "source": [
    "import json"
   ]
  },
  {
   "cell_type": "code",
   "execution_count": 2,
   "metadata": {
    "collapsed": true
   },
   "outputs": [],
   "source": [
    "with open(\"invert_org.json\") as json_file:\n",
    "    invert_org = json.load(json_file)"
   ]
  },
  {
   "cell_type": "code",
   "execution_count": 3,
   "metadata": {},
   "outputs": [
    {
     "data": {
      "text/plain": [
       "{'latestInvest': [],\n",
       " 'org': {'id': 649,\n",
       "  'intro': '苏州龙瑞创业投资管理有限公司是由美籍华人SIUMAN SHIRLEY YEUNG创立的股权投资机构。',\n",
       "  'logo': '',\n",
       "  'nameAbbr': '龙瑞创投'},\n",
       " 'totalCount': 0,\n",
       " 'totalMember': 0}"
      ]
     },
     "execution_count": 3,
     "metadata": {},
     "output_type": "execute_result"
    }
   ],
   "source": [
    "invert_org[2531]"
   ]
  },
  {
   "cell_type": "code",
   "execution_count": 4,
   "metadata": {
    "collapsed": true
   },
   "outputs": [],
   "source": [
    "with open(\"persons.json\") as json_file:\n",
    "    persons = json.load(json_file)"
   ]
  },
  {
   "cell_type": "code",
   "execution_count": 8,
   "metadata": {},
   "outputs": [
    {
     "data": {
      "text/plain": [
       "{'brief': '齐飞先生曾任苏河汇合伙人。齐先生于2008年获得中华人民共和国保荐人资格，他有多年VC/PE股权投资经验，成功运作多家高科技企业上市、并购事宜。他是苏河汇最早的天使投资人，和罗钥一起出资创立苏河汇。',\n",
       " 'city': ['上海市'],\n",
       " 'id': 9430,\n",
       " 'industry': [],\n",
       " 'investCaseList': [],\n",
       " 'investCnt': 0,\n",
       " 'logo': 'https://krplus-pic.b0.upaiyun.com/avatar/v3/avatar_9430.jpg!480',\n",
       " 'name': '齐飞',\n",
       " 'orgName': '',\n",
       " 'phase': [],\n",
       " 'position': ''}"
      ]
     },
     "execution_count": 8,
     "metadata": {},
     "output_type": "execute_result"
    }
   ],
   "source": [
    "persons[15755]"
   ]
  },
  {
   "cell_type": "code",
   "execution_count": 9,
   "metadata": {},
   "outputs": [
    {
     "data": {
      "text/plain": [
       "15756"
      ]
     },
     "execution_count": 9,
     "metadata": {},
     "output_type": "execute_result"
    }
   ],
   "source": [
    "len(persons)"
   ]
  },
  {
   "cell_type": "code",
   "execution_count": 10,
   "metadata": {},
   "outputs": [
    {
     "data": {
      "text/plain": [
       "2532"
      ]
     },
     "execution_count": 10,
     "metadata": {},
     "output_type": "execute_result"
    }
   ],
   "source": [
    "len(invert_org)"
   ]
  },
  {
   "cell_type": "code",
   "execution_count": null,
   "metadata": {
    "collapsed": true
   },
   "outputs": [],
   "source": []
  }
 ],
 "metadata": {
  "kernelspec": {
   "display_name": "Python 3",
   "language": "python",
   "name": "python3"
  },
  "language_info": {
   "codemirror_mode": {
    "name": "ipython",
    "version": 3
   },
   "file_extension": ".py",
   "mimetype": "text/x-python",
   "name": "python",
   "nbconvert_exporter": "python",
   "pygments_lexer": "ipython3",
   "version": "3.5.3"
  }
 },
 "nbformat": 4,
 "nbformat_minor": 2
}
