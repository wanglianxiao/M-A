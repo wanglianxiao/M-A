{
 "cells": [
  {
   "cell_type": "code",
   "execution_count": 8,
   "metadata": {
    "collapsed": true
   },
   "outputs": [],
   "source": [
    "import requests\n",
    "import json\n",
    "import re"
   ]
  },
  {
   "cell_type": "code",
   "execution_count": 9,
   "metadata": {
    "collapsed": true
   },
   "outputs": [],
   "source": [
    "url = 'https://www.crunchbase.com/app/search/companies'\n",
    "param = {\n",
    "    \"field_ids\":[\"identifier\",\"category_groups\",\"headquarters_identifiers\",\"short_description\",\"rank\"],\n",
    "    \"order\":[{\"field_id\":\"rank\",\"sort\":\"asc\"}],\n",
    "    \"query\":[],\"field_aggregators\":[],\n",
    "    \"limit\":50\n",
    "    }"
   ]
  },
  {
   "cell_type": "code",
   "execution_count": 13,
   "metadata": {
    "collapsed": false
   },
   "outputs": [
    {
     "data": {
      "text/plain": [
       "'<!DOCTYPE html>\\n<html>\\n\\n  \\n  \\n  \\n  \\n\\n<head>\\n  <title>Pardon Our Interruption</title>\\n  <link rel=\"stylesheet\" type=\"text/css\" href=\"//cdn.distilnetworks.com/css/distil.css\" media=\"all\">\\n  <meta http-equiv=\"content-type\" content=\"text/html; charset=UTF-8\" />\\n  <meta name=\"viewport\" content=\"width=1000\" />\\n  <META NAME=\"robots\" CONTENT=\"noindex, nofollow\">\\n  <meta http-equiv=\"cache-control\" content=\"max-age=0\" />\\n  <meta http-equiv=\"cache-control\" content=\"no-cache\" />\\n  <meta http-equiv=\"expires\" content=\"0\" />\\n  <meta http-equiv=\"expires\" content=\"Tue, 01 Jan 1980 1:00:00 GMT\" />\\n  <meta http-equiv=\"pragma\" content=\"no-cache\" />\\n</head>\\n\\n<body class=\\'block-page\\'>\\n  <div class=\\'container\\'>\\n    <div class=\\'row\\'>\\n      <div class=\\'sidebar col-lg-4 col-sm-5\\'>\\n        <img src=\"//cdn.distilnetworks.com/images/anomaly-detected.png\" alt=\"0\">\\n      </div>\\n      <div class=\\'content col-lg-8 col-sm-7\\'>\\n        <h1>Pardon Our Interruption...</h1>\\n        <p>\\n          As you were browsing <strong>http://www.crunchbase.com</strong> something about your browser made us think you were a bot. There are a few reasons this might happen:\\n        </p>\\n        <ul>\\n          <li>You\\'re a power user moving through this website with super-human speed.</li>\\n          <li>You\\'ve disabled JavaScript in your web browser.</li>\\n          <li>A third-party browser plugin, such as Ghostery or  NoScript, is preventing JavaScript from running. Additional information is available in this <a title=\\'Third party browser plugins that block javascript\\' href=\\'http://ds.tl/help-third-party-plugins\\' target=\\'_blank\\'>support article</a>.</li>\\n        </ul>\\n        <p>\\n          To request an unblock, please fill out the form below and we will review it as soon as possible.\\n        </p>\\n\\n        <form id=\"ewdfxvveuqwvvrefq\" method=\"POST\" action=\"rvrearyddzbqvze.html\" style=\"display:none\"><label>Ignore: <input type=\"text\" name=\"email\" /></label><label>Ignore: <input type=\"text\" name=\"comments\" /></label><label>Ignore: <input type=\"submit\" value=\"Submit\" /></label></form><form id=\"demoForm\" method=\"post\" action=\"https://unblock.distilnetworks.com/\">\\n          <div class=\"form-group\">\\n            <label for=\"first_name\">First Name</label>\\n            <input type=\"text\" class=\"form-control\" id=\"first_name\" name=\"first_name\" value=\"\">\\n          </div>\\n          <div class=\"form-group\">\\n            <label for=\"last_name\">Last Name</label>\\n            <input type=\"text\" class=\"form-control\" id=\"last_name\" name=\"last_name\" value=\"\">\\n          </div>\\n          <div class=\"form-group\">\\n            <label for=\"email\">E-mail</label>\\n            <input type=\"text\" class=\"form-control\" id=\"email\" name=\"email\" value=\"\">\\n          </div>\\n          <div class=\"form-group hide\">\\n            <label for=\"city\">City</label>\\n            <input type=\"text\" class=\"form-control hide\" id=\"city\" name=\"city\" value=\"\">\\n          </div>\\n          <input type=\"hidden\" name=\"B\" value=\"2946:101.81.20.178:1E9B0FF7-9E1F-379F-A90E-F22277DBECF9\" />\\n          <input type=\"hidden\" name=\"P\" value=\"1E9B0FF7-9E1F-379F-A90E-F22277DBECF9\" />\\n          <input type=\"hidden\" name=\"I\" value=\"\" />\\n          <input type=\"hidden\" name=\"U\" value=\"\" />\\n          <input type=\"hidden\" name=\"V\" value=\"13\" />\\n          <input type=\"hidden\" name=\"D\" value=\"2946\" />\\n          <input type=\"hidden\" name=\"A\" value=\"832\" />\\n          <input type=\"hidden\" name=\"H\" value=\"www.crunchbase.com\" />\\n          <input type=\"hidden\" name=\"LOADED\" value=\"2017-04-24 08:25:43\" />\\n          <input type=\"hidden\" id=\"distil_block_identity_info\" name=\"PB\" value=\"\" />\\n          <hr>\\n          <button type=\"submit\" class=\"btn btn-primary btn-lg\">Request Unblock</button>\\n        </form>\\n        <p id=\"extraUnblock\">\\n          <small style=\"font-size: 8pt\">\\n            You reached this page when attempting to access http://www.crunchbase.com/app/search/companies?field_ids=identifier&amp;field_ids=category_groups&amp;field_ids=headquarters_identifiers&amp;field_ids=short_description&amp;field_ids=rank&amp;order=field_id&amp;order=sort&amp;limit=50 from 101.81.20.178 on 2017-04-24 08:25:43 GMT.<br />\\n            Trace: 9BF411F8-28C7-11E7-9A6A-A6090D71E076 via 07b7017c-1405-40ec-af33-86b2fe03c056\\n          </small>\\n        </p>\\n      </div>\\n    </div>\\n  </div>\\n</body>\\n\\n</html>\\n'"
      ]
     },
     "execution_count": 13,
     "metadata": {},
     "output_type": "execute_result"
    }
   ],
   "source": [
    "r = requests.get (url, params = param).text\n",
    "r"
   ]
  },
  {
   "cell_type": "code",
   "execution_count": 12,
   "metadata": {
    "collapsed": false
   },
   "outputs": [
    {
     "ename": "TypeError",
     "evalue": "the JSON object must be str, bytes or bytearray, not 'NoneType'",
     "output_type": "error",
     "traceback": [
      "\u001b[0;31m---------------------------------------------------------------------------\u001b[0m",
      "\u001b[0;31mTypeError\u001b[0m                                 Traceback (most recent call last)",
      "\u001b[0;32m<ipython-input-12-bfa22d77f918>\u001b[0m in \u001b[0;36m<module>\u001b[0;34m()\u001b[0m\n\u001b[1;32m      1\u001b[0m \u001b[0mt\u001b[0m \u001b[0;34m=\u001b[0m \u001b[0mre\u001b[0m\u001b[0;34m.\u001b[0m\u001b[0msearch\u001b[0m\u001b[0;34m(\u001b[0m\u001b[0;34mr'(?<=entities\\().*(?=\\);)'\u001b[0m\u001b[0;34m,\u001b[0m\u001b[0mr\u001b[0m\u001b[0;34m)\u001b[0m\u001b[0;34m\u001b[0m\u001b[0m\n\u001b[0;32m----> 2\u001b[0;31m \u001b[0mx\u001b[0m \u001b[0;34m=\u001b[0m \u001b[0mjson\u001b[0m\u001b[0;34m.\u001b[0m\u001b[0mloads\u001b[0m\u001b[0;34m(\u001b[0m\u001b[0mt\u001b[0m\u001b[0;34m)\u001b[0m\u001b[0;34m\u001b[0m\u001b[0m\n\u001b[0m\u001b[1;32m      3\u001b[0m \u001b[0;32mfor\u001b[0m \u001b[0mi\u001b[0m \u001b[0;32min\u001b[0m \u001b[0mx\u001b[0m\u001b[0;34m:\u001b[0m\u001b[0;34m\u001b[0m\u001b[0m\n\u001b[1;32m      4\u001b[0m     \u001b[0mprint\u001b[0m\u001b[0;34m(\u001b[0m\u001b[0mi\u001b[0m\u001b[0;34m[\u001b[0m\u001b[0;34m'short_description'\u001b[0m\u001b[0;34m]\u001b[0m\u001b[0;34m)\u001b[0m\u001b[0;34m\u001b[0m\u001b[0m\n",
      "\u001b[0;32m//anaconda/lib/python3.6/json/__init__.py\u001b[0m in \u001b[0;36mloads\u001b[0;34m(s, encoding, cls, object_hook, parse_float, parse_int, parse_constant, object_pairs_hook, **kw)\u001b[0m\n\u001b[1;32m    346\u001b[0m         \u001b[0;32mif\u001b[0m \u001b[0;32mnot\u001b[0m \u001b[0misinstance\u001b[0m\u001b[0;34m(\u001b[0m\u001b[0ms\u001b[0m\u001b[0;34m,\u001b[0m \u001b[0;34m(\u001b[0m\u001b[0mbytes\u001b[0m\u001b[0;34m,\u001b[0m \u001b[0mbytearray\u001b[0m\u001b[0;34m)\u001b[0m\u001b[0;34m)\u001b[0m\u001b[0;34m:\u001b[0m\u001b[0;34m\u001b[0m\u001b[0m\n\u001b[1;32m    347\u001b[0m             raise TypeError('the JSON object must be str, bytes or bytearray, '\n\u001b[0;32m--> 348\u001b[0;31m                             'not {!r}'.format(s.__class__.__name__))\n\u001b[0m\u001b[1;32m    349\u001b[0m         \u001b[0ms\u001b[0m \u001b[0;34m=\u001b[0m \u001b[0ms\u001b[0m\u001b[0;34m.\u001b[0m\u001b[0mdecode\u001b[0m\u001b[0;34m(\u001b[0m\u001b[0mdetect_encoding\u001b[0m\u001b[0;34m(\u001b[0m\u001b[0ms\u001b[0m\u001b[0;34m)\u001b[0m\u001b[0;34m,\u001b[0m \u001b[0;34m'surrogatepass'\u001b[0m\u001b[0;34m)\u001b[0m\u001b[0;34m\u001b[0m\u001b[0m\n\u001b[1;32m    350\u001b[0m \u001b[0;34m\u001b[0m\u001b[0m\n",
      "\u001b[0;31mTypeError\u001b[0m: the JSON object must be str, bytes or bytearray, not 'NoneType'"
     ]
    }
   ],
   "source": [
    "t = re.search(r'(?<=entities\\().*(?=\\);)',r).group(0)\n",
    "x = json.loads(t)\n",
    "for i in x:\n",
    "    print(i['short_description'])"
   ]
  },
  {
   "cell_type": "code",
   "execution_count": null,
   "metadata": {
    "collapsed": true
   },
   "outputs": [],
   "source": []
  }
 ],
 "metadata": {
  "kernelspec": {
   "display_name": "Python 3",
   "language": "python",
   "name": "python3"
  },
  "language_info": {
   "codemirror_mode": {
    "name": "ipython",
    "version": 3
   },
   "file_extension": ".py",
   "mimetype": "text/x-python",
   "name": "python",
   "nbconvert_exporter": "python",
   "pygments_lexer": "ipython3",
   "version": "3.6.0"
  }
 },
 "nbformat": 4,
 "nbformat_minor": 2
}
