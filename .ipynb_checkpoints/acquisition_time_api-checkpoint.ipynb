{
 "cells": [
  {
   "cell_type": "code",
   "execution_count": 5,
   "metadata": {},
   "outputs": [
    {
     "data": {
      "text/plain": [
       "100"
      ]
     },
     "execution_count": 5,
     "metadata": {},
     "output_type": "execute_result"
    }
   ],
   "source": [
    "import requests\n",
    "url = 'https://api.crunchbase.com/v/3/acquisitions?user_key=061719b3099d783a5ede926a159ee8a2'\n",
    "res = requests.get(url)\n",
    "res = res.json()\n",
    "count = 0\n",
    "f = open('test.txt', 'w')\n",
    "for item in res['data']['items']:\n",
    "#     print(item['properties']['created_at'])\n",
    "    f.write(str(item['properties']['created_at'])+'\\n')\n",
    "    count+=1\n",
    "f.close()\n",
    "count"
   ]
  },
  {
   "cell_type": "code",
   "execution_count": 35,
   "metadata": {},
   "outputs": [
    {
     "data": {
      "text/plain": [
       "10326"
      ]
     },
     "execution_count": 35,
     "metadata": {},
     "output_type": "execute_result"
    }
   ],
   "source": [
    "import requests\n",
    "import json\n",
    "url = 'https://api.crunchbase.com/v/3/acquisitions?user_key=061719b3099d783a5ede926a159ee8a2'\n",
    "param = {\n",
    "    'page':400\n",
    "}\n",
    "# count = 3000\n",
    "f = open('aquisition_unix_time_2.txt', 'w')\n",
    "while(param['page']<404):\n",
    "    param['page']+=1\n",
    "    res = requests.get(url, params = param)\n",
    "    res = res.json()\n",
    "    for item in res['data']['items']:\n",
    "        f.write(str(item['properties']['created_at']) + '\\n')\n",
    "        count+=1\n",
    "f.close()\n",
    "count"
   ]
  },
  {
   "cell_type": "code",
   "execution_count": null,
   "metadata": {
    "collapsed": true
   },
   "outputs": [],
   "source": []
  }
 ],
 "metadata": {
  "kernelspec": {
   "display_name": "Python 3",
   "language": "python",
   "name": "python3"
  },
  "language_info": {
   "codemirror_mode": {
    "name": "ipython",
    "version": 3
   },
   "file_extension": ".py",
   "mimetype": "text/x-python",
   "name": "python",
   "nbconvert_exporter": "python",
   "pygments_lexer": "ipython3",
   "version": "3.5.3"
  }
 },
 "nbformat": 4,
 "nbformat_minor": 2
}
