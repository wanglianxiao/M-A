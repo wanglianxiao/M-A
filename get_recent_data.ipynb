{
 "cells": [
  {
   "cell_type": "code",
   "execution_count": 1,
   "metadata": {
    "collapsed": true
   },
   "outputs": [],
   "source": [
    "import json\n",
    "import requests\n",
    "c_url = 'https://rong.36kr.com/n/api/column/0/company'\n",
    "c_param = {\n",
    "    'sortField' : 'STOCK_AT',\n",
    "    'p' : 1\n",
    "}\n",
    "param = {\n",
    "    'p' : 1\n",
    "}\n",
    "p_url = 'https://rong.36kr.com/n/api/search/user'\n",
    "o_url = 'https://rong.36kr.com/n/api/org/list'\n",
    "headers = {\n",
    "    'Cookie' : 'MEIQIA_EXTRA_TRACK_ID=775a22fa339511e79b2d067fd4f49ede; device-uid=68d06700-33f2-11e7-b51b-ab93852ba40f; kr_stat_uuid=7k4Km24904169; kwlo_iv=2h; Hm_lvt_e8ec47088ed7458ec32cde3617b23ee3=1494217122; Hm_lpvt_e8ec47088ed7458ec32cde3617b23ee3=1494250444; _kr_p_se=b5199443-09fa-4933-a9f5-72277ca6b372; krid_user_id=1059601474; krid_user_version=5; kr_plus_id=1059601474; kr_plus_token=jjKA2nSgr5x4WcpOkAASSFLSpHHN8299267_____; krnewsfrontss=6107d6d0bc8c6006cdce4a04b4e957cf; Hm_lvt_713123c60a0e86982326bae1a51083e1=1494217360; Hm_lpvt_713123c60a0e86982326bae1a51083e1=1494251662; kr_plus_utype=0; M-XSRF-TOKEN=41932728dcfb62d1e7b9fbc40884260a985189383ea8354c591be89ea116086b; aliyungf_tc=AQAAAO78fz/72Q4AvDGgtKMobYC3XaD1; c_name=point; Z-XSRF-TOKEN=eyJpdiI6Iko0cXh0ZXdpcXpMWWdSbW1TWUtZK3c9PSIsInZhbHVlIjoiWHFtanFsellSMjFRXC9YR2E1eTlNWCtKaEpcL21LaHBMb2E1bFhzeHhlTlwvcjVcL015TTQxMjlqZTkxK2FLRmZIcEtrOFZoSWFwclQ5elwvS0VJNTdLS0FNZz09IiwibWFjIjoiY2M1NDVhNDQ1NTBlYzJlNmRkMzNmMDM4MDE3MGQ1Njc4MjYxM2NjMTdhM2Y5MzBmMzQ4NmE1YjUzMzdlYmUzMyJ9; krchoasss=eyJpdiI6InZRU2U3ZE1qYThlT1JYSWwrSXluUEE9PSIsInZhbHVlIjoiUFZOR3hXdjFWd0ZpYmhjMGpadWFTbFZRclN4cHh5OWMrdHNuSnJpZlBvaXVmbFoxRDl0QUFxVktCcUd4TWdUNWcrRmhla2dvRVJyQUUrSUZ4WEVJS3c9PSIsIm1hYyI6IjQ3YWNlMGM4ZDg2ZmE3ZjQxNDRiNjI2MzUzMjBjYjY3YzNmMjg4MjU5NDI3MmI2ODUyN2RlYTE4OWI5ZTE4NTMifQ%3D%3D'\n",
    "}"
   ]
  },
  {
   "cell_type": "code",
   "execution_count": 46,
   "metadata": {
    "collapsed": true
   },
   "outputs": [],
   "source": [
    "# def get_recent_startups():\n",
    "#     param['p'] = 1\n",
    "#     r = requests.get(c_url, params = c_param, headers = headers).json()\n",
    "#     data = r['data']['pageData']['data']\n",
    "#     while(param['p'] < 50):\n",
    "#         param['p']+=1\n",
    "#         res = requests.get(c_url, params = c_param, headers = headers).json()\n",
    "#         data = data + res['data']['pageData']['data']\n",
    "#     return data\n",
    "\n",
    "param['p'] = 1\n",
    "r = requests.get(c_url, params = c_param, headers = headers).json()\n",
    "data = r['data']['pageData']['data']\n",
    "while(param['p'] < 50):\n",
    "    param['p']+=1\n",
    "    res = requests.get(c_url, params = c_param, headers = headers).json()\n",
    "    data = data + res['data']['pageData']['data']"
   ]
  },
  {
   "cell_type": "code",
   "execution_count": 18,
   "metadata": {
    "collapsed": true
   },
   "outputs": [],
   "source": [
    "def unique(seq, key):\n",
    "    seen = set()\n",
    "    seen_add = seen.add\n",
    "    return [x for x in seq if x[key] not in seen and not seen_add(x[key])]\n",
    "def sort_and_uniqify(data):\n",
    "    return unique(sorted(data, key=lambda x: x['id'], reverse=True), 'id')"
   ]
  },
  {
   "cell_type": "code",
   "execution_count": 41,
   "metadata": {
    "collapsed": true
   },
   "outputs": [],
   "source": [
    "startups1 = get_recent_startups()"
   ]
  },
  {
   "cell_type": "code",
   "execution_count": 42,
   "metadata": {},
   "outputs": [
    {
     "data": {
      "text/plain": [
       "50"
      ]
     },
     "execution_count": 42,
     "metadata": {},
     "output_type": "execute_result"
    }
   ],
   "source": [
    "param['p']"
   ]
  },
  {
   "cell_type": "code",
   "execution_count": 47,
   "metadata": {},
   "outputs": [
    {
     "data": {
      "text/plain": [
       "1000"
      ]
     },
     "execution_count": 47,
     "metadata": {},
     "output_type": "execute_result"
    }
   ],
   "source": [
    "len(data)"
   ]
  },
  {
   "cell_type": "code",
   "execution_count": 48,
   "metadata": {},
   "outputs": [],
   "source": [
    "data = sort_and_uniqify(data)"
   ]
  },
  {
   "cell_type": "code",
   "execution_count": 49,
   "metadata": {},
   "outputs": [
    {
     "data": {
      "text/plain": [
       "21"
      ]
     },
     "execution_count": 49,
     "metadata": {},
     "output_type": "execute_result"
    }
   ],
   "source": [
    "len(data)"
   ]
  },
  {
   "cell_type": "code",
   "execution_count": 26,
   "metadata": {
    "collapsed": true
   },
   "outputs": [],
   "source": [
    "def read_file(name):\n",
    "    with open(str(name) + \".json\") as json_file:\n",
    "        return json.load(json_file)"
   ]
  },
  {
   "cell_type": "code",
   "execution_count": 27,
   "metadata": {
    "collapsed": true
   },
   "outputs": [],
   "source": [
    "startups = read_file('startups')"
   ]
  },
  {
   "cell_type": "code",
   "execution_count": 28,
   "metadata": {},
   "outputs": [
    {
     "data": {
      "text/plain": [
       "65388"
      ]
     },
     "execution_count": 28,
     "metadata": {},
     "output_type": "execute_result"
    }
   ],
   "source": [
    "len(startups)"
   ]
  },
  {
   "cell_type": "code",
   "execution_count": 29,
   "metadata": {
    "collapsed": true
   },
   "outputs": [],
   "source": [
    "startups = startups + startups1"
   ]
  },
  {
   "cell_type": "code",
   "execution_count": 30,
   "metadata": {},
   "outputs": [
    {
     "data": {
      "text/plain": [
       "66388"
      ]
     },
     "execution_count": 30,
     "metadata": {},
     "output_type": "execute_result"
    }
   ],
   "source": [
    "len(startups)"
   ]
  },
  {
   "cell_type": "code",
   "execution_count": 31,
   "metadata": {
    "collapsed": true
   },
   "outputs": [],
   "source": [
    "startups = sort_and_uniqify(startups)"
   ]
  },
  {
   "cell_type": "code",
   "execution_count": 32,
   "metadata": {},
   "outputs": [
    {
     "data": {
      "text/plain": [
       "65408"
      ]
     },
     "execution_count": 32,
     "metadata": {},
     "output_type": "execute_result"
    }
   ],
   "source": [
    "len(startups)"
   ]
  },
  {
   "cell_type": "code",
   "execution_count": 35,
   "metadata": {},
   "outputs": [],
   "source": [
    "for c in startups:\n",
    "    if(c['id'] == 80100606):\n",
    "        print(c['name'])"
   ]
  },
  {
   "cell_type": "code",
   "execution_count": 36,
   "metadata": {
    "collapsed": true
   },
   "outputs": [],
   "source": [
    "for c in startups1:\n",
    "    if(c['id'] == 80100606):\n",
    "        print(c['name'])"
   ]
  },
  {
   "cell_type": "code",
   "execution_count": 37,
   "metadata": {
    "collapsed": true
   },
   "outputs": [],
   "source": [
    "startups1 = sort_and_uniqify(startups1)"
   ]
  },
  {
   "cell_type": "code",
   "execution_count": 38,
   "metadata": {},
   "outputs": [
    {
     "data": {
      "text/plain": [
       "20"
      ]
     },
     "execution_count": 38,
     "metadata": {},
     "output_type": "execute_result"
    }
   ],
   "source": [
    "len(startups1)"
   ]
  },
  {
   "cell_type": "code",
   "execution_count": 39,
   "metadata": {},
   "outputs": [
    {
     "data": {
      "text/plain": [
       "31"
      ]
     },
     "execution_count": 39,
     "metadata": {},
     "output_type": "execute_result"
    }
   ],
   "source": [
    "param['p']"
   ]
  },
  {
   "cell_type": "code",
   "execution_count": null,
   "metadata": {
    "collapsed": true
   },
   "outputs": [],
   "source": []
  }
 ],
 "metadata": {
  "kernelspec": {
   "display_name": "Python 3",
   "language": "python",
   "name": "python3"
  },
  "language_info": {
   "codemirror_mode": {
    "name": "ipython",
    "version": 3
   },
   "file_extension": ".py",
   "mimetype": "text/x-python",
   "name": "python",
   "nbconvert_exporter": "python",
   "pygments_lexer": "ipython3",
   "version": "3.5.3"
  }
 },
 "nbformat": 4,
 "nbformat_minor": 2
}
