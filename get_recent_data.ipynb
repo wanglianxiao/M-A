{
 "cells": [
  {
   "cell_type": "code",
   "execution_count": 1,
   "metadata": {
    "collapsed": true
   },
   "outputs": [],
   "source": [
    "import json\n",
    "import requests\n",
    "c_url = 'https://rong.36kr.com/n/api/column/0/company'\n",
    "c_param = {\n",
    "    'sortField' : 'STOCK_AT',\n",
    "    'p' : 1\n",
    "}\n",
    "param = {\n",
    "    'p' : 1\n",
    "}\n",
    "p_url = 'https://rong.36kr.com/n/api/search/user'\n",
    "o_url = 'https://rong.36kr.com/n/api/org/list'\n",
    "headers = {\n",
    "    'Cookie' : 'MEIQIA_EXTRA_TRACK_ID=775a22fa339511e79b2d067fd4f49ede; device-uid=68d06700-33f2-11e7-b51b-ab93852ba40f; kr_stat_uuid=7k4Km24904169; kwlo_iv=2h; Hm_lvt_e8ec47088ed7458ec32cde3617b23ee3=1494217122; Hm_lpvt_e8ec47088ed7458ec32cde3617b23ee3=1494250444; _kr_p_se=b5199443-09fa-4933-a9f5-72277ca6b372; krid_user_id=1059601474; krid_user_version=5; kr_plus_id=1059601474; kr_plus_token=jjKA2nSgr5x4WcpOkAASSFLSpHHN8299267_____; krnewsfrontss=6107d6d0bc8c6006cdce4a04b4e957cf; Hm_lvt_713123c60a0e86982326bae1a51083e1=1494217360; Hm_lpvt_713123c60a0e86982326bae1a51083e1=1494251662; kr_plus_utype=0; M-XSRF-TOKEN=41932728dcfb62d1e7b9fbc40884260a985189383ea8354c591be89ea116086b; aliyungf_tc=AQAAAO78fz/72Q4AvDGgtKMobYC3XaD1; c_name=point; Z-XSRF-TOKEN=eyJpdiI6Iko0cXh0ZXdpcXpMWWdSbW1TWUtZK3c9PSIsInZhbHVlIjoiWHFtanFsellSMjFRXC9YR2E1eTlNWCtKaEpcL21LaHBMb2E1bFhzeHhlTlwvcjVcL015TTQxMjlqZTkxK2FLRmZIcEtrOFZoSWFwclQ5elwvS0VJNTdLS0FNZz09IiwibWFjIjoiY2M1NDVhNDQ1NTBlYzJlNmRkMzNmMDM4MDE3MGQ1Njc4MjYxM2NjMTdhM2Y5MzBmMzQ4NmE1YjUzMzdlYmUzMyJ9; krchoasss=eyJpdiI6InZRU2U3ZE1qYThlT1JYSWwrSXluUEE9PSIsInZhbHVlIjoiUFZOR3hXdjFWd0ZpYmhjMGpadWFTbFZRclN4cHh5OWMrdHNuSnJpZlBvaXVmbFoxRDl0QUFxVktCcUd4TWdUNWcrRmhla2dvRVJyQUUrSUZ4WEVJS3c9PSIsIm1hYyI6IjQ3YWNlMGM4ZDg2ZmE3ZjQxNDRiNjI2MzUzMjBjYjY3YzNmMjg4MjU5NDI3MmI2ODUyN2RlYTE4OWI5ZTE4NTMifQ%3D%3D'\n",
    "}"
   ]
  },
  {
   "cell_type": "code",
   "execution_count": 10,
   "metadata": {
    "collapsed": true
   },
   "outputs": [],
   "source": [
    "def get_recent_startups():\n",
    "    param['p'] = 1\n",
    "    r = requests.get(c_url, params = c_param, headers = headers).json()\n",
    "    data = r['data']['pageData']['data']\n",
    "    while(param['p'] < 50):\n",
    "        param['p']+=1\n",
    "        res = requests.get(c_url, params = c_param, headers = headers).json()\n",
    "        data = data + res['data']['pageData']['data']\n",
    "    return data"
   ]
  },
  {
   "cell_type": "code",
   "execution_count": 11,
   "metadata": {},
   "outputs": [],
   "source": [
    "startups = get_recent_startups()"
   ]
  },
  {
   "cell_type": "code",
   "execution_count": 12,
   "metadata": {},
   "outputs": [
    {
     "data": {
      "text/plain": [
       "1000"
      ]
     },
     "execution_count": 12,
     "metadata": {},
     "output_type": "execute_result"
    }
   ],
   "source": [
    "len(startups)"
   ]
  },
  {
   "cell_type": "code",
   "execution_count": null,
   "metadata": {
    "collapsed": true
   },
   "outputs": [],
   "source": []
  }
 ],
 "metadata": {
  "kernelspec": {
   "display_name": "Python 3",
   "language": "python",
   "name": "python3"
  },
  "language_info": {
   "codemirror_mode": {
    "name": "ipython",
    "version": 3
   },
   "file_extension": ".py",
   "mimetype": "text/x-python",
   "name": "python",
   "nbconvert_exporter": "python",
   "pygments_lexer": "ipython3",
   "version": "3.5.3"
  }
 },
 "nbformat": 4,
 "nbformat_minor": 2
}
