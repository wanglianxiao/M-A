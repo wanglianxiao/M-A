{
 "cells": [
  {
   "cell_type": "code",
   "execution_count": 24,
   "metadata": {
    "collapsed": true
   },
   "outputs": [],
   "source": [
    "import json\n",
    "def read_file(name):\n",
    "    with open(str(name) + \".json\") as json_file:\n",
    "        return json.load(json_file)\n",
    "def read_file_full_name(file):\n",
    "    with open(file) as json_file:\n",
    "        return json.load(json_file)\n",
    "def write_file(name, data):\n",
    "    f = open(str(name) + '.json', 'w')\n",
    "    f.write(json.dumps(data))\n",
    "    f.close()"
   ]
  },
  {
   "cell_type": "code",
   "execution_count": 43,
   "metadata": {
    "collapsed": true
   },
   "outputs": [],
   "source": [
    "def unique(seq, key):\n",
    "    seen = set()\n",
    "    seen_add = seen.add\n",
    "    return [x for x in seq if x[key] not in seen and not seen_add(x[key])]\n",
    "def sort_and_uniqify(data):\n",
    "    return unique(sorted(data, key=lambda x: x['id'], reverse=True), 'id')"
   ]
  },
  {
   "cell_type": "code",
   "execution_count": 4,
   "metadata": {
    "collapsed": true
   },
   "outputs": [],
   "source": [
    "shenzhen = read_file(21903)\n",
    "guangzhou = read_file(21901)"
   ]
  },
  {
   "cell_type": "code",
   "execution_count": 6,
   "metadata": {},
   "outputs": [
    {
     "data": {
      "text/plain": [
       "7303"
      ]
     },
     "execution_count": 6,
     "metadata": {},
     "output_type": "execute_result"
    }
   ],
   "source": [
    "len(shenzhen)"
   ]
  },
  {
   "cell_type": "code",
   "execution_count": 7,
   "metadata": {},
   "outputs": [
    {
     "data": {
      "text/plain": [
       "4498"
      ]
     },
     "execution_count": 7,
     "metadata": {},
     "output_type": "execute_result"
    }
   ],
   "source": [
    "len(guangzhou)"
   ]
  },
  {
   "cell_type": "code",
   "execution_count": 8,
   "metadata": {},
   "outputs": [
    {
     "data": {
      "text/plain": [
       "10504"
      ]
     },
     "execution_count": 8,
     "metadata": {},
     "output_type": "execute_result"
    }
   ],
   "source": [
    "guangdong = read_file(119)\n",
    "len(guangdong)"
   ]
  },
  {
   "cell_type": "code",
   "execution_count": 9,
   "metadata": {
    "collapsed": true
   },
   "outputs": [],
   "source": [
    "merge = guangdong + shenzhen + guangzhou"
   ]
  },
  {
   "cell_type": "code",
   "execution_count": 12,
   "metadata": {
    "collapsed": true
   },
   "outputs": [],
   "source": [
    "guangdong = sort_and_uniqify(merge)"
   ]
  },
  {
   "cell_type": "code",
   "execution_count": 13,
   "metadata": {},
   "outputs": [
    {
     "data": {
      "text/plain": [
       "12818"
      ]
     },
     "execution_count": 13,
     "metadata": {},
     "output_type": "execute_result"
    }
   ],
   "source": [
    "len(guangdong)"
   ]
  },
  {
   "cell_type": "code",
   "execution_count": 15,
   "metadata": {
    "collapsed": true
   },
   "outputs": [],
   "source": [
    "write_file(119, guangdong)"
   ]
  },
  {
   "cell_type": "code",
   "execution_count": 16,
   "metadata": {},
   "outputs": [
    {
     "data": {
      "text/plain": [
       "12818"
      ]
     },
     "execution_count": 16,
     "metadata": {},
     "output_type": "execute_result"
    }
   ],
   "source": [
    "len(read_file(119))"
   ]
  },
  {
   "cell_type": "code",
   "execution_count": 20,
   "metadata": {},
   "outputs": [
    {
     "name": "stdout",
     "output_type": "stream",
     "text": [
      "hangzhou : 4176\n",
      "zhejiang : 5111\n",
      "total : 5111\n",
      "file check : 5111\n"
     ]
    }
   ],
   "source": [
    "hangzhou = read_file(21101)\n",
    "print('hangzhou : ' + str(len(hangzhou)))\n",
    "zhejiang = read_file(111)\n",
    "print('zhejiang : ' + str(len(zhejiang)))\n",
    "zhejiang = sort_and_uniqify(hangzhou + zhejiang)\n",
    "print(('total : ' + str(len(zhejiang))))\n",
    "write_file(111, zhejiang)\n",
    "print('file check : ' + str(len(read_file(111))))"
   ]
  },
  {
   "cell_type": "code",
   "execution_count": 22,
   "metadata": {},
   "outputs": [
    {
     "name": "stdout",
     "output_type": "stream",
     "text": [
      "chengdu : 2848\n",
      "sichuan : 3027\n",
      "merge : 3039\n",
      "file check : 3039\n"
     ]
    }
   ],
   "source": [
    "chengdu = read_file(22301)\n",
    "print('chengdu : ' + str(len(chengdu)))\n",
    "sichuan = read_file(123)\n",
    "print('sichuan : ' + str(3027))\n",
    "sichuan = sort_and_uniqify(chengdu + sichuan)\n",
    "print(('merge : ' + str(len(sichuan))))\n",
    "write_file(123, sichuan)\n",
    "print('file check : ' + str(len(read_file(123))))"
   ]
  },
  {
   "cell_type": "code",
   "execution_count": 20,
   "metadata": {},
   "outputs": [],
   "source": [
    "files = []\n",
    "for file in os.listdir():\n",
    "    if file.endswith(\".json\"):\n",
    "        files.append(file)"
   ]
  },
  {
   "cell_type": "code",
   "execution_count": 22,
   "metadata": {
    "scrolled": true
   },
   "outputs": [
    {
     "data": {
      "text/plain": [
       "35"
      ]
     },
     "execution_count": 22,
     "metadata": {},
     "output_type": "execute_result"
    }
   ],
   "source": [
    "len(files)"
   ]
  },
  {
   "cell_type": "code",
   "execution_count": 30,
   "metadata": {
    "collapsed": true
   },
   "outputs": [],
   "source": [
    "data = []"
   ]
  },
  {
   "cell_type": "code",
   "execution_count": 49,
   "metadata": {},
   "outputs": [
    {
     "name": "stdout",
     "output_type": "stream",
     "text": [
      "北京市 : 15032\n",
      "天津市 : 922\n",
      "河北省 : 387\n",
      "山西省 : 216\n",
      "内蒙古 : 114\n",
      "辽宁省 : 743\n",
      "吉林省 : 207\n",
      "黑龙江省 : 229\n",
      "上海市 : 9750\n",
      "江苏省 : 3621\n",
      "浙江省 : 5111\n",
      "安徽省 : 702\n",
      "福建省 : 1970\n",
      "江西省 : 440\n",
      "山东省 : 1469\n",
      "河南省 : 890\n",
      "湖北省 : 1542\n",
      "湖南省 : 961\n",
      "广东省 : 12818\n",
      "广西 : 296\n",
      "海南省 : 164\n",
      "重庆市 : 893\n",
      "四川省 : 3039\n",
      "贵州省 : 182\n",
      "云南省 : 288\n",
      "西藏 : 15\n",
      "陕西省 : 1058\n",
      "甘肃省 : 81\n",
      "青海省 : 24\n",
      "宁夏 : 36\n",
      "新疆 : 83\n",
      "台湾 : 319\n",
      "香港 : 304\n",
      "澳门 : 4\n",
      "海外 : 1541\n",
      "total : 65451\n",
      "uniqify : 65388\n"
     ]
    }
   ],
   "source": [
    "#merge all data\n",
    "data = []\n",
    "count = [] \n",
    "for file in files:\n",
    "    temp = read_file_full_name(file)\n",
    "    print(temp[0]['cityStr'] + ' : ' + str(len(temp)))\n",
    "    count.append([temp[0]['cityStr'], len(temp)])\n",
    "    data += temp\n",
    "print('total : ' + str(len(data)))\n",
    "data = sort_and_uniqify(data)\n",
    "print('uniqify : ' + str(len(data)))\n",
    "count.append(['sum', len(data)])"
   ]
  },
  {
   "cell_type": "code",
   "execution_count": 50,
   "metadata": {},
   "outputs": [
    {
     "data": {
      "text/plain": [
       "[['北京市', 15032],\n",
       " ['天津市', 922],\n",
       " ['河北省', 387],\n",
       " ['山西省', 216],\n",
       " ['内蒙古', 114],\n",
       " ['辽宁省', 743],\n",
       " ['吉林省', 207],\n",
       " ['黑龙江省', 229],\n",
       " ['上海市', 9750],\n",
       " ['江苏省', 3621],\n",
       " ['浙江省', 5111],\n",
       " ['安徽省', 702],\n",
       " ['福建省', 1970],\n",
       " ['江西省', 440],\n",
       " ['山东省', 1469],\n",
       " ['河南省', 890],\n",
       " ['湖北省', 1542],\n",
       " ['湖南省', 961],\n",
       " ['广东省', 12818],\n",
       " ['广西', 296],\n",
       " ['海南省', 164],\n",
       " ['重庆市', 893],\n",
       " ['四川省', 3039],\n",
       " ['贵州省', 182],\n",
       " ['云南省', 288],\n",
       " ['西藏', 15],\n",
       " ['陕西省', 1058],\n",
       " ['甘肃省', 81],\n",
       " ['青海省', 24],\n",
       " ['宁夏', 36],\n",
       " ['新疆', 83],\n",
       " ['台湾', 319],\n",
       " ['香港', 304],\n",
       " ['澳门', 4],\n",
       " ['海外', 1541],\n",
       " ['sum', 65388]]"
      ]
     },
     "execution_count": 50,
     "metadata": {},
     "output_type": "execute_result"
    }
   ],
   "source": [
    "count"
   ]
  },
  {
   "cell_type": "code",
   "execution_count": null,
   "metadata": {
    "collapsed": true
   },
   "outputs": [],
   "source": []
  }
 ],
 "metadata": {
  "kernelspec": {
   "display_name": "Python 3",
   "language": "python",
   "name": "python3"
  },
  "language_info": {
   "codemirror_mode": {
    "name": "ipython",
    "version": 3
   },
   "file_extension": ".py",
   "mimetype": "text/x-python",
   "name": "python",
   "nbconvert_exporter": "python",
   "pygments_lexer": "ipython3",
   "version": "3.5.3"
  }
 },
 "nbformat": 4,
 "nbformat_minor": 2
}
