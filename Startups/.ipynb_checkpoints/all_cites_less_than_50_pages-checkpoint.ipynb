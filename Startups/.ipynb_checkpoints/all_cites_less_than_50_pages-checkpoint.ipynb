{
 "cells": [
  {
   "cell_type": "markdown",
   "metadata": {},
   "source": [
    "Gansu(128) Guangdong(119) Guangxi(120) Guizhou(124)-182"
   ]
  },
  {
   "cell_type": "code",
   "execution_count": 1,
   "metadata": {},
   "outputs": [
    {
     "data": {
      "text/plain": [
       "937497"
      ]
     },
     "execution_count": 1,
     "metadata": {},
     "output_type": "execute_result"
    }
   ],
   "source": [
    "import json\n",
    "import requests\n",
    "url = 'https://rong.36kr.com/n/api/column/0/company'\n",
    "param = {\n",
    "    'city' : 112,\n",
    "    'sortField' : 'STOCK_AT',\n",
    "    'p' : 1\n",
    "}\n",
    "headers = {\n",
    "    'Cookie' : 'MEIQIA_EXTRA_TRACK_ID=775a22fa339511e79b2d067fd4f49ede; device-uid=68d06700-33f2-11e7-b51b-ab93852ba40f; kr_stat_uuid=7k4Km24904169; kwlo_iv=2h; Hm_lvt_e8ec47088ed7458ec32cde3617b23ee3=1494217122; Hm_lpvt_e8ec47088ed7458ec32cde3617b23ee3=1494250444; _kr_p_se=b5199443-09fa-4933-a9f5-72277ca6b372; krid_user_id=1059601474; krid_user_version=5; kr_plus_id=1059601474; kr_plus_token=jjKA2nSgr5x4WcpOkAASSFLSpHHN8299267_____; krnewsfrontss=6107d6d0bc8c6006cdce4a04b4e957cf; Hm_lvt_713123c60a0e86982326bae1a51083e1=1494217360; Hm_lpvt_713123c60a0e86982326bae1a51083e1=1494251662; kr_plus_utype=0; M-XSRF-TOKEN=41932728dcfb62d1e7b9fbc40884260a985189383ea8354c591be89ea116086b; aliyungf_tc=AQAAAO78fz/72Q4AvDGgtKMobYC3XaD1; c_name=point; Z-XSRF-TOKEN=eyJpdiI6Iko0cXh0ZXdpcXpMWWdSbW1TWUtZK3c9PSIsInZhbHVlIjoiWHFtanFsellSMjFRXC9YR2E1eTlNWCtKaEpcL21LaHBMb2E1bFhzeHhlTlwvcjVcL015TTQxMjlqZTkxK2FLRmZIcEtrOFZoSWFwclQ5elwvS0VJNTdLS0FNZz09IiwibWFjIjoiY2M1NDVhNDQ1NTBlYzJlNmRkMzNmMDM4MDE3MGQ1Njc4MjYxM2NjMTdhM2Y5MzBmMzQ4NmE1YjUzMzdlYmUzMyJ9; krchoasss=eyJpdiI6InZRU2U3ZE1qYThlT1JYSWwrSXluUEE9PSIsInZhbHVlIjoiUFZOR3hXdjFWd0ZpYmhjMGpadWFTbFZRclN4cHh5OWMrdHNuSnJpZlBvaXVmbFoxRDl0QUFxVktCcUd4TWdUNWcrRmhla2dvRVJyQUUrSUZ4WEVJS3c9PSIsIm1hYyI6IjQ3YWNlMGM4ZDg2ZmE3ZjQxNDRiNjI2MzUzMjBjYjY3YzNmMjg4MjU5NDI3MmI2ODUyN2RlYTE4OWI5ZTE4NTMifQ%3D%3D'\n",
    "}\n",
    "r = requests.get(url, params = param, headers = headers).json()\n",
    "data = r['data']['pageData']['data']\n",
    "while(param['p'] < r['data']['pageData']['totalPages']):\n",
    "    param['p']+=1\n",
    "    res = requests.get(url, params = param, headers = headers).json()\n",
    "    data = data + res['data']['pageData']['data']\n",
    "len(data)\n",
    "f = open('112-Anhui.json', 'w')\n",
    "f.write(json.dumps(data))"
   ]
  },
  {
   "cell_type": "code",
   "execution_count": 2,
   "metadata": {},
   "outputs": [
    {
     "data": {
      "text/plain": [
       "702"
      ]
     },
     "execution_count": 2,
     "metadata": {},
     "output_type": "execute_result"
    }
   ],
   "source": [
    "# anhui\n",
    "len(data)"
   ]
  },
  {
   "cell_type": "code",
   "execution_count": 24,
   "metadata": {
    "collapsed": true
   },
   "outputs": [],
   "source": [
    "def GetStartupsByCity(city_code):\n",
    "    param['p'] = 1\n",
    "    param['city'] = city_code\n",
    "    r = requests.get(url, params = param, headers = headers).json()\n",
    "    data = r['data']['pageData']['data']\n",
    "    while(param['p'] < r['data']['pageData']['totalPages']):\n",
    "        param['p']+=1\n",
    "        res = requests.get(url, params = param, headers = headers).json()\n",
    "        data = data + res['data']['pageData']['data']\n",
    "    len(data)\n",
    "    f = open(str(param['city'])+'.json', 'w')\n",
    "    f.write(json.dumps(data))\n",
    "    f.close()"
   ]
  },
  {
   "cell_type": "markdown",
   "metadata": {},
   "source": [
    "128-Gansu 119-Guangdong Guangxi-120"
   ]
  },
  {
   "cell_type": "code",
   "execution_count": 25,
   "metadata": {
    "collapsed": true
   },
   "outputs": [],
   "source": [
    "GetStartupsByCity(128)"
   ]
  },
  {
   "cell_type": "code",
   "execution_count": 27,
   "metadata": {
    "scrolled": true
   },
   "outputs": [
    {
     "data": {
      "text/plain": [
       "702"
      ]
     },
     "execution_count": 27,
     "metadata": {},
     "output_type": "execute_result"
    }
   ],
   "source": [
    "len(data)"
   ]
  },
  {
   "cell_type": "code",
   "execution_count": 28,
   "metadata": {},
   "outputs": [
    {
     "data": {
      "text/plain": [
       "{'city': 128, 'p': 5, 'sortField': 'STOCK_AT'}"
      ]
     },
     "execution_count": 28,
     "metadata": {},
     "output_type": "execute_result"
    }
   ],
   "source": [
    "param"
   ]
  },
  {
   "cell_type": "code",
   "execution_count": 29,
   "metadata": {
    "collapsed": true
   },
   "outputs": [],
   "source": [
    "param['p'] = 1"
   ]
  },
  {
   "cell_type": "code",
   "execution_count": 30,
   "metadata": {
    "collapsed": true
   },
   "outputs": [],
   "source": [
    "r = requests.get(url, params = param, headers = headers).json()"
   ]
  },
  {
   "cell_type": "code",
   "execution_count": 31,
   "metadata": {
    "collapsed": true
   },
   "outputs": [],
   "source": [
    "data = r['data']['pageData']['data']"
   ]
  },
  {
   "cell_type": "code",
   "execution_count": 32,
   "metadata": {},
   "outputs": [
    {
     "data": {
      "text/plain": [
       "20"
      ]
     },
     "execution_count": 32,
     "metadata": {},
     "output_type": "execute_result"
    }
   ],
   "source": [
    "len(data)"
   ]
  },
  {
   "cell_type": "code",
   "execution_count": 33,
   "metadata": {},
   "outputs": [
    {
     "data": {
      "text/plain": [
       "81"
      ]
     },
     "execution_count": 33,
     "metadata": {},
     "output_type": "execute_result"
    }
   ],
   "source": [
    "while(param['p'] < r['data']['pageData']['totalPages']):\n",
    "    param['p']+=1\n",
    "    res = requests.get(url, params = param, headers = headers).json()\n",
    "    data = data + res['data']['pageData']['data']\n",
    "len(data)"
   ]
  },
  {
   "cell_type": "code",
   "execution_count": 34,
   "metadata": {
    "collapsed": true
   },
   "outputs": [],
   "source": [
    "f = open(str(param['city'])+'.json', 'w')\n",
    "f.write(json.dumps(data))\n",
    "f.close()"
   ]
  },
  {
   "cell_type": "code",
   "execution_count": 35,
   "metadata": {},
   "outputs": [
    {
     "data": {
      "text/plain": [
       "81"
      ]
     },
     "execution_count": 35,
     "metadata": {},
     "output_type": "execute_result"
    }
   ],
   "source": [
    "len(data)"
   ]
  },
  {
   "cell_type": "code",
   "execution_count": 36,
   "metadata": {
    "collapsed": true
   },
   "outputs": [],
   "source": [
    "GetStartupsByCity(120) #guangxi 296"
   ]
  },
  {
   "cell_type": "code",
   "execution_count": 38,
   "metadata": {
    "collapsed": true
   },
   "outputs": [],
   "source": [
    "GetStartupsByCity(124) #guizhou"
   ]
  },
  {
   "cell_type": "code",
   "execution_count": 39,
   "metadata": {
    "collapsed": true
   },
   "outputs": [],
   "source": [
    "GetStartupsByCity(121) #hainan 164"
   ]
  },
  {
   "cell_type": "code",
   "execution_count": 40,
   "metadata": {
    "collapsed": true
   },
   "outputs": [],
   "source": [
    "GetStartupsByCity(103) #hebei"
   ]
  },
  {
   "cell_type": "code",
   "execution_count": 41,
   "metadata": {
    "collapsed": true
   },
   "outputs": [],
   "source": [
    "GetStartupsByCity(116) #henan 890"
   ]
  },
  {
   "cell_type": "code",
   "execution_count": 42,
   "metadata": {
    "collapsed": true
   },
   "outputs": [],
   "source": [
    "GetStartupsByCity(108) #heilongjiang"
   ]
  },
  {
   "cell_type": "code",
   "execution_count": 43,
   "metadata": {
    "collapsed": true
   },
   "outputs": [],
   "source": [
    "GetStartupsByCity(118) #hunan 961"
   ]
  },
  {
   "cell_type": "code",
   "execution_count": 44,
   "metadata": {
    "collapsed": true
   },
   "outputs": [],
   "source": [
    "GetStartupsByCity(107) #jilin 207"
   ]
  },
  {
   "cell_type": "code",
   "execution_count": 45,
   "metadata": {
    "collapsed": true
   },
   "outputs": [],
   "source": [
    "GetStartupsByCity(114) #jiangxi 440"
   ]
  },
  {
   "cell_type": "code",
   "execution_count": 46,
   "metadata": {
    "collapsed": true
   },
   "outputs": [],
   "source": [
    "GetStartupsByCity(106) #liaoning 743"
   ]
  },
  {
   "cell_type": "code",
   "execution_count": 47,
   "metadata": {
    "collapsed": true
   },
   "outputs": [],
   "source": [
    "GetStartupsByCity(130) #ningxia 36"
   ]
  },
  {
   "cell_type": "code",
   "execution_count": 48,
   "metadata": {
    "collapsed": true
   },
   "outputs": [],
   "source": [
    "GetStartupsByCity(129) #qinghai 24"
   ]
  },
  {
   "cell_type": "code",
   "execution_count": 49,
   "metadata": {
    "collapsed": true
   },
   "outputs": [],
   "source": [
    "GetStartupsByCity(104) #shanxi 216"
   ]
  },
  {
   "cell_type": "code",
   "execution_count": 50,
   "metadata": {
    "collapsed": true
   },
   "outputs": [],
   "source": [
    "GetStartupsByCity(125) #yunnan 288"
   ]
  },
  {
   "cell_type": "code",
   "execution_count": 51,
   "metadata": {
    "collapsed": true
   },
   "outputs": [],
   "source": [
    "GetStartupsByCity(105) #neimeng 114"
   ]
  },
  {
   "cell_type": "code",
   "execution_count": 52,
   "metadata": {
    "collapsed": true
   },
   "outputs": [],
   "source": [
    "GetStartupsByCity(131) #xinjiang 83"
   ]
  },
  {
   "cell_type": "code",
   "execution_count": 53,
   "metadata": {
    "collapsed": true
   },
   "outputs": [],
   "source": [
    "GetStartupsByCity(126) #xizang 15"
   ]
  },
  {
   "cell_type": "code",
   "execution_count": 54,
   "metadata": {
    "collapsed": true
   },
   "outputs": [],
   "source": [
    "GetStartupsByCity(133) #xianggang 304"
   ]
  },
  {
   "cell_type": "code",
   "execution_count": 55,
   "metadata": {
    "collapsed": true
   },
   "outputs": [],
   "source": [
    "GetStartupsByCity(134) #aomen 4"
   ]
  },
  {
   "cell_type": "code",
   "execution_count": 56,
   "metadata": {
    "collapsed": true
   },
   "outputs": [],
   "source": [
    "GetStartupsByCity(132) #taiwan 319"
   ]
  },
  {
   "cell_type": "code",
   "execution_count": 57,
   "metadata": {
    "collapsed": true
   },
   "outputs": [],
   "source": [
    "GetStartupsByCity(102) #tianjin 922"
   ]
  },
  {
   "cell_type": "code",
   "execution_count": 58,
   "metadata": {
    "collapsed": true
   },
   "outputs": [],
   "source": [
    "# Shanxi(127) 1058\n",
    "GetStartupsByCity(127)"
   ]
  },
  {
   "cell_type": "code",
   "execution_count": null,
   "metadata": {
    "collapsed": true
   },
   "outputs": [],
   "source": []
  }
 ],
 "metadata": {
  "kernelspec": {
   "display_name": "Python 3",
   "language": "python",
   "name": "python3"
  },
  "language_info": {
   "codemirror_mode": {
    "name": "ipython",
    "version": 3
   },
   "file_extension": ".py",
   "mimetype": "text/x-python",
   "name": "python",
   "nbconvert_exporter": "python",
   "pygments_lexer": "ipython3",
   "version": "3.5.3"
  }
 },
 "nbformat": 4,
 "nbformat_minor": 2
}
