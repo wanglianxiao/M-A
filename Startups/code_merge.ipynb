{
 "cells": [
  {
   "cell_type": "code",
   "execution_count": null,
   "metadata": {
    "collapsed": true
   },
   "outputs": [],
   "source": [
    "创业项目: 65388/83059\n",
    "投资机构: all/2532\n",
    "投资人:   all/15756"
   ]
  },
  {
   "cell_type": "code",
   "execution_count": 24,
   "metadata": {
    "collapsed": true
   },
   "outputs": [],
   "source": [
    "import json\n",
    "def read_file(name):\n",
    "    with open(str(name) + \".json\") as json_file:\n",
    "        return json.load(json_file)\n",
    "def read_file_full_name(file):\n",
    "    with open(file) as json_file:\n",
    "        return json.load(json_file)\n",
    "def write_file(name, data):\n",
    "    f = open(str(name) + '.json', 'w')\n",
    "    f.write(json.dumps(data))\n",
    "    f.close()"
   ]
  },
  {
   "cell_type": "code",
   "execution_count": 43,
   "metadata": {
    "collapsed": true
   },
   "outputs": [],
   "source": [
    "def unique(seq, key):\n",
    "    seen = set()\n",
    "    seen_add = seen.add\n",
    "    return [x for x in seq if x[key] not in seen and not seen_add(x[key])]\n",
    "def sort_and_uniqify(data):\n",
    "    return unique(sorted(data, key=lambda x: x['id'], reverse=True), 'id')"
   ]
  },
  {
   "cell_type": "code",
   "execution_count": 4,
   "metadata": {
    "collapsed": true
   },
   "outputs": [],
   "source": [
    "shenzhen = read_file(21903)\n",
    "guangzhou = read_file(21901)"
   ]
  },
  {
   "cell_type": "code",
   "execution_count": 6,
   "metadata": {},
   "outputs": [
    {
     "data": {
      "text/plain": [
       "7303"
      ]
     },
     "execution_count": 6,
     "metadata": {},
     "output_type": "execute_result"
    }
   ],
   "source": [
    "len(shenzhen)"
   ]
  },
  {
   "cell_type": "code",
   "execution_count": 7,
   "metadata": {},
   "outputs": [
    {
     "data": {
      "text/plain": [
       "4498"
      ]
     },
     "execution_count": 7,
     "metadata": {},
     "output_type": "execute_result"
    }
   ],
   "source": [
    "len(guangzhou)"
   ]
  },
  {
   "cell_type": "code",
   "execution_count": 8,
   "metadata": {},
   "outputs": [
    {
     "data": {
      "text/plain": [
       "10504"
      ]
     },
     "execution_count": 8,
     "metadata": {},
     "output_type": "execute_result"
    }
   ],
   "source": [
    "guangdong = read_file(119)\n",
    "len(guangdong)"
   ]
  },
  {
   "cell_type": "code",
   "execution_count": 9,
   "metadata": {
    "collapsed": true
   },
   "outputs": [],
   "source": [
    "merge = guangdong + shenzhen + guangzhou"
   ]
  },
  {
   "cell_type": "code",
   "execution_count": 12,
   "metadata": {
    "collapsed": true
   },
   "outputs": [],
   "source": [
    "guangdong = sort_and_uniqify(merge)"
   ]
  },
  {
   "cell_type": "code",
   "execution_count": 13,
   "metadata": {},
   "outputs": [
    {
     "data": {
      "text/plain": [
       "12818"
      ]
     },
     "execution_count": 13,
     "metadata": {},
     "output_type": "execute_result"
    }
   ],
   "source": [
    "len(guangdong)"
   ]
  },
  {
   "cell_type": "code",
   "execution_count": 15,
   "metadata": {
    "collapsed": true
   },
   "outputs": [],
   "source": [
    "write_file(119, guangdong)"
   ]
  },
  {
   "cell_type": "code",
   "execution_count": 16,
   "metadata": {},
   "outputs": [
    {
     "data": {
      "text/plain": [
       "12818"
      ]
     },
     "execution_count": 16,
     "metadata": {},
     "output_type": "execute_result"
    }
   ],
   "source": [
    "len(read_file(119))"
   ]
  },
  {
   "cell_type": "code",
   "execution_count": 20,
   "metadata": {},
   "outputs": [
    {
     "name": "stdout",
     "output_type": "stream",
     "text": [
      "hangzhou : 4176\n",
      "zhejiang : 5111\n",
      "total : 5111\n",
      "file check : 5111\n"
     ]
    }
   ],
   "source": [
    "hangzhou = read_file(21101)\n",
    "print('hangzhou : ' + str(len(hangzhou)))\n",
    "zhejiang = read_file(111)\n",
    "print('zhejiang : ' + str(len(zhejiang)))\n",
    "zhejiang = sort_and_uniqify(hangzhou + zhejiang)\n",
    "print(('total : ' + str(len(zhejiang))))\n",
    "write_file(111, zhejiang)\n",
    "print('file check : ' + str(len(read_file(111))))"
   ]
  },
  {
   "cell_type": "code",
   "execution_count": 22,
   "metadata": {},
   "outputs": [
    {
     "name": "stdout",
     "output_type": "stream",
     "text": [
      "chengdu : 2848\n",
      "sichuan : 3027\n",
      "merge : 3039\n",
      "file check : 3039\n"
     ]
    }
   ],
   "source": [
    "chengdu = read_file(22301)\n",
    "print('chengdu : ' + str(len(chengdu)))\n",
    "sichuan = read_file(123)\n",
    "print('sichuan : ' + str(3027))\n",
    "sichuan = sort_and_uniqify(chengdu + sichuan)\n",
    "print(('merge : ' + str(len(sichuan))))\n",
    "write_file(123, sichuan)\n",
    "print('file check : ' + str(len(read_file(123))))"
   ]
  },
  {
   "cell_type": "code",
   "execution_count": 20,
   "metadata": {
    "collapsed": true
   },
   "outputs": [],
   "source": [
    "files = []\n",
    "for file in os.listdir():\n",
    "    if file.endswith(\".json\"):\n",
    "        files.append(file)"
   ]
  },
  {
   "cell_type": "code",
   "execution_count": 22,
   "metadata": {
    "scrolled": true
   },
   "outputs": [
    {
     "data": {
      "text/plain": [
       "35"
      ]
     },
     "execution_count": 22,
     "metadata": {},
     "output_type": "execute_result"
    }
   ],
   "source": [
    "len(files)"
   ]
  },
  {
   "cell_type": "code",
   "execution_count": 30,
   "metadata": {
    "collapsed": true
   },
   "outputs": [],
   "source": [
    "data = []"
   ]
  },
  {
   "cell_type": "code",
   "execution_count": 100,
   "metadata": {},
   "outputs": [
    {
     "name": "stdout",
     "output_type": "stream",
     "text": [
      "北京市 : 15032\n",
      "天津市 : 922\n",
      "河北省 : 387\n",
      "山西省 : 216\n",
      "内蒙古 : 114\n",
      "辽宁省 : 743\n",
      "吉林省 : 207\n",
      "黑龙江省 : 229\n",
      "上海市 : 9750\n",
      "江苏省 : 3621\n",
      "浙江省 : 5111\n",
      "安徽省 : 702\n",
      "福建省 : 1970\n",
      "江西省 : 440\n",
      "山东省 : 1469\n",
      "河南省 : 890\n",
      "湖北省 : 1542\n",
      "湖南省 : 961\n",
      "广东省 : 12818\n",
      "广西 : 296\n",
      "海南省 : 164\n",
      "重庆市 : 893\n",
      "四川省 : 3039\n",
      "贵州省 : 182\n",
      "云南省 : 288\n",
      "西藏 : 15\n",
      "陕西省 : 1058\n",
      "甘肃省 : 81\n",
      "青海省 : 24\n",
      "宁夏 : 36\n",
      "新疆 : 83\n",
      "台湾 : 319\n",
      "香港 : 304\n",
      "澳门 : 4\n",
      "海外 : 1541\n",
      "total : 65451\n",
      "uniqify : 65388\n"
     ]
    }
   ],
   "source": [
    "#merge all data\n",
    "data = []\n",
    "count = [] \n",
    "for file in files:\n",
    "    temp = read_file_full_name(file)\n",
    "    print(temp[0]['cityStr'] + ' : ' + str(len(temp)))\n",
    "    count.append([temp[0]['cityStr'], len(temp)])\n",
    "    data += temp\n",
    "print('total : ' + str(len(data)))\n",
    "data = sort_and_uniqify(data)\n",
    "print('uniqify : ' + str(len(data)))\n",
    "count.append(['sum', len(data)])"
   ]
  },
  {
   "cell_type": "code",
   "execution_count": 50,
   "metadata": {},
   "outputs": [
    {
     "data": {
      "text/plain": [
       "[['北京市', 15032],\n",
       " ['天津市', 922],\n",
       " ['河北省', 387],\n",
       " ['山西省', 216],\n",
       " ['内蒙古', 114],\n",
       " ['辽宁省', 743],\n",
       " ['吉林省', 207],\n",
       " ['黑龙江省', 229],\n",
       " ['上海市', 9750],\n",
       " ['江苏省', 3621],\n",
       " ['浙江省', 5111],\n",
       " ['安徽省', 702],\n",
       " ['福建省', 1970],\n",
       " ['江西省', 440],\n",
       " ['山东省', 1469],\n",
       " ['河南省', 890],\n",
       " ['湖北省', 1542],\n",
       " ['湖南省', 961],\n",
       " ['广东省', 12818],\n",
       " ['广西', 296],\n",
       " ['海南省', 164],\n",
       " ['重庆市', 893],\n",
       " ['四川省', 3039],\n",
       " ['贵州省', 182],\n",
       " ['云南省', 288],\n",
       " ['西藏', 15],\n",
       " ['陕西省', 1058],\n",
       " ['甘肃省', 81],\n",
       " ['青海省', 24],\n",
       " ['宁夏', 36],\n",
       " ['新疆', 83],\n",
       " ['台湾', 319],\n",
       " ['香港', 304],\n",
       " ['澳门', 4],\n",
       " ['海外', 1541],\n",
       " ['sum', 65388]]"
      ]
     },
     "execution_count": 50,
     "metadata": {},
     "output_type": "execute_result"
    }
   ],
   "source": [
    "count"
   ]
  },
  {
   "cell_type": "code",
   "execution_count": 52,
   "metadata": {
    "collapsed": true
   },
   "outputs": [],
   "source": [
    "# import matplotlib.pyplot as plt\n",
    "# import plotly.plotly as py"
   ]
  },
  {
   "cell_type": "code",
   "execution_count": 53,
   "metadata": {},
   "outputs": [
    {
     "data": {
      "text/plain": [
       "65388"
      ]
     },
     "execution_count": 53,
     "metadata": {},
     "output_type": "execute_result"
    }
   ],
   "source": [
    "len(data)"
   ]
  },
  {
   "cell_type": "code",
   "execution_count": 54,
   "metadata": {
    "collapsed": true
   },
   "outputs": [],
   "source": [
    "write_file('startups', data)"
   ]
  },
  {
   "cell_type": "code",
   "execution_count": 55,
   "metadata": {},
   "outputs": [
    {
     "data": {
      "text/plain": [
       "36"
      ]
     },
     "execution_count": 55,
     "metadata": {},
     "output_type": "execute_result"
    }
   ],
   "source": [
    "len(count)"
   ]
  },
  {
   "cell_type": "code",
   "execution_count": 57,
   "metadata": {
    "collapsed": true
   },
   "outputs": [],
   "source": [
    "import numpy as np\n",
    "count = np.array(count)"
   ]
  },
  {
   "cell_type": "code",
   "execution_count": 58,
   "metadata": {},
   "outputs": [
    {
     "data": {
      "text/plain": [
       "numpy.ndarray"
      ]
     },
     "execution_count": 58,
     "metadata": {},
     "output_type": "execute_result"
    }
   ],
   "source": [
    "type(count)"
   ]
  },
  {
   "cell_type": "code",
   "execution_count": 65,
   "metadata": {
    "collapsed": true
   },
   "outputs": [],
   "source": [
    "import pandas as pd\n",
    "count_pd = pd.DataFrame(count)\n",
    "count_pd.to_csv(\"startups_sum_by_district.csv\")"
   ]
  },
  {
   "cell_type": "code",
   "execution_count": 74,
   "metadata": {},
   "outputs": [],
   "source": [
    "sum_english = pd.read_excel('startups_sum_by_district.xlsx')"
   ]
  },
  {
   "cell_type": "code",
   "execution_count": 76,
   "metadata": {},
   "outputs": [
    {
     "data": {
      "text/plain": [
       "35"
      ]
     },
     "execution_count": 76,
     "metadata": {},
     "output_type": "execute_result"
    }
   ],
   "source": [
    "len(sum_english)"
   ]
  },
  {
   "cell_type": "code",
   "execution_count": 79,
   "metadata": {},
   "outputs": [
    {
     "data": {
      "text/plain": [
       "pandas.core.frame.DataFrame"
      ]
     },
     "execution_count": 79,
     "metadata": {},
     "output_type": "execute_result"
    }
   ],
   "source": [
    "type(sum_english)"
   ]
  },
  {
   "cell_type": "code",
   "execution_count": 81,
   "metadata": {},
   "outputs": [
    {
     "ename": "AttributeError",
     "evalue": "'DataFrame' object has no attribute 'rows'",
     "output_type": "error",
     "traceback": [
      "\u001b[0;31m---------------------------------------------------------------------------\u001b[0m",
      "\u001b[0;31mAttributeError\u001b[0m                            Traceback (most recent call last)",
      "\u001b[0;32m<ipython-input-81-b43e5c6a01ff>\u001b[0m in \u001b[0;36m<module>\u001b[0;34m()\u001b[0m\n\u001b[0;32m----> 1\u001b[0;31m \u001b[0;32mfor\u001b[0m \u001b[0mrow\u001b[0m \u001b[0;32min\u001b[0m \u001b[0msum_english\u001b[0m\u001b[0;34m.\u001b[0m\u001b[0mrows\u001b[0m\u001b[0;34m:\u001b[0m\u001b[0;34m\u001b[0m\u001b[0m\n\u001b[0m\u001b[1;32m      2\u001b[0m     \u001b[0mprint\u001b[0m\u001b[0;34m(\u001b[0m\u001b[0mrow\u001b[0m\u001b[0;34m)\u001b[0m\u001b[0;34m\u001b[0m\u001b[0m\n",
      "\u001b[0;32m//anaconda/envs/wanglianxiao/lib/python3.5/site-packages/pandas/core/generic.py\u001b[0m in \u001b[0;36m__getattr__\u001b[0;34m(self, name)\u001b[0m\n\u001b[1;32m   2968\u001b[0m             \u001b[0;32mif\u001b[0m \u001b[0mname\u001b[0m \u001b[0;32min\u001b[0m \u001b[0mself\u001b[0m\u001b[0;34m.\u001b[0m\u001b[0m_info_axis\u001b[0m\u001b[0;34m:\u001b[0m\u001b[0;34m\u001b[0m\u001b[0m\n\u001b[1;32m   2969\u001b[0m                 \u001b[0;32mreturn\u001b[0m \u001b[0mself\u001b[0m\u001b[0;34m[\u001b[0m\u001b[0mname\u001b[0m\u001b[0;34m]\u001b[0m\u001b[0;34m\u001b[0m\u001b[0m\n\u001b[0;32m-> 2970\u001b[0;31m             \u001b[0;32mreturn\u001b[0m \u001b[0mobject\u001b[0m\u001b[0;34m.\u001b[0m\u001b[0m__getattribute__\u001b[0m\u001b[0;34m(\u001b[0m\u001b[0mself\u001b[0m\u001b[0;34m,\u001b[0m \u001b[0mname\u001b[0m\u001b[0;34m)\u001b[0m\u001b[0;34m\u001b[0m\u001b[0m\n\u001b[0m\u001b[1;32m   2971\u001b[0m \u001b[0;34m\u001b[0m\u001b[0m\n\u001b[1;32m   2972\u001b[0m     \u001b[0;32mdef\u001b[0m \u001b[0m__setattr__\u001b[0m\u001b[0;34m(\u001b[0m\u001b[0mself\u001b[0m\u001b[0;34m,\u001b[0m \u001b[0mname\u001b[0m\u001b[0;34m,\u001b[0m \u001b[0mvalue\u001b[0m\u001b[0;34m)\u001b[0m\u001b[0;34m:\u001b[0m\u001b[0;34m\u001b[0m\u001b[0m\n",
      "\u001b[0;31mAttributeError\u001b[0m: 'DataFrame' object has no attribute 'rows'"
     ]
    }
   ],
   "source": [
    "for row in sum_english.rows:\n",
    "    print(row)"
   ]
  },
  {
   "cell_type": "code",
   "execution_count": 83,
   "metadata": {},
   "outputs": [],
   "source": [
    "sum_english = sum_english.get_values()"
   ]
  },
  {
   "cell_type": "code",
   "execution_count": 84,
   "metadata": {},
   "outputs": [
    {
     "data": {
      "text/plain": [
       "35"
      ]
     },
     "execution_count": 84,
     "metadata": {},
     "output_type": "execute_result"
    }
   ],
   "source": [
    "len(sum_english)"
   ]
  },
  {
   "cell_type": "code",
   "execution_count": 87,
   "metadata": {},
   "outputs": [
    {
     "data": {
      "text/plain": [
       "'Tianjin'"
      ]
     },
     "execution_count": 87,
     "metadata": {},
     "output_type": "execute_result"
    }
   ],
   "source": [
    "sum_english[1][0]"
   ]
  },
  {
   "cell_type": "code",
   "execution_count": 109,
   "metadata": {},
   "outputs": [],
   "source": [
    "cnt  = 0\n",
    "for city in sum_english:\n",
    "#     print(count[cnt])\n",
    "    count[cnt].insert(1, city[0])\n",
    "    cnt +=1"
   ]
  },
  {
   "cell_type": "code",
   "execution_count": 105,
   "metadata": {},
   "outputs": [
    {
     "data": {
      "text/plain": [
       "['sum', 65388]"
      ]
     },
     "execution_count": 105,
     "metadata": {},
     "output_type": "execute_result"
    }
   ],
   "source": [
    "count.pop()"
   ]
  },
  {
   "cell_type": "code",
   "execution_count": 106,
   "metadata": {},
   "outputs": [
    {
     "data": {
      "text/plain": [
       "35"
      ]
     },
     "execution_count": 106,
     "metadata": {},
     "output_type": "execute_result"
    }
   ],
   "source": [
    "len(count)"
   ]
  },
  {
   "cell_type": "code",
   "execution_count": 108,
   "metadata": {},
   "outputs": [
    {
     "name": "stdout",
     "output_type": "stream",
     "text": [
      "0\n"
     ]
    }
   ],
   "source": [
    "print(cnt)"
   ]
  },
  {
   "cell_type": "code",
   "execution_count": 110,
   "metadata": {},
   "outputs": [
    {
     "data": {
      "text/plain": [
       "[['北京市', 'Beijing', 15032],\n",
       " ['天津市', 'Tianjin', 922],\n",
       " ['河北省', 'Heibei', 387],\n",
       " ['山西省', 'Shanxi', 216],\n",
       " ['内蒙古', 'Neimeng', 114],\n",
       " ['辽宁省', 'Liaoning', 743],\n",
       " ['吉林省', 'Jilin', 207],\n",
       " ['黑龙江省', 'Heilongjiang', 229],\n",
       " ['上海市', 'Shanghai', 9750],\n",
       " ['江苏省', 'Jiangsu', 3621],\n",
       " ['浙江省', 'Zhejiang', 5111],\n",
       " ['安徽省', 'Anhui', 702],\n",
       " ['福建省', 'Fujian', 1970],\n",
       " ['江西省', 'Jiangxi', 440],\n",
       " ['山东省', 'Shandong', 1469],\n",
       " ['河南省', 'Henan', 890],\n",
       " ['湖北省', 'Hubei', 1542],\n",
       " ['湖南省', 'Hunan', 961],\n",
       " ['广东省', 'Guangdong', 12818],\n",
       " ['广西', 'Guangxi', 296],\n",
       " ['海南省', 'Hainan', 164],\n",
       " ['重庆市', 'Chongqing', 893],\n",
       " ['四川省', 'Sichuan', 3039],\n",
       " ['贵州省', 'Guizhou', 182],\n",
       " ['云南省', 'Yunnan', 288],\n",
       " ['西藏', 'Xizang', 15],\n",
       " ['陕西省', 'Shanxi', 1058],\n",
       " ['甘肃省', 'Guansu', 81],\n",
       " ['青海省', 'Qinghai', 24],\n",
       " ['宁夏', 'Ningxia', 36],\n",
       " ['新疆', 'Xinjiang', 83],\n",
       " ['台湾', 'Taiwan', 319],\n",
       " ['香港', 'Xianggang', 304],\n",
       " ['澳门', 'Aomen', 4],\n",
       " ['海外', 'Haiwai', 1541]]"
      ]
     },
     "execution_count": 110,
     "metadata": {},
     "output_type": "execute_result"
    }
   ],
   "source": [
    "count"
   ]
  },
  {
   "cell_type": "code",
   "execution_count": 112,
   "metadata": {},
   "outputs": [],
   "source": [
    "count = pd.DataFrame(count)\n",
    "count.to_excel(\"startups_sum_by_district.xlsx\")"
   ]
  },
  {
   "cell_type": "code",
   "execution_count": null,
   "metadata": {
    "collapsed": true
   },
   "outputs": [],
   "source": []
  }
 ],
 "metadata": {
  "kernelspec": {
   "display_name": "Python 3",
   "language": "python",
   "name": "python3"
  },
  "language_info": {
   "codemirror_mode": {
    "name": "ipython",
    "version": 3
   },
   "file_extension": ".py",
   "mimetype": "text/x-python",
   "name": "python",
   "nbconvert_exporter": "python",
   "pygments_lexer": "ipython3",
   "version": "3.5.3"
  }
 },
 "nbformat": 4,
 "nbformat_minor": 2
}
