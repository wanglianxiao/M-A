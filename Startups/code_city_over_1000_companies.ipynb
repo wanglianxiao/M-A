{
 "cells": [
  {
   "cell_type": "code",
   "execution_count": 1,
   "metadata": {
    "collapsed": true
   },
   "outputs": [],
   "source": [
    "import json\n",
    "import requests"
   ]
  },
  {
   "cell_type": "code",
   "execution_count": 10,
   "metadata": {
    "collapsed": true
   },
   "outputs": [],
   "source": [
    "url = 'https://rong.36kr.com/n/api/column/0/company'\n",
    "param = {\n",
    "    'city' : 112,\n",
    "    'sortField' : 'STOCK_AT',\n",
    "    'p' : 1\n",
    "}\n",
    "headers = {\n",
    "    'Cookie' : 'MEIQIA_EXTRA_TRACK_ID=775a22fa339511e79b2d067fd4f49ede; device-uid=68d06700-33f2-11e7-b51b-ab93852ba40f; kr_stat_uuid=7k4Km24904169; kwlo_iv=2h; Hm_lvt_e8ec47088ed7458ec32cde3617b23ee3=1494217122; Hm_lpvt_e8ec47088ed7458ec32cde3617b23ee3=1494250444; _kr_p_se=b5199443-09fa-4933-a9f5-72277ca6b372; krid_user_id=1059601474; krid_user_version=5; kr_plus_id=1059601474; kr_plus_token=jjKA2nSgr5x4WcpOkAASSFLSpHHN8299267_____; krnewsfrontss=6107d6d0bc8c6006cdce4a04b4e957cf; Hm_lvt_713123c60a0e86982326bae1a51083e1=1494217360; Hm_lpvt_713123c60a0e86982326bae1a51083e1=1494251662; kr_plus_utype=0; M-XSRF-TOKEN=41932728dcfb62d1e7b9fbc40884260a985189383ea8354c591be89ea116086b; aliyungf_tc=AQAAAO78fz/72Q4AvDGgtKMobYC3XaD1; c_name=point; Z-XSRF-TOKEN=eyJpdiI6Iko0cXh0ZXdpcXpMWWdSbW1TWUtZK3c9PSIsInZhbHVlIjoiWHFtanFsellSMjFRXC9YR2E1eTlNWCtKaEpcL21LaHBMb2E1bFhzeHhlTlwvcjVcL015TTQxMjlqZTkxK2FLRmZIcEtrOFZoSWFwclQ5elwvS0VJNTdLS0FNZz09IiwibWFjIjoiY2M1NDVhNDQ1NTBlYzJlNmRkMzNmMDM4MDE3MGQ1Njc4MjYxM2NjMTdhM2Y5MzBmMzQ4NmE1YjUzMzdlYmUzMyJ9; krchoasss=eyJpdiI6InZRU2U3ZE1qYThlT1JYSWwrSXluUEE9PSIsInZhbHVlIjoiUFZOR3hXdjFWd0ZpYmhjMGpadWFTbFZRclN4cHh5OWMrdHNuSnJpZlBvaXVmbFoxRDl0QUFxVktCcUd4TWdUNWcrRmhla2dvRVJyQUUrSUZ4WEVJS3c9PSIsIm1hYyI6IjQ3YWNlMGM4ZDg2ZmE3ZjQxNDRiNjI2MzUzMjBjYjY3YzNmMjg4MjU5NDI3MmI2ODUyN2RlYTE4OWI5ZTE4NTMifQ%3D%3D'\n",
    "}"
   ]
  },
  {
   "cell_type": "code",
   "execution_count": 19,
   "metadata": {
    "collapsed": true
   },
   "outputs": [],
   "source": [
    "def GetStartupsByCitySortedById(city_code):\n",
    "    param['p'] = 1\n",
    "    param['city'] = city_code\n",
    "    r = requests.get(url, params = param, headers = headers).json()\n",
    "    data = r['data']['pageData']['data']\n",
    "    while(param['p'] < r['data']['pageData']['totalPages']):\n",
    "        param['p']+=1\n",
    "        res = requests.get(url, params = param, headers = headers).json()\n",
    "        data = data + res['data']['pageData']['data']\n",
    "    len(data)\n",
    "    f = open(str(param['city'])+'.json', 'w')\n",
    "    f.write(json.dumps(sorted(data, key=lambda x: x['id'], reverse=True)))\n",
    "    f.close()\n",
    "# value = json.dumps({'data': sorted(data, key=lambda x: x['count'], reverse=True)})"
   ]
  },
  {
   "cell_type": "code",
   "execution_count": 20,
   "metadata": {
    "collapsed": true
   },
   "outputs": [],
   "source": [
    "GetStartupsByCitySortedById(90000)"
   ]
  },
  {
   "cell_type": "code",
   "execution_count": 158,
   "metadata": {
    "collapsed": true
   },
   "outputs": [],
   "source": [
    "param['phase'] = 'SEED,ANGEL,PRE_A,D,E,A,A_PLUS,PRE_B,B,B_PLUS,C_PLUS,C'"
   ]
  },
  {
   "cell_type": "code",
   "execution_count": 159,
   "metadata": {
    "collapsed": true
   },
   "outputs": [],
   "source": [
    "TempGetStartupsByCitySortedByIdPlus(90000)"
   ]
  },
  {
   "cell_type": "code",
   "execution_count": 195,
   "metadata": {
    "collapsed": true
   },
   "outputs": [],
   "source": [
    "def list_of_seq_unique_by_key(seq, key):\n",
    "    seen = set()\n",
    "    seen_add = seen.add\n",
    "    return [x for x in seq if x[key] not in seen and not seen_add(x[key])]"
   ]
  },
  {
   "cell_type": "code",
   "execution_count": null,
   "metadata": {
    "collapsed": true
   },
   "outputs": [],
   "source": [
    "E_COMMERCE,SOCIAL_NETWORK,INTELLIGENT_HARDWARE,MEDIA,SOFTWARE,CONSUMER_LIFESTYLE,FINANCE,MEDICAL_HEALTH,SERVICE_INDUSTRIES,TRAVEL_OUTDOORS,PROPERTY_AND_HOME_FURNISHINGS,EDUCATION_TRAINING,AUTO,LOGISTICS,AI,UAV,ROBOT,VR_AR,SPORTS,FARMING,SHARE_BUSINESS,CHU_HAI,CONSUME,"
   ]
  },
  {
   "cell_type": "code",
   "execution_count": null,
   "metadata": {
    "collapsed": true
   },
   "outputs": [],
   "source": [
    "NON_TMT"
   ]
  },
  {
   "cell_type": "code",
   "execution_count": 199,
   "metadata": {
    "collapsed": true
   },
   "outputs": [],
   "source": [
    "from enum import Enum"
   ]
  },
  {
   "cell_type": "code",
   "execution_count": 219,
   "metadata": {
    "collapsed": true
   },
   "outputs": [],
   "source": [
    "Industry = Enum('Industry', 'E_COMMERCE SOCIAL_NETWORK INTELLIGENT_HARDWARE MEDIA SOFTWARE CONSUMER_LIFESTYLE FINANCE MEDICAL_HEALTH SERVICE_INDUSTRIES TRAVEL_OUTDOORS PROPERTY_AND_HOME_FURNISHINGS EDUCATION_TRAINING AUTO LOGISTICS AI UAV ROBOT VR_AR SPORTS FARMING SHARE_BUSINESS CHU_HAI CONSUME')"
   ]
  },
  {
   "cell_type": "code",
   "execution_count": 222,
   "metadata": {},
   "outputs": [
    {
     "data": {
      "text/plain": [
       "'CONSUME'"
      ]
     },
     "execution_count": 222,
     "metadata": {},
     "output_type": "execute_result"
    }
   ],
   "source": [
    "Industry.CONSUME.name"
   ]
  },
  {
   "cell_type": "code",
   "execution_count": 229,
   "metadata": {
    "collapsed": true
   },
   "outputs": [],
   "source": [
    "param['industry'] = 'E_COMMERCE,SOCIAL_NETWORK,INTELLIGENT_HARDWARE,MEDIA,SOFTWARE,CONSUMER_LIFESTYLE,FINANCE,MEDICAL_HEALTH,SERVICE_INDUSTRIES,TRAVEL_OUTDOORS,PROPERTY_AND_HOME_FURNISHINGS,EDUCATION_TRAINING,AUTO,LOGISTICS,AI,UAV,ROBOT,VR_AR,SPORTS,FARMING,SHARE_BUSINESS,CHU_HAI,CONSUME,NON_TMT'"
   ]
  },
  {
   "cell_type": "code",
   "execution_count": 283,
   "metadata": {
    "collapsed": true
   },
   "outputs": [],
   "source": [
    "Industry = [\n",
    "    [\n",
    "    'E_COMMERCE,SOCIAL_NETWORK,INTELLIGENT_HARDWARE,MEDIA,SOFTWARE',\n",
    "    'CONSUMER_LIFESTYLE,FINANCE,MEDICAL_HEALTH,SERVICE_INDUSTRIES',\n",
    "    'TRAVEL_OUTDOORS,PROPERTY_AND_HOME_FURNISHINGS,EDUCATION_TRAINING,AUTO,LOGISTICS,AI,UAV,ROBOT,VR_AR,SPORTS,FARMING,SHARE_BUSINESS,CHU_HAI,CONSUME,NON_TMT'\n",
    "    ]\n",
    "]"
   ]
  },
  {
   "cell_type": "code",
   "execution_count": 317,
   "metadata": {
    "collapsed": true
   },
   "outputs": [],
   "source": [
    "def write_file(name, data):\n",
    "    f = open(str(name) + '.json', 'w')\n",
    "    f.write(json.dumps(data))\n",
    "    f.close()"
   ]
  },
  {
   "cell_type": "code",
   "execution_count": 282,
   "metadata": {
    "collapsed": true
   },
   "outputs": [],
   "source": [
    "def sort_and_uniqify(data):\n",
    "    return list_of_seq_unique_by_key(sorted(data, key=lambda x: x['id'], reverse=True), 'id')"
   ]
  },
  {
   "cell_type": "code",
   "execution_count": 295,
   "metadata": {
    "collapsed": true
   },
   "outputs": [],
   "source": [
    "def get_startups_by_city_and_industries(industry_code, city_code):\n",
    "    industry_page = 0\n",
    "    data = []\n",
    "    while(industry_page < len(Industry[industry_code])):\n",
    "        param['industry'] = Industry[industry_code][industry_page]\n",
    "        data = data + GetStartupsByCitySortedByIdPlus(city_code)\n",
    "        industry_page+=1\n",
    "    return data"
   ]
  },
  {
   "cell_type": "code",
   "execution_count": 291,
   "metadata": {
    "collapsed": true
   },
   "outputs": [],
   "source": [
    "def read_file(name):\n",
    "    with open(str(name) + \".json\") as json_file:\n",
    "        return json.load(json_file)"
   ]
  },
  {
   "cell_type": "code",
   "execution_count": 296,
   "metadata": {
    "collapsed": true
   },
   "outputs": [],
   "source": [
    "shanxi = get_startups_by_city_and_industries(0, 127)"
   ]
  },
  {
   "cell_type": "code",
   "execution_count": 297,
   "metadata": {},
   "outputs": [
    {
     "data": {
      "text/plain": [
       "1297"
      ]
     },
     "execution_count": 297,
     "metadata": {},
     "output_type": "execute_result"
    }
   ],
   "source": [
    "len(shanxi)"
   ]
  },
  {
   "cell_type": "code",
   "execution_count": 299,
   "metadata": {
    "collapsed": true
   },
   "outputs": [],
   "source": [
    "shanxi =sort_and_uniqify(shanxi)"
   ]
  },
  {
   "cell_type": "code",
   "execution_count": 300,
   "metadata": {},
   "outputs": [
    {
     "data": {
      "text/plain": [
       "1047"
      ]
     },
     "execution_count": 300,
     "metadata": {},
     "output_type": "execute_result"
    }
   ],
   "source": [
    "len(shanxi)"
   ]
  },
  {
   "cell_type": "code",
   "execution_count": 302,
   "metadata": {
    "collapsed": true
   },
   "outputs": [],
   "source": [
    "def get_recent_1000(city_code):\n",
    "    param['p'] = 1\n",
    "    param['city'] = city_code\n",
    "    param['industry'] = []\n",
    "    param['phase'] = []\n",
    "    r = requests.get(url, params = param, headers = headers).json()\n",
    "    data = r['data']['pageData']['data']\n",
    "    while(param['p'] < r['data']['pageData']['totalPages']):\n",
    "        param['p']+=1\n",
    "        res = requests.get(url, params = param, headers = headers).json()\n",
    "        data = data + res['data']['pageData']['data']\n",
    "    return sorted(data, key=lambda x: x['id'], reverse=True)"
   ]
  },
  {
   "cell_type": "code",
   "execution_count": 303,
   "metadata": {
    "collapsed": true
   },
   "outputs": [],
   "source": [
    "shanxi_1000 = get_recent_1000(127)"
   ]
  },
  {
   "cell_type": "code",
   "execution_count": 304,
   "metadata": {},
   "outputs": [
    {
     "data": {
      "text/plain": [
       "1000"
      ]
     },
     "execution_count": 304,
     "metadata": {},
     "output_type": "execute_result"
    }
   ],
   "source": [
    "len(shanxi_1000)"
   ]
  },
  {
   "cell_type": "code",
   "execution_count": 305,
   "metadata": {
    "collapsed": true
   },
   "outputs": [],
   "source": [
    "shanxi = shanxi+shanxi_1000"
   ]
  },
  {
   "cell_type": "code",
   "execution_count": 306,
   "metadata": {},
   "outputs": [
    {
     "data": {
      "text/plain": [
       "2047"
      ]
     },
     "execution_count": 306,
     "metadata": {},
     "output_type": "execute_result"
    }
   ],
   "source": [
    "len(shanxi)"
   ]
  },
  {
   "cell_type": "code",
   "execution_count": 308,
   "metadata": {
    "collapsed": true
   },
   "outputs": [],
   "source": [
    "shanxi = sort_and_uniqify(shanxi)"
   ]
  },
  {
   "cell_type": "code",
   "execution_count": 309,
   "metadata": {},
   "outputs": [
    {
     "data": {
      "text/plain": [
       "1058"
      ]
     },
     "execution_count": 309,
     "metadata": {},
     "output_type": "execute_result"
    }
   ],
   "source": [
    "len(shanxi)"
   ]
  },
  {
   "cell_type": "code",
   "execution_count": 318,
   "metadata": {
    "collapsed": true
   },
   "outputs": [],
   "source": [
    "write_file('shanxi(127)-1058', shanxi)"
   ]
  },
  {
   "cell_type": "code",
   "execution_count": 320,
   "metadata": {},
   "outputs": [
    {
     "data": {
      "text/plain": [
       "1058"
      ]
     },
     "execution_count": 320,
     "metadata": {},
     "output_type": "execute_result"
    }
   ],
   "source": [
    "len(read_file('shanxi(127)-1058'))"
   ]
  },
  {
   "cell_type": "code",
   "execution_count": 367,
   "metadata": {
    "collapsed": true
   },
   "outputs": [],
   "source": [
    "def clean_code(industry_code, city_code):\n",
    "    data_indus = get_startups_by_city_and_industries(industry_code, city_code)\n",
    "    print('data_indus_pre : ' + str(len(data_indus)))\n",
    "    data_indus = sort_and_uniqify(data_indus)\n",
    "    print('data_indus : ' + str(len(data_indus)))\n",
    "    data_1000 = get_recent_1000(city_code)\n",
    "    print('data_1000 : ' + str(len(data_1000)))\n",
    "    data = sort_and_uniqify(data_indus + data_indus)\n",
    "    print(str(city_code) + ' : ' + str(len(data)))\n",
    "    write_file('(' + str(city_code) + ')-' + str(len(data)), data)\n",
    "#     print('file length : ' + str(len(read_file('(' + str(city_code) + ')-' + str(len(data))))))\n",
    "    return data"
   ]
  },
  {
   "cell_type": "code",
   "execution_count": 342,
   "metadata": {},
   "outputs": [
    {
     "name": "stdout",
     "output_type": "stream",
     "text": [
      "data_indus : 1542\n",
      "data_1000 : 1000\n",
      "117 : 1542\n"
     ]
    }
   ],
   "source": [
    "hubei = clean_code(0, 117)"
   ]
  },
  {
   "cell_type": "code",
   "execution_count": 343,
   "metadata": {
    "collapsed": true
   },
   "outputs": [],
   "source": [
    "write_file('hubei(117)-1542', hubei)"
   ]
  },
  {
   "cell_type": "code",
   "execution_count": 344,
   "metadata": {},
   "outputs": [
    {
     "data": {
      "text/plain": [
       "1542"
      ]
     },
     "execution_count": 344,
     "metadata": {},
     "output_type": "execute_result"
    }
   ],
   "source": [
    "len(read_file('hubei(117)-1542'))"
   ]
  },
  {
   "cell_type": "code",
   "execution_count": 346,
   "metadata": {
    "collapsed": true
   },
   "outputs": [],
   "source": [
    "Industry.append([\n",
    "    'E_COMMERCE','SOCIAL_NETWORK','INTELLIGENT_HARDWARE','MEDIA','SOFTWARE',\n",
    "    'CONSUMER_LIFESTYLE','FINANCE','MEDICAL_HEALTH','SERVICE_INDUSTRIES',\n",
    "    'TRAVEL_OUTDOORS','PROPERTY_AND_HOME_FURNISHINGS','EDUCATION_TRAINING',\n",
    "    'AUTO','LOGISTICS','AI','UAV','ROBOT','VR_AR','SPORTS','FARMING','SHARE_BUSINESS','CHU_HAI','CONSUME','NON_TMT'\n",
    "])"
   ]
  },
  {
   "cell_type": "code",
   "execution_count": 352,
   "metadata": {},
   "outputs": [
    {
     "data": {
      "text/plain": [
       "24"
      ]
     },
     "execution_count": 352,
     "metadata": {},
     "output_type": "execute_result"
    }
   ],
   "source": [
    "len(Industry[1])"
   ]
  },
  {
   "cell_type": "code",
   "execution_count": 357,
   "metadata": {},
   "outputs": [
    {
     "name": "stdout",
     "output_type": "stream",
     "text": [
      "data_indus_pre : 3654\n",
      "data_indus : 1970\n",
      "data_1000 : 1000\n",
      "113 : 1970\n"
     ]
    }
   ],
   "source": [
    "fujian = clean_code(1, 113)"
   ]
  },
  {
   "cell_type": "code",
   "execution_count": 354,
   "metadata": {},
   "outputs": [
    {
     "data": {
      "text/plain": [
       "1970"
      ]
     },
     "execution_count": 354,
     "metadata": {},
     "output_type": "execute_result"
    }
   ],
   "source": [
    "write_file('Fujian(113)-1970', fujian)\n",
    "len(read_file('Fujian(113)-1970'))"
   ]
  },
  {
   "cell_type": "code",
   "execution_count": 358,
   "metadata": {
    "scrolled": true
   },
   "outputs": [
    {
     "name": "stdout",
     "output_type": "stream",
     "text": [
      "data_indus_pre : 4811\n",
      "data_indus : 2848\n",
      "data_1000 : 1000\n",
      "22301 : 2848\n"
     ]
    }
   ],
   "source": [
    "chendu = clean_code(1, 22301)"
   ]
  },
  {
   "cell_type": "code",
   "execution_count": 361,
   "metadata": {},
   "outputs": [
    {
     "data": {
      "text/plain": [
       "2848"
      ]
     },
     "execution_count": 361,
     "metadata": {},
     "output_type": "execute_result"
    }
   ],
   "source": [
    "write_file('Chendu(22301)-2848', chendu)\n",
    "len(read_file('Chendu(22301)-2848'))"
   ]
  },
  {
   "cell_type": "code",
   "execution_count": null,
   "metadata": {
    "collapsed": true,
    "scrolled": true
   },
   "outputs": [],
   "source": [
    "sichuan = clean_code(1, 123)"
   ]
  },
  {
   "cell_type": "code",
   "execution_count": null,
   "metadata": {
    "collapsed": true
   },
   "outputs": [],
   "source": [
    "jiangsu = clean_code(1, 110)#企业服务>1000"
   ]
  },
  {
   "cell_type": "code",
   "execution_count": null,
   "metadata": {
    "collapsed": true
   },
   "outputs": [],
   "source": [
    "hangzhou = clean_code(1, 21101)#企业服务>1000"
   ]
  },
  {
   "cell_type": "code",
   "execution_count": null,
   "metadata": {
    "collapsed": true
   },
   "outputs": [],
   "source": [
    "guangzhou = clean_code(1, 21901)#企业服务>1000"
   ]
  },
  {
   "cell_type": "code",
   "execution_count": 371,
   "metadata": {},
   "outputs": [
    {
     "name": "stdout",
     "output_type": "stream",
     "text": [
      "data_indus_pre : 7571\n",
      "data_indus : 4902\n",
      "data_1000 : 1000\n",
      "111 : 4902\n"
     ]
    }
   ],
   "source": [
    "zhejiang = clean_code(1, 111)"
   ]
  },
  {
   "cell_type": "code",
   "execution_count": 372,
   "metadata": {},
   "outputs": [
    {
     "name": "stdout",
     "output_type": "stream",
     "text": [
      "data_indus_pre : 10495\n",
      "data_indus : 7142\n",
      "data_1000 : 1000\n",
      "21903 : 7142\n"
     ]
    }
   ],
   "source": [
    "shenzhen = clean_code(1, 21903)"
   ]
  },
  {
   "cell_type": "code",
   "execution_count": 373,
   "metadata": {},
   "outputs": [
    {
     "name": "stdout",
     "output_type": "stream",
     "text": [
      "data_indus_pre : 6801\n",
      "data_indus : 4438\n",
      "data_1000 : 1000\n",
      "21901 : 4438\n"
     ]
    }
   ],
   "source": [
    "guangzhou = clean_code(1, 21901)"
   ]
  },
  {
   "cell_type": "code",
   "execution_count": 376,
   "metadata": {},
   "outputs": [
    {
     "name": "stdout",
     "output_type": "stream",
     "text": [
      "data_indus_pre : 13613\n",
      "data_indus : 9766\n",
      "data_1000 : 1000\n",
      "119 : 9766\n"
     ]
    }
   ],
   "source": [
    "guangdong = clean_code(1, 119)"
   ]
  },
  {
   "cell_type": "code",
   "execution_count": 377,
   "metadata": {},
   "outputs": [
    {
     "name": "stdout",
     "output_type": "stream",
     "text": [
      "data_indus_pre : 12932\n",
      "data_indus : 9112\n",
      "data_1000 : 1000\n",
      "109 : 9112\n"
     ]
    }
   ],
   "source": [
    "shanghai = clean_code(1, 109)"
   ]
  },
  {
   "cell_type": "code",
   "execution_count": 378,
   "metadata": {},
   "outputs": [
    {
     "name": "stdout",
     "output_type": "stream",
     "text": [
      "data_indus_pre : 16397\n",
      "data_indus : 11845\n",
      "data_1000 : 1000\n",
      "101 : 11845\n"
     ]
    }
   ],
   "source": [
    "beijing = clean_code(1, 101)"
   ]
  },
  {
   "cell_type": "code",
   "execution_count": 468,
   "metadata": {
    "collapsed": true
   },
   "outputs": [],
   "source": [
    "def get_labels_counts(indus, city):\n",
    "    param['p'] = 1\n",
    "    param['industry'] = indus\n",
    "    param['city'] = city\n",
    "    r = requests.get(url, headers = headers, params = param).json()\n",
    "    print('--' + str(city) + ' ' + indus)\n",
    "    ls = r['data']['label']\n",
    "    ls[0]['name'] = indus\n",
    "    total = 0\n",
    "    for l in ls:\n",
    "        if(l['id'] > 0):\n",
    "            total += l['cnt']\n",
    "            if(l['cnt'] > 1000):\n",
    "                print(l)\n",
    "    print('total : ' + str(r['data']['pageData']['totalCount']))\n",
    "    print('labelled : ' + str(total)+ '\\n' )\n",
    "    return ls"
   ]
  },
  {
   "cell_type": "code",
   "execution_count": 469,
   "metadata": {},
   "outputs": [
    {
     "name": "stdout",
     "output_type": "stream",
     "text": [
      "--101 E_COMMERCE\n",
      "total : 3318\n",
      "labelled : 2088\n",
      "\n",
      "--101 MEDIA\n",
      "{'name': '影视', 'id': 187, 'cnt': 1643}\n",
      "total : 3876\n",
      "labelled : 7404\n",
      "\n",
      "--101 SERVICE_INDUSTRIES\n",
      "{'name': '大数据', 'id': 25, 'cnt': 1730}\n",
      "{'name': 'SaaS', 'id': 572, 'cnt': 1554}\n",
      "total : 6326\n",
      "labelled : 8660\n",
      "\n",
      "--101 CONSUMER_LIFESTYLE\n",
      "total : 2426\n",
      "labelled : 1449\n",
      "\n",
      "--101 SOCIAL_NETWORK\n",
      "total : 2103\n",
      "labelled : 2231\n",
      "\n",
      "--101 FINANCE\n",
      "total : 2097\n",
      "labelled : 2863\n",
      "\n",
      "--101 EDUCATION_TRAINING\n",
      "{'name': '职业培训', 'id': 834, 'cnt': 1216}\n",
      "{'name': 'K12', 'id': 165, 'cnt': 1083}\n",
      "total : 2297\n",
      "labelled : 4984\n",
      "\n",
      "--101 INTELLIGENT_HARDWARE\n",
      "total : 1331\n",
      "labelled : 3845\n",
      "\n"
     ]
    }
   ],
   "source": [
    "e_commerce_101_ls = get_labels_counts('E_COMMERCE', 101)\n",
    "media_101_ls = get_labels_counts('MEDIA', 101)\n",
    "SERVICE_INDUSTRIES_101_ls = get_labels_counts('SERVICE_INDUSTRIES', 101)\n",
    "CONSUMER_LIFESTYLE_101_ls = get_labels_counts('CONSUMER_LIFESTYLE', 101)\n",
    "SOCIAL_NETWORK_101_ls = get_labels_counts('SOCIAL_NETWORK', 101)\n",
    "FINANCE_101_ls = get_labels_counts('FINANCE', 101)\n",
    "EDUCATION_TRAINING_101_ls = get_labels_counts('EDUCATION_TRAINING', 101)\n",
    "INTELLIGENT_HARDWARE_101_ls = get_labels_counts('INTELLIGENT_HARDWARE', 101)"
   ]
  },
  {
   "cell_type": "code",
   "execution_count": 470,
   "metadata": {
    "scrolled": false
   },
   "outputs": [
    {
     "name": "stdout",
     "output_type": "stream",
     "text": [
      "--109 E_COMMERCE\n",
      "total : 2045\n",
      "labelled : 2088\n",
      "\n",
      "--109 MEDIA\n",
      "{'name': '影视', 'id': 187, 'cnt': 1643}\n",
      "total : 1623\n",
      "labelled : 7404\n",
      "\n",
      "--109 SERVICE_INDUSTRIES\n",
      "{'name': '大数据', 'id': 25, 'cnt': 1730}\n",
      "{'name': 'SaaS', 'id': 572, 'cnt': 1554}\n",
      "total : 3458\n",
      "labelled : 8660\n",
      "\n",
      "--109 CONSUMER_LIFESTYLE\n",
      "total : 1309\n",
      "labelled : 1449\n",
      "\n",
      "--109 FINANCE\n",
      "total : 1433\n",
      "labelled : 2863\n",
      "\n"
     ]
    }
   ],
   "source": [
    "e_commerce_109_ls = get_labels_counts('E_COMMERCE', 109)\n",
    "media_109_ls = get_labels_counts('MEDIA', 109)\n",
    "SERVICE_INDUSTRIES_109_ls = get_labels_counts('SERVICE_INDUSTRIES', 109)\n",
    "CONSUMER_LIFESTYLE_109_ls = get_labels_counts('CONSUMER_LIFESTYLE', 109)\n",
    "FINANCE_109_ls = get_labels_counts('FINANCE', 109)"
   ]
  },
  {
   "cell_type": "code",
   "execution_count": 471,
   "metadata": {},
   "outputs": [
    {
     "name": "stdout",
     "output_type": "stream",
     "text": [
      "--119 E_COMMERCE\n",
      "total : 2610\n",
      "labelled : 2088\n",
      "\n",
      "--119 MEDIA\n",
      "{'name': '影视', 'id': 187, 'cnt': 1643}\n",
      "total : 1645\n",
      "labelled : 7404\n",
      "\n",
      "--119 INTELLIGENT_HARDWARE\n",
      "total : 1500\n",
      "labelled : 3845\n",
      "\n",
      "--119 SERVICE_INDUSTRIES\n",
      "{'name': '大数据', 'id': 25, 'cnt': 1730}\n",
      "{'name': 'SaaS', 'id': 572, 'cnt': 1554}\n",
      "total : 4054\n",
      "labelled : 8660\n",
      "\n",
      "--119 CONSUMER_LIFESTYLE\n",
      "total : 1342\n",
      "labelled : 1449\n",
      "\n",
      "--119 SOCIAL_NETWORK\n",
      "total : 1128\n",
      "labelled : 2231\n",
      "\n",
      "--119 FINANCE\n",
      "total : 1369\n",
      "labelled : 2863\n",
      "\n"
     ]
    }
   ],
   "source": [
    "e_commerce_119_ls = get_labels_counts('E_COMMERCE', 119)\n",
    "media_119_ls = get_labels_counts('MEDIA', 119)\n",
    "INTELLIGENT_HARDWARE_119_ls = get_labels_counts('INTELLIGENT_HARDWARE', 119)\n",
    "SERVICE_INDUSTRIES_119_ls = get_labels_counts('SERVICE_INDUSTRIES', 119)\n",
    "CONSUMER_LIFESTYLE_119_ls = get_labels_counts('CONSUMER_LIFESTYLE', 119)\n",
    "SOCIAL_NETWORK_119_ls = get_labels_counts('SOCIAL_NETWORK', 119)\n",
    "FINANCE_119_ls = get_labels_counts('FINANCE', 119)"
   ]
  },
  {
   "cell_type": "markdown",
   "metadata": {},
   "source": [
    "101 beijing : MEDIA, SERVICE_INDUSTRIES, EDUCATION_TRAINING"
   ]
  },
  {
   "cell_type": "markdown",
   "metadata": {},
   "source": [
    "109 shanghai : MEDIA, SERVICE_INDUSTRIES"
   ]
  },
  {
   "cell_type": "markdown",
   "metadata": {},
   "source": [
    "119 guangdong : MEDIA, SERVICE_INDUSTRIES"
   ]
  },
  {
   "cell_type": "code",
   "execution_count": 472,
   "metadata": {
    "collapsed": true
   },
   "outputs": [],
   "source": [
    "beijing_indus_labels = [\n",
    "    e_commerce_101_ls, media_101_ls, SERVICE_INDUSTRIES_101_ls, CONSUMER_LIFESTYLE_101_ls,\n",
    "    SOCIAL_NETWORK_101_ls, FINANCE_101_ls, EDUCATION_TRAINING_101_ls, INTELLIGENT_HARDWARE_101_ls\n",
    "]"
   ]
  },
  {
   "cell_type": "code",
   "execution_count": 473,
   "metadata": {
    "collapsed": true
   },
   "outputs": [],
   "source": [
    "shanghai_indus_labels = [\n",
    "    e_commerce_109_ls, media_109_ls, SERVICE_INDUSTRIES_109_ls, CONSUMER_LIFESTYLE_109_ls,\n",
    "    FINANCE_109_ls\n",
    "]"
   ]
  },
  {
   "cell_type": "code",
   "execution_count": 474,
   "metadata": {
    "collapsed": true
   },
   "outputs": [],
   "source": [
    "guangdong_indus_labels = [\n",
    "    e_commerce_119_ls, media_119_ls, SERVICE_INDUSTRIES_119_ls, CONSUMER_LIFESTYLE_119_ls,\n",
    "    SOCIAL_NETWORK_119_ls, FINANCE_119_ls, INTELLIGENT_HARDWARE_119_ls\n",
    "]"
   ]
  },
  {
   "cell_type": "code",
   "execution_count": 480,
   "metadata": {},
   "outputs": [
    {
     "name": "stdout",
     "output_type": "stream",
     "text": [
      "109 E_COMMERCE1112\n",
      "109 MEDIA1182\n",
      "109 SERVICE_INDUSTRIES1724\n",
      "109 CONSUMER_LIFESTYLE1040\n",
      "109 FINANCE1129\n",
      "1095493\n"
     ]
    },
    {
     "ename": "SyntaxError",
     "evalue": "'return' outside function (<ipython-input-480-ee974426c2b8>, line 14)",
     "output_type": "error",
     "traceback": [
      "\u001b[0;36m  File \u001b[0;32m\"<ipython-input-480-ee974426c2b8>\"\u001b[0;36m, line \u001b[0;32m14\u001b[0m\n\u001b[0;31m    return data_all_indus\u001b[0m\n\u001b[0m                         ^\u001b[0m\n\u001b[0;31mSyntaxError\u001b[0m\u001b[0;31m:\u001b[0m 'return' outside function\n"
     ]
    }
   ],
   "source": [
    "param['city'] = 109\n",
    "data_all_indus = []\n",
    "for indus in shanghai_indus_labels:\n",
    "    param['industry'] = indus[0]['name']\n",
    "    data_single_indus = []\n",
    "    for label in indus:\n",
    "        param['label'] = label['id']\n",
    "        data_single_indus += GetStartupsByCitySortedByIdPlus(109)\n",
    "    data_single_indus = sort_and_uniqify(data_single_indus)      #get data of single industry\n",
    "    print(str(param['city']) + ' ' + indus[0]['name'] + '\\n' + str(len(data_single_indus)))\n",
    "    data_all_indus += data_single_indus                          #get data of all industries\n",
    "data_all_indus = sort_and_uniqify(data_all_indus)\n",
    "print(str(param['city']) + str(len(data_all_indus)))\n",
    "# return data_all_indus"
   ]
  },
  {
   "cell_type": "code",
   "execution_count": 481,
   "metadata": {
    "collapsed": true
   },
   "outputs": [],
   "source": [
    "shanghai_origin = read_file(109)"
   ]
  },
  {
   "cell_type": "code",
   "execution_count": 482,
   "metadata": {
    "collapsed": true
   },
   "outputs": [],
   "source": [
    "shanghai_indus = data_all_indus"
   ]
  },
  {
   "cell_type": "code",
   "execution_count": 485,
   "metadata": {
    "collapsed": true
   },
   "outputs": [],
   "source": [
    "shanghai_plus = sort_and_uniqify(shanghai_origin + shanghai_indus)"
   ]
  },
  {
   "cell_type": "code",
   "execution_count": 486,
   "metadata": {},
   "outputs": [
    {
     "data": {
      "text/plain": [
       "9750"
      ]
     },
     "execution_count": 486,
     "metadata": {},
     "output_type": "execute_result"
    }
   ],
   "source": [
    "len(shanghai_plus)"
   ]
  },
  {
   "cell_type": "code",
   "execution_count": 487,
   "metadata": {
    "collapsed": true
   },
   "outputs": [],
   "source": [
    "write_file(109, shanghai_plus)"
   ]
  },
  {
   "cell_type": "code",
   "execution_count": 488,
   "metadata": {},
   "outputs": [
    {
     "data": {
      "text/plain": [
       "9750"
      ]
     },
     "execution_count": 488,
     "metadata": {},
     "output_type": "execute_result"
    }
   ],
   "source": [
    "len(read_file(109))"
   ]
  },
  {
   "cell_type": "code",
   "execution_count": 491,
   "metadata": {
    "collapsed": true
   },
   "outputs": [],
   "source": [
    "def get_data_of_all_labels_all_indus(city, city_labels):\n",
    "    data_all_indus = []\n",
    "    for indus in city_labels:\n",
    "        param['industry'] = indus[0]['name']\n",
    "        data_single_indus = []\n",
    "        for label in indus:\n",
    "            param['label'] = label['id']\n",
    "            data_single_indus += GetStartupsByCitySortedByIdPlus(city)\n",
    "        data_single_indus = sort_and_uniqify(data_single_indus)      #get data of single industry\n",
    "        print(str(city) + '-' + indus[0]['name'] + '\\n' + str(len(data_single_indus)))\n",
    "        data_all_indus += data_single_indus                          #get data of all industries\n",
    "    data_all_indus = sort_and_uniqify(data_all_indus)\n",
    "    print(str(param['city']) + ' ' +str(len(data_all_indus)))\n",
    "    return data_all_indus"
   ]
  },
  {
   "cell_type": "code",
   "execution_count": 490,
   "metadata": {},
   "outputs": [
    {
     "name": "stdout",
     "output_type": "stream",
     "text": [
      "119 E_COMMERCE\n",
      "1141\n",
      "119 MEDIA\n",
      "1177\n",
      "119 SERVICE_INDUSTRIES\n",
      "1683\n",
      "119 CONSUMER_LIFESTYLE\n",
      "1039\n",
      "119 SOCIAL_NETWORK\n",
      "1022\n",
      "119 FINANCE\n",
      "1059\n",
      "119 INTELLIGENT_HARDWARE\n",
      "1204\n",
      "1197208\n"
     ]
    }
   ],
   "source": [
    "guangdong_indus = get_data_of_all_labels_all_indus(119, guangdong_indus_labels)"
   ]
  },
  {
   "cell_type": "code",
   "execution_count": 589,
   "metadata": {
    "collapsed": true
   },
   "outputs": [],
   "source": [
    "def merge_origin_and_indus(city_code, indus_data):\n",
    "    origin = read_file(city_code)\n",
    "    print('origin : ' + str(len(origin)))\n",
    "    final_data = sort_and_uniqify(origin + indus_data)\n",
    "    print('final : ' + str(len(final_data)))\n",
    "    write_file(city_code, final_data)\n",
    "    print('check file : ' + str(len(read_file(city_code))))"
   ]
  },
  {
   "cell_type": "code",
   "execution_count": 495,
   "metadata": {},
   "outputs": [
    {
     "name": "stdout",
     "output_type": "stream",
     "text": [
      "10504\n",
      "10504\n"
     ]
    }
   ],
   "source": [
    "merge_origin_and_indus(119, guangdong_indus)"
   ]
  },
  {
   "cell_type": "code",
   "execution_count": 496,
   "metadata": {},
   "outputs": [
    {
     "name": "stdout",
     "output_type": "stream",
     "text": [
      "101-E_COMMERCE\n",
      "1295\n",
      "101-MEDIA\n",
      "2220\n",
      "101-SERVICE_INDUSTRIES\n",
      "2821\n",
      "101-CONSUMER_LIFESTYLE\n",
      "1222\n",
      "101-SOCIAL_NETWORK\n",
      "1238\n",
      "101-FINANCE\n",
      "1294\n",
      "101-EDUCATION_TRAINING\n",
      "1811\n",
      "101-INTELLIGENT_HARDWARE\n",
      "1162\n",
      "101 10925\n"
     ]
    }
   ],
   "source": [
    "beijing_indus = get_data_of_all_labels_all_indus(101, beijing_indus_labels)"
   ]
  },
  {
   "cell_type": "code",
   "execution_count": 499,
   "metadata": {},
   "outputs": [
    {
     "name": "stdout",
     "output_type": "stream",
     "text": [
      "11845\n",
      "15032\n",
      "15032\n"
     ]
    }
   ],
   "source": [
    "merge_origin_and_indus(101, beijing_indus)"
   ]
  },
  {
   "cell_type": "code",
   "execution_count": 529,
   "metadata": {
    "collapsed": true
   },
   "outputs": [],
   "source": [
    "def find_indus_over_1000(city_code):\n",
    "    param['label'] = []\n",
    "    param['city'] = city_code\n",
    "    param['p'] = 1\n",
    "    del param['label']\n",
    "    industry_page = 1\n",
    "    indus_over_1000 = []\n",
    "    while(industry_page < len(Industry[1])):\n",
    "        param['industry'] = Industry[1][industry_page]\n",
    "        r = requests.get(url, headers = headers, params = param).json()\n",
    "        total = r['data']['pageData']['totalCount']\n",
    "        if(total > 1000 and param['industry'] != 'NON_TMT'):\n",
    "            indus_over_1000.append({\n",
    "                'city' : city_code,\n",
    "                'indus' : param['industry'],\n",
    "                'cnt' : total\n",
    "            })\n",
    "            print(str(param['industry']) + ' : ' + str(total))\n",
    "        industry_page+=1\n",
    "    return indus_over_1000"
   ]
  },
  {
   "cell_type": "code",
   "execution_count": 551,
   "metadata": {},
   "outputs": [
    {
     "name": "stdout",
     "output_type": "stream",
     "text": [
      "INTELLIGENT_HARDWARE : 1113\n",
      "SERVICE_INDUSTRIES : 2262\n"
     ]
    }
   ],
   "source": [
    "indus_over_1000 = []\n",
    "indus_over_1000.append(find_indus_over_1000(21903))  #shenzhen"
   ]
  },
  {
   "cell_type": "code",
   "execution_count": 552,
   "metadata": {},
   "outputs": [
    {
     "name": "stdout",
     "output_type": "stream",
     "text": [
      "SERVICE_INDUSTRIES : 1470\n"
     ]
    }
   ],
   "source": [
    "indus_over_1000.append(find_indus_over_1000(111)) #zhejiang"
   ]
  },
  {
   "cell_type": "code",
   "execution_count": 556,
   "metadata": {},
   "outputs": [
    {
     "name": "stdout",
     "output_type": "stream",
     "text": [
      "SERVICE_INDUSTRIES : 1461\n"
     ]
    }
   ],
   "source": [
    "indus_over_1000.append(find_indus_over_1000(21901))   #guangzhou"
   ]
  },
  {
   "cell_type": "code",
   "execution_count": 557,
   "metadata": {},
   "outputs": [
    {
     "name": "stdout",
     "output_type": "stream",
     "text": [
      "SERVICE_INDUSTRIES : 1241\n"
     ]
    }
   ],
   "source": [
    "indus_over_1000.append(find_indus_over_1000(21101))   #hangzhou"
   ]
  },
  {
   "cell_type": "code",
   "execution_count": 558,
   "metadata": {},
   "outputs": [
    {
     "name": "stdout",
     "output_type": "stream",
     "text": [
      "SERVICE_INDUSTRIES : 1056\n"
     ]
    }
   ],
   "source": [
    "indus_over_1000.append(find_indus_over_1000(110))   #jiangsu"
   ]
  },
  {
   "cell_type": "code",
   "execution_count": 254,
   "metadata": {
    "collapsed": true
   },
   "outputs": [],
   "source": [
    "# Get Startups by City with all Sorted by Id\n",
    "def GetStartupsByCitySortedByIdPlus(city_code):\n",
    "    param['p'] = 1\n",
    "    param['city'] = city_code\n",
    "    r = requests.get(url, params = param, headers = headers).json()\n",
    "    data = r['data']['pageData']['data']\n",
    "    while(param['p'] < r['data']['pageData']['totalPages']):\n",
    "        param['p']+=1\n",
    "        res = requests.get(url, params = param, headers = headers).json()\n",
    "        data = data + res['data']['pageData']['data']\n",
    "    return data"
   ]
  },
  {
   "cell_type": "code",
   "execution_count": 563,
   "metadata": {},
   "outputs": [
    {
     "data": {
      "text/plain": [
       "[[{'city': 21903, 'cnt': 1113, 'indus': 'INTELLIGENT_HARDWARE'},\n",
       "  {'city': 21903, 'cnt': 2262, 'indus': 'SERVICE_INDUSTRIES'}],\n",
       " [{'city': 111, 'cnt': 1470, 'indus': 'SERVICE_INDUSTRIES'}],\n",
       " [{'city': 21901, 'cnt': 1461, 'indus': 'SERVICE_INDUSTRIES'}],\n",
       " [{'city': 21101, 'cnt': 1241, 'indus': 'SERVICE_INDUSTRIES'}],\n",
       " [{'city': 110, 'cnt': 1056, 'indus': 'SERVICE_INDUSTRIES'}]]"
      ]
     },
     "execution_count": 563,
     "metadata": {},
     "output_type": "execute_result"
    }
   ],
   "source": [
    "indus_over_1000"
   ]
  },
  {
   "cell_type": "code",
   "execution_count": 570,
   "metadata": {},
   "outputs": [
    {
     "name": "stdout",
     "output_type": "stream",
     "text": [
      "--21903 SERVICE_INDUSTRIES\n",
      "{'name': '大数据', 'id': 25, 'cnt': 1729}\n",
      "{'name': 'SaaS', 'id': 572, 'cnt': 1553}\n",
      "total : 2262\n",
      "labelled : 8649\n",
      "\n"
     ]
    }
   ],
   "source": [
    "SERVICE_INDUSTRIES_21903_ls = get_labels_counts('SERVICE_INDUSTRIES', 21903)"
   ]
  },
  {
   "cell_type": "code",
   "execution_count": 580,
   "metadata": {},
   "outputs": [
    {
     "name": "stdout",
     "output_type": "stream",
     "text": [
      "--21903 INTELLIGENT_HARDWARE\n",
      "total : 1113\n",
      "labelled : 3837\n",
      "\n"
     ]
    }
   ],
   "source": [
    "INTELLIGENT_HARDWARE_21903_ls = get_labels_counts('INTELLIGENT_HARDWARE', 21903)"
   ]
  },
  {
   "cell_type": "code",
   "execution_count": 572,
   "metadata": {},
   "outputs": [
    {
     "name": "stdout",
     "output_type": "stream",
     "text": [
      "--111 SERVICE_INDUSTRIES\n",
      "{'name': '大数据', 'id': 25, 'cnt': 1729}\n",
      "{'name': 'SaaS', 'id': 572, 'cnt': 1553}\n",
      "total : 1470\n",
      "labelled : 8649\n",
      "\n"
     ]
    }
   ],
   "source": [
    "SERVICE_INDUSTRIES_111_ls = get_labels_counts('SERVICE_INDUSTRIES', 111)"
   ]
  },
  {
   "cell_type": "code",
   "execution_count": 573,
   "metadata": {},
   "outputs": [
    {
     "name": "stdout",
     "output_type": "stream",
     "text": [
      "--21901 SERVICE_INDUSTRIES\n",
      "{'name': '大数据', 'id': 25, 'cnt': 1729}\n",
      "{'name': 'SaaS', 'id': 572, 'cnt': 1553}\n",
      "total : 1461\n",
      "labelled : 8649\n",
      "\n"
     ]
    }
   ],
   "source": [
    "SERVICE_INDUSTRIES_21901_ls = get_labels_counts('SERVICE_INDUSTRIES', 21901)"
   ]
  },
  {
   "cell_type": "code",
   "execution_count": 578,
   "metadata": {},
   "outputs": [
    {
     "name": "stdout",
     "output_type": "stream",
     "text": [
      "--21101 SERVICE_INDUSTRIES\n",
      "{'name': '大数据', 'id': 25, 'cnt': 1729}\n",
      "{'name': 'SaaS', 'id': 572, 'cnt': 1553}\n",
      "total : 1241\n",
      "labelled : 8649\n",
      "\n"
     ]
    }
   ],
   "source": [
    "SERVICE_INDUSTRIES_21101_ls = get_labels_counts('SERVICE_INDUSTRIES', 21101)"
   ]
  },
  {
   "cell_type": "code",
   "execution_count": 577,
   "metadata": {},
   "outputs": [
    {
     "name": "stdout",
     "output_type": "stream",
     "text": [
      "--110 SERVICE_INDUSTRIES\n",
      "{'name': '大数据', 'id': 25, 'cnt': 1729}\n",
      "{'name': 'SaaS', 'id': 572, 'cnt': 1553}\n",
      "total : 1056\n",
      "labelled : 8649\n",
      "\n"
     ]
    }
   ],
   "source": [
    "SERVICE_INDUSTRIES_110_ls = get_labels_counts('SERVICE_INDUSTRIES', 110)"
   ]
  },
  {
   "cell_type": "code",
   "execution_count": 582,
   "metadata": {},
   "outputs": [
    {
     "name": "stdout",
     "output_type": "stream",
     "text": [
      "21903-SERVICE_INDUSTRIES\n",
      "1287\n",
      "21903-INTELLIGENT_HARDWARE\n",
      "1037\n",
      "21903 2203\n"
     ]
    }
   ],
   "source": [
    "indus_21903= get_data_of_all_labels_all_indus(21903, indus_labels_21903)"
   ]
  },
  {
   "cell_type": "code",
   "execution_count": 583,
   "metadata": {},
   "outputs": [
    {
     "name": "stdout",
     "output_type": "stream",
     "text": [
      "7142\n",
      "7303\n",
      "7303\n"
     ]
    }
   ],
   "source": [
    "merge_origin_and_indus(21903, indus_21903)"
   ]
  },
  {
   "cell_type": "code",
   "execution_count": 585,
   "metadata": {},
   "outputs": [
    {
     "name": "stdout",
     "output_type": "stream",
     "text": [
      "111-SERVICE_INDUSTRIES\n",
      "1131\n",
      "111 1131\n"
     ]
    }
   ],
   "source": [
    "indus_111= get_data_of_all_labels_all_indus(111, [SERVICE_INDUSTRIES_111_ls])"
   ]
  },
  {
   "cell_type": "code",
   "execution_count": 588,
   "metadata": {},
   "outputs": [
    {
     "name": "stdout",
     "output_type": "stream",
     "text": [
      "origin4902\n",
      "final4965\n",
      "check file4965\n"
     ]
    }
   ],
   "source": [
    "merge_origin_and_indus(111, indus_111)"
   ]
  },
  {
   "cell_type": "code",
   "execution_count": 590,
   "metadata": {},
   "outputs": [
    {
     "name": "stdout",
     "output_type": "stream",
     "text": [
      "21901-SERVICE_INDUSTRIES\n",
      "1091\n",
      "21901 1091\n",
      "origin : 4438\n",
      "final : 4498\n",
      "check file : 4498\n"
     ]
    }
   ],
   "source": [
    "merge_origin_and_indus(21901, get_data_of_all_labels_all_indus(21901, [SERVICE_INDUSTRIES_21901_ls]))"
   ]
  },
  {
   "cell_type": "code",
   "execution_count": 591,
   "metadata": {},
   "outputs": [
    {
     "name": "stdout",
     "output_type": "stream",
     "text": [
      "21101-SERVICE_INDUSTRIES\n",
      "1078\n",
      "21101 1078\n",
      "origin : 4141\n",
      "final : 4176\n",
      "check file : 4176\n"
     ]
    }
   ],
   "source": [
    "merge_origin_and_indus(21101, get_data_of_all_labels_all_indus(21101, [SERVICE_INDUSTRIES_21101_ls]))"
   ]
  },
  {
   "cell_type": "code",
   "execution_count": 593,
   "metadata": {},
   "outputs": [
    {
     "name": "stdout",
     "output_type": "stream",
     "text": [
      "110-SERVICE_INDUSTRIES\n",
      "1011\n",
      "110 1011\n",
      "origin : 3614\n",
      "final : 3621\n",
      "check file : 3621\n"
     ]
    }
   ],
   "source": [
    "merge_origin_and_indus(110, get_data_of_all_labels_all_indus(110, [SERVICE_INDUSTRIES_110_ls]))"
   ]
  },
  {
   "cell_type": "code",
   "execution_count": null,
   "metadata": {
    "collapsed": true
   },
   "outputs": [],
   "source": []
  }
 ],
 "metadata": {
  "kernelspec": {
   "display_name": "Python 3",
   "language": "python",
   "name": "python3"
  },
  "language_info": {
   "codemirror_mode": {
    "name": "ipython",
    "version": 3
   },
   "file_extension": ".py",
   "mimetype": "text/x-python",
   "name": "python",
   "nbconvert_exporter": "python",
   "pygments_lexer": "ipython3",
   "version": "3.5.3"
  }
 },
 "nbformat": 4,
 "nbformat_minor": 2
}
