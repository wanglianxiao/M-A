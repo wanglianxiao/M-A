{
 "cells": [
  {
   "cell_type": "markdown",
   "metadata": {},
   "source": [
    "#sort the 127 array descending"
   ]
  },
  {
   "cell_type": "code",
   "execution_count": 1,
   "metadata": {
    "collapsed": true
   },
   "outputs": [],
   "source": [
    "import json\n",
    "import requests"
   ]
  },
  {
   "cell_type": "code",
   "execution_count": 2,
   "metadata": {
    "collapsed": true
   },
   "outputs": [],
   "source": [
    "with open(\"127.json\") as json_file:\n",
    "    persons = json.load(json_file)"
   ]
  },
  {
   "cell_type": "code",
   "execution_count": 3,
   "metadata": {
    "collapsed": true
   },
   "outputs": [],
   "source": [
    "persons = sorted(persons, key=lambda x: x['id'], reverse=True)"
   ]
  },
  {
   "cell_type": "code",
   "execution_count": 7,
   "metadata": {
    "collapsed": true
   },
   "outputs": [],
   "source": [
    "f = open('127.json', 'w')\n",
    "f.write(json.dumps(persons))\n",
    "f.close()"
   ]
  },
  {
   "cell_type": "code",
   "execution_count": 8,
   "metadata": {
    "collapsed": true
   },
   "outputs": [],
   "source": [
    "with open(\"127.json\") as json_file:\n",
    "    persons = json.load(json_file)"
   ]
  },
  {
   "cell_type": "markdown",
   "metadata": {},
   "source": [
    "a function that sort the array"
   ]
  },
  {
   "cell_type": "code",
   "execution_count": 10,
   "metadata": {
    "collapsed": true
   },
   "outputs": [],
   "source": [
    "url = 'https://rong.36kr.com/n/api/column/0/company'\n",
    "param = {\n",
    "    'city' : 112,\n",
    "    'sortField' : 'STOCK_AT',\n",
    "    'p' : 1\n",
    "}\n",
    "headers = {\n",
    "    'Cookie' : 'MEIQIA_EXTRA_TRACK_ID=775a22fa339511e79b2d067fd4f49ede; device-uid=68d06700-33f2-11e7-b51b-ab93852ba40f; kr_stat_uuid=7k4Km24904169; kwlo_iv=2h; Hm_lvt_e8ec47088ed7458ec32cde3617b23ee3=1494217122; Hm_lpvt_e8ec47088ed7458ec32cde3617b23ee3=1494250444; _kr_p_se=b5199443-09fa-4933-a9f5-72277ca6b372; krid_user_id=1059601474; krid_user_version=5; kr_plus_id=1059601474; kr_plus_token=jjKA2nSgr5x4WcpOkAASSFLSpHHN8299267_____; krnewsfrontss=6107d6d0bc8c6006cdce4a04b4e957cf; Hm_lvt_713123c60a0e86982326bae1a51083e1=1494217360; Hm_lpvt_713123c60a0e86982326bae1a51083e1=1494251662; kr_plus_utype=0; M-XSRF-TOKEN=41932728dcfb62d1e7b9fbc40884260a985189383ea8354c591be89ea116086b; aliyungf_tc=AQAAAO78fz/72Q4AvDGgtKMobYC3XaD1; c_name=point; Z-XSRF-TOKEN=eyJpdiI6Iko0cXh0ZXdpcXpMWWdSbW1TWUtZK3c9PSIsInZhbHVlIjoiWHFtanFsellSMjFRXC9YR2E1eTlNWCtKaEpcL21LaHBMb2E1bFhzeHhlTlwvcjVcL015TTQxMjlqZTkxK2FLRmZIcEtrOFZoSWFwclQ5elwvS0VJNTdLS0FNZz09IiwibWFjIjoiY2M1NDVhNDQ1NTBlYzJlNmRkMzNmMDM4MDE3MGQ1Njc4MjYxM2NjMTdhM2Y5MzBmMzQ4NmE1YjUzMzdlYmUzMyJ9; krchoasss=eyJpdiI6InZRU2U3ZE1qYThlT1JYSWwrSXluUEE9PSIsInZhbHVlIjoiUFZOR3hXdjFWd0ZpYmhjMGpadWFTbFZRclN4cHh5OWMrdHNuSnJpZlBvaXVmbFoxRDl0QUFxVktCcUd4TWdUNWcrRmhla2dvRVJyQUUrSUZ4WEVJS3c9PSIsIm1hYyI6IjQ3YWNlMGM4ZDg2ZmE3ZjQxNDRiNjI2MzUzMjBjYjY3YzNmMjg4MjU5NDI3MmI2ODUyN2RlYTE4OWI5ZTE4NTMifQ%3D%3D'\n",
    "}"
   ]
  },
  {
   "cell_type": "code",
   "execution_count": 19,
   "metadata": {
    "collapsed": true
   },
   "outputs": [],
   "source": [
    "def GetStartupsByCitySortedById(city_code):\n",
    "    param['p'] = 1\n",
    "    param['city'] = city_code\n",
    "    r = requests.get(url, params = param, headers = headers).json()\n",
    "    data = r['data']['pageData']['data']\n",
    "    while(param['p'] < r['data']['pageData']['totalPages']):\n",
    "        param['p']+=1\n",
    "        res = requests.get(url, params = param, headers = headers).json()\n",
    "        data = data + res['data']['pageData']['data']\n",
    "    len(data)\n",
    "    f = open(str(param['city'])+'.json', 'w')\n",
    "    f.write(json.dumps(sorted(data, key=lambda x: x['id'], reverse=True)))\n",
    "    f.close()\n",
    "# value = json.dumps({'data': sorted(data, key=lambda x: x['count'], reverse=True)})"
   ]
  },
  {
   "cell_type": "markdown",
   "metadata": {},
   "source": [
    "get 90000-haiwai pre-data"
   ]
  },
  {
   "cell_type": "code",
   "execution_count": 20,
   "metadata": {
    "collapsed": true
   },
   "outputs": [],
   "source": [
    "GetStartupsByCitySortedById(90000)"
   ]
  },
  {
   "cell_type": "code",
   "execution_count": 21,
   "metadata": {
    "collapsed": true
   },
   "outputs": [],
   "source": [
    "with open(\"90000.json\") as json_file:\n",
    "    persons = json.load(json_file)"
   ]
  },
  {
   "cell_type": "code",
   "execution_count": 22,
   "metadata": {},
   "outputs": [
    {
     "data": {
      "text/plain": [
       "1000"
      ]
     },
     "execution_count": 22,
     "metadata": {},
     "output_type": "execute_result"
    }
   ],
   "source": [
    "len(persons)"
   ]
  },
  {
   "cell_type": "code",
   "execution_count": 254,
   "metadata": {
    "collapsed": true
   },
   "outputs": [],
   "source": [
    "# Get Startups by City with all Sorted by Id\n",
    "def GetStartupsByCitySortedByIdPlus(city_code):\n",
    "    param['p'] = 1\n",
    "    param['city'] = city_code\n",
    "    r = requests.get(url, params = param, headers = headers).json()\n",
    "    data = r['data']['pageData']['data']\n",
    "    while(param['p'] < r['data']['pageData']['totalPages']):\n",
    "        param['p']+=1\n",
    "        res = requests.get(url, params = param, headers = headers).json()\n",
    "        data = data + res['data']['pageData']['data']\n",
    "    return data"
   ]
  },
  {
   "cell_type": "code",
   "execution_count": 158,
   "metadata": {
    "collapsed": true
   },
   "outputs": [],
   "source": [
    "param['phase'] = 'SEED,ANGEL,PRE_A,D,E,A,A_PLUS,PRE_B,B,B_PLUS,C_PLUS,C'"
   ]
  },
  {
   "cell_type": "code",
   "execution_count": 159,
   "metadata": {
    "collapsed": true
   },
   "outputs": [],
   "source": [
    "TempGetStartupsByCitySortedByIdPlus(90000)"
   ]
  },
  {
   "cell_type": "code",
   "execution_count": 160,
   "metadata": {},
   "outputs": [
    {
     "data": {
      "text/plain": [
       "320"
      ]
     },
     "execution_count": 160,
     "metadata": {},
     "output_type": "execute_result"
    }
   ],
   "source": [
    "len(data)"
   ]
  },
  {
   "cell_type": "code",
   "execution_count": 162,
   "metadata": {},
   "outputs": [
    {
     "data": {
      "text/plain": [
       "{'city': 90000,\n",
       " 'p': 35,\n",
       " 'phase': 'SEED,ANGEL,PRE_A,D,E,A,A_PLUS,PRE_B,B,B_PLUS,C_PLUS,C',\n",
       " 'sortField': 'STOCK_AT'}"
      ]
     },
     "execution_count": 162,
     "metadata": {},
     "output_type": "execute_result"
    }
   ],
   "source": [
    "param"
   ]
  },
  {
   "cell_type": "code",
   "execution_count": 165,
   "metadata": {
    "collapsed": true
   },
   "outputs": [],
   "source": [
    "param['p'] = 1\n",
    "param['city'] = 90000"
   ]
  },
  {
   "cell_type": "code",
   "execution_count": 166,
   "metadata": {
    "collapsed": true
   },
   "outputs": [],
   "source": [
    "r = requests.get(url, params = param, headers = headers).json()"
   ]
  },
  {
   "cell_type": "code",
   "execution_count": 167,
   "metadata": {
    "collapsed": true
   },
   "outputs": [],
   "source": [
    "data = r['data']['pageData']['data']"
   ]
  },
  {
   "cell_type": "code",
   "execution_count": 168,
   "metadata": {
    "collapsed": true
   },
   "outputs": [],
   "source": [
    "while(param['p'] < r['data']['pageData']['totalPages']):\n",
    "    param['p']+=1\n",
    "    res = requests.get(url, params = param, headers = headers).json()\n",
    "    data = data + res['data']['pageData']['data']\n",
    "data = sorted(data, key=lambda x: x['id'], reverse=True)"
   ]
  },
  {
   "cell_type": "code",
   "execution_count": 169,
   "metadata": {
    "scrolled": true
   },
   "outputs": [
    {
     "data": {
      "text/plain": [
       "686"
      ]
     },
     "execution_count": 169,
     "metadata": {},
     "output_type": "execute_result"
    }
   ],
   "source": [
    "len(data)"
   ]
  },
  {
   "cell_type": "code",
   "execution_count": 170,
   "metadata": {},
   "outputs": [
    {
     "data": {
      "text/plain": [
       "list"
      ]
     },
     "execution_count": 170,
     "metadata": {},
     "output_type": "execute_result"
    }
   ],
   "source": [
    "type(data)"
   ]
  },
  {
   "cell_type": "code",
   "execution_count": 173,
   "metadata": {
    "collapsed": true
   },
   "outputs": [],
   "source": [
    "import itertools"
   ]
  },
  {
   "cell_type": "code",
   "execution_count": 174,
   "metadata": {},
   "outputs": [
    {
     "data": {
      "text/plain": [
       "list"
      ]
     },
     "execution_count": 174,
     "metadata": {},
     "output_type": "execute_result"
    }
   ],
   "source": [
    "type(persons)"
   ]
  },
  {
   "cell_type": "code",
   "execution_count": 175,
   "metadata": {},
   "outputs": [
    {
     "name": "stdout",
     "output_type": "stream",
     "text": [
      "686 1000\n"
     ]
    }
   ],
   "source": [
    "print(len(data),len(persons))"
   ]
  },
  {
   "cell_type": "code",
   "execution_count": 176,
   "metadata": {
    "collapsed": true
   },
   "outputs": [],
   "source": [
    "data = data + persons"
   ]
  },
  {
   "cell_type": "code",
   "execution_count": 177,
   "metadata": {},
   "outputs": [
    {
     "data": {
      "text/plain": [
       "1686"
      ]
     },
     "execution_count": 177,
     "metadata": {},
     "output_type": "execute_result"
    }
   ],
   "source": [
    "len(data)"
   ]
  },
  {
   "cell_type": "code",
   "execution_count": 179,
   "metadata": {
    "collapsed": true
   },
   "outputs": [],
   "source": [
    "data = sorted(data, key=lambda x: x['id'], reverse=True)"
   ]
  },
  {
   "cell_type": "code",
   "execution_count": 190,
   "metadata": {
    "collapsed": true
   },
   "outputs": [],
   "source": [
    "data = sorted(data, key=lambda x: x['id'])"
   ]
  },
  {
   "cell_type": "code",
   "execution_count": 191,
   "metadata": {},
   "outputs": [
    {
     "data": {
      "text/plain": [
       "1686"
      ]
     },
     "execution_count": 191,
     "metadata": {},
     "output_type": "execute_result"
    }
   ],
   "source": [
    "len(data)"
   ]
  },
  {
   "cell_type": "code",
   "execution_count": 193,
   "metadata": {
    "collapsed": true
   },
   "outputs": [],
   "source": [
    "r = data[0]"
   ]
  },
  {
   "cell_type": "code",
   "execution_count": 194,
   "metadata": {},
   "outputs": [
    {
     "data": {
      "text/plain": [
       "dict"
      ]
     },
     "execution_count": 194,
     "metadata": {},
     "output_type": "execute_result"
    }
   ],
   "source": [
    "type(r)"
   ]
  },
  {
   "cell_type": "code",
   "execution_count": 195,
   "metadata": {
    "collapsed": true
   },
   "outputs": [],
   "source": [
    "def list_of_seq_unique_by_key(seq, key):\n",
    "    seen = set()\n",
    "    seen_add = seen.add\n",
    "    return [x for x in seq if x[key] not in seen and not seen_add(x[key])]"
   ]
  },
  {
   "cell_type": "code",
   "execution_count": 196,
   "metadata": {
    "collapsed": true
   },
   "outputs": [],
   "source": [
    "u_data = list_of_seq_unique_by_key(data, 'id')"
   ]
  },
  {
   "cell_type": "code",
   "execution_count": 197,
   "metadata": {},
   "outputs": [
    {
     "data": {
      "text/plain": [
       "1174"
      ]
     },
     "execution_count": 197,
     "metadata": {},
     "output_type": "execute_result"
    }
   ],
   "source": [
    "len(u_data)"
   ]
  },
  {
   "cell_type": "markdown",
   "metadata": {},
   "source": [
    "E_COMMERCE,SOCIAL_NETWORK,INTELLIGENT_HARDWARE,MEDIA,SOFTWARE,CONSUMER_LIFESTYLE,FINANCE,MEDICAL_HEALTH,SERVICE_INDUSTRIES,TRAVEL_OUTDOORS,PROPERTY_AND_HOME_FURNISHINGS,EDUCATION_TRAINING,AUTO,LOGISTICS,AI,UAV,ROBOT,VR_AR,SPORTS,FARMING,SHARE_BUSINESS,CHU_HAI,CONSUME,"
   ]
  },
  {
   "cell_type": "markdown",
   "metadata": {
    "collapsed": true
   },
   "source": [
    "NON_TMT"
   ]
  },
  {
   "cell_type": "code",
   "execution_count": 199,
   "metadata": {
    "collapsed": true
   },
   "outputs": [],
   "source": [
    "from enum import Enum"
   ]
  },
  {
   "cell_type": "code",
   "execution_count": 219,
   "metadata": {},
   "outputs": [],
   "source": [
    "Industry = Enum('Industry', 'E_COMMERCE SOCIAL_NETWORK INTELLIGENT_HARDWARE MEDIA SOFTWARE CONSUMER_LIFESTYLE FINANCE MEDICAL_HEALTH SERVICE_INDUSTRIES TRAVEL_OUTDOORS PROPERTY_AND_HOME_FURNISHINGS EDUCATION_TRAINING AUTO LOGISTICS AI UAV ROBOT VR_AR SPORTS FARMING SHARE_BUSINESS CHU_HAI CONSUME')"
   ]
  },
  {
   "cell_type": "code",
   "execution_count": 222,
   "metadata": {},
   "outputs": [
    {
     "data": {
      "text/plain": [
       "'CONSUME'"
      ]
     },
     "execution_count": 222,
     "metadata": {},
     "output_type": "execute_result"
    }
   ],
   "source": [
    "Industry.CONSUME.name"
   ]
  },
  {
   "cell_type": "code",
   "execution_count": 229,
   "metadata": {},
   "outputs": [],
   "source": [
    "param['industry'] = 'E_COMMERCE,SOCIAL_NETWORK,INTELLIGENT_HARDWARE,MEDIA,SOFTWARE,CONSUMER_LIFESTYLE,FINANCE,MEDICAL_HEALTH,SERVICE_INDUSTRIES,TRAVEL_OUTDOORS,PROPERTY_AND_HOME_FURNISHINGS,EDUCATION_TRAINING,AUTO,LOGISTICS,AI,UAV,ROBOT,VR_AR,SPORTS,FARMING,SHARE_BUSINESS,CHU_HAI,CONSUME,NON_TMT'"
   ]
  },
  {
   "cell_type": "code",
   "execution_count": 227,
   "metadata": {
    "collapsed": true
   },
   "outputs": [],
   "source": [
    "param['phase'] = []"
   ]
  },
  {
   "cell_type": "code",
   "execution_count": 283,
   "metadata": {},
   "outputs": [],
   "source": [
    "Industry = [\n",
    "    [\n",
    "    'E_COMMERCE,SOCIAL_NETWORK,INTELLIGENT_HARDWARE,MEDIA,SOFTWARE',\n",
    "    'CONSUMER_LIFESTYLE,FINANCE,MEDICAL_HEALTH,SERVICE_INDUSTRIES',\n",
    "    'TRAVEL_OUTDOORS,PROPERTY_AND_HOME_FURNISHINGS,EDUCATION_TRAINING,AUTO,LOGISTICS,AI,UAV,ROBOT,VR_AR,SPORTS,FARMING,SHARE_BUSINESS,CHU_HAI,CONSUME,NON_TMT'\n",
    "    ]\n",
    "]"
   ]
  },
  {
   "cell_type": "code",
   "execution_count": 265,
   "metadata": {},
   "outputs": [],
   "source": [
    "industry_page = 0\n",
    "data = []\n",
    "while(industry_page < len(Industry)):\n",
    "    param['industry'] = Industry[industry_page]\n",
    "    data = data + GetStartupsByCitySortedByIdPlus(90000)\n",
    "    industry_page+=1"
   ]
  },
  {
   "cell_type": "code",
   "execution_count": 317,
   "metadata": {
    "collapsed": true
   },
   "outputs": [],
   "source": [
    "def write_file(name, data):\n",
    "    f = open(str(name) + '.json', 'w')\n",
    "    f.write(json.dumps(data))\n",
    "    f.close()"
   ]
  },
  {
   "cell_type": "code",
   "execution_count": 282,
   "metadata": {
    "collapsed": true
   },
   "outputs": [],
   "source": [
    "def sort_and_uniqify(data):\n",
    "    return list_of_seq_unique_by_key(sorted(data, key=lambda x: x['id'], reverse=True), 'id')"
   ]
  },
  {
   "cell_type": "code",
   "execution_count": 295,
   "metadata": {},
   "outputs": [],
   "source": [
    "def get_startups_by_city_and_industries(industry_code, city_code):\n",
    "    industry_page = 0\n",
    "    data = []\n",
    "    while(industry_page < len(Industry[industry_code])):\n",
    "        param['industry'] = Industry[industry_code][industry_page]\n",
    "        data = data + GetStartupsByCitySortedByIdPlus(city_code)\n",
    "        industry_page+=1\n",
    "    return data"
   ]
  },
  {
   "cell_type": "code",
   "execution_count": 291,
   "metadata": {},
   "outputs": [],
   "source": [
    "def read_file(name):\n",
    "    with open(str(name) + \".json\") as json_file:\n",
    "        return json.load(json_file)"
   ]
  },
  {
   "cell_type": "code",
   "execution_count": 296,
   "metadata": {},
   "outputs": [],
   "source": [
    "shanxi = get_startups_by_city_and_industries(0, 127)"
   ]
  },
  {
   "cell_type": "code",
   "execution_count": 297,
   "metadata": {},
   "outputs": [
    {
     "data": {
      "text/plain": [
       "1297"
      ]
     },
     "execution_count": 297,
     "metadata": {},
     "output_type": "execute_result"
    }
   ],
   "source": [
    "len(shanxi)"
   ]
  },
  {
   "cell_type": "code",
   "execution_count": 299,
   "metadata": {},
   "outputs": [],
   "source": [
    "shanxi =sort_and_uniqify(shanxi)"
   ]
  },
  {
   "cell_type": "code",
   "execution_count": 300,
   "metadata": {},
   "outputs": [
    {
     "data": {
      "text/plain": [
       "1047"
      ]
     },
     "execution_count": 300,
     "metadata": {},
     "output_type": "execute_result"
    }
   ],
   "source": [
    "len(shanxi)"
   ]
  },
  {
   "cell_type": "code",
   "execution_count": 302,
   "metadata": {
    "collapsed": true
   },
   "outputs": [],
   "source": [
    "def get_recent_1000(city_code):\n",
    "    param['p'] = 1\n",
    "    param['city'] = city_code\n",
    "    param['industry'] = []\n",
    "    param['phase'] = []\n",
    "    r = requests.get(url, params = param, headers = headers).json()\n",
    "    data = r['data']['pageData']['data']\n",
    "    while(param['p'] < r['data']['pageData']['totalPages']):\n",
    "        param['p']+=1\n",
    "        res = requests.get(url, params = param, headers = headers).json()\n",
    "        data = data + res['data']['pageData']['data']\n",
    "    return sorted(data, key=lambda x: x['id'], reverse=True)"
   ]
  },
  {
   "cell_type": "code",
   "execution_count": 303,
   "metadata": {},
   "outputs": [],
   "source": [
    "shanxi_1000 = get_recent_1000(127)"
   ]
  },
  {
   "cell_type": "code",
   "execution_count": 304,
   "metadata": {},
   "outputs": [
    {
     "data": {
      "text/plain": [
       "1000"
      ]
     },
     "execution_count": 304,
     "metadata": {},
     "output_type": "execute_result"
    }
   ],
   "source": [
    "len(shanxi_1000)"
   ]
  },
  {
   "cell_type": "code",
   "execution_count": 305,
   "metadata": {
    "collapsed": true
   },
   "outputs": [],
   "source": [
    "shanxi = shanxi+shanxi_1000"
   ]
  },
  {
   "cell_type": "code",
   "execution_count": 306,
   "metadata": {},
   "outputs": [
    {
     "data": {
      "text/plain": [
       "2047"
      ]
     },
     "execution_count": 306,
     "metadata": {},
     "output_type": "execute_result"
    }
   ],
   "source": [
    "len(shanxi)"
   ]
  },
  {
   "cell_type": "code",
   "execution_count": 308,
   "metadata": {},
   "outputs": [],
   "source": [
    "shanxi = sort_and_uniqify(shanxi)"
   ]
  },
  {
   "cell_type": "code",
   "execution_count": 309,
   "metadata": {},
   "outputs": [
    {
     "data": {
      "text/plain": [
       "1058"
      ]
     },
     "execution_count": 309,
     "metadata": {},
     "output_type": "execute_result"
    }
   ],
   "source": [
    "len(shanxi)"
   ]
  },
  {
   "cell_type": "code",
   "execution_count": 318,
   "metadata": {},
   "outputs": [],
   "source": [
    "write_file('shanxi(127)-1058', shanxi)"
   ]
  },
  {
   "cell_type": "code",
   "execution_count": 320,
   "metadata": {},
   "outputs": [
    {
     "data": {
      "text/plain": [
       "1058"
      ]
     },
     "execution_count": 320,
     "metadata": {},
     "output_type": "execute_result"
    }
   ],
   "source": [
    "len(read_file('shanxi(127)-1058'))"
   ]
  },
  {
   "cell_type": "code",
   "execution_count": 367,
   "metadata": {},
   "outputs": [],
   "source": [
    "def clean_code(industry_code, city_code):\n",
    "    data_indus = get_startups_by_city_and_industries(industry_code, city_code)\n",
    "    print('data_indus_pre : ' + str(len(data_indus)))\n",
    "    data_indus = sort_and_uniqify(data_indus)\n",
    "    print('data_indus : ' + str(len(data_indus)))\n",
    "    data_1000 = get_recent_1000(city_code)\n",
    "    print('data_1000 : ' + str(len(data_1000)))\n",
    "    data = sort_and_uniqify(data_indus + data_indus)\n",
    "    print(str(city_code) + ' : ' + str(len(data)))\n",
    "    write_file('(' + str(city_code) + ')-' + str(len(data)), data)\n",
    "#     print('file length : ' + str(len(read_file('(' + str(city_code) + ')-' + str(len(data))))))\n",
    "    return data"
   ]
  },
  {
   "cell_type": "code",
   "execution_count": 342,
   "metadata": {},
   "outputs": [
    {
     "name": "stdout",
     "output_type": "stream",
     "text": [
      "data_indus : 1542\n",
      "data_1000 : 1000\n",
      "117 : 1542\n"
     ]
    }
   ],
   "source": [
    "hubei = clean_code(0, 117)"
   ]
  },
  {
   "cell_type": "code",
   "execution_count": 343,
   "metadata": {
    "collapsed": true
   },
   "outputs": [],
   "source": [
    "write_file('hubei(117)-1542', hubei)"
   ]
  },
  {
   "cell_type": "code",
   "execution_count": 344,
   "metadata": {},
   "outputs": [
    {
     "data": {
      "text/plain": [
       "1542"
      ]
     },
     "execution_count": 344,
     "metadata": {},
     "output_type": "execute_result"
    }
   ],
   "source": [
    "len(read_file('hubei(117)-1542'))"
   ]
  },
  {
   "cell_type": "code",
   "execution_count": 346,
   "metadata": {},
   "outputs": [],
   "source": [
    "Industry.append([\n",
    "    'E_COMMERCE','SOCIAL_NETWORK','INTELLIGENT_HARDWARE','MEDIA','SOFTWARE',\n",
    "    'CONSUMER_LIFESTYLE','FINANCE','MEDICAL_HEALTH','SERVICE_INDUSTRIES',\n",
    "    'TRAVEL_OUTDOORS','PROPERTY_AND_HOME_FURNISHINGS','EDUCATION_TRAINING',\n",
    "    'AUTO','LOGISTICS','AI','UAV','ROBOT','VR_AR','SPORTS','FARMING','SHARE_BUSINESS','CHU_HAI','CONSUME','NON_TMT'\n",
    "])"
   ]
  },
  {
   "cell_type": "code",
   "execution_count": 352,
   "metadata": {},
   "outputs": [
    {
     "data": {
      "text/plain": [
       "24"
      ]
     },
     "execution_count": 352,
     "metadata": {},
     "output_type": "execute_result"
    }
   ],
   "source": [
    "len(Industry[1])"
   ]
  },
  {
   "cell_type": "code",
   "execution_count": 357,
   "metadata": {},
   "outputs": [
    {
     "name": "stdout",
     "output_type": "stream",
     "text": [
      "data_indus_pre : 3654\n",
      "data_indus : 1970\n",
      "data_1000 : 1000\n",
      "113 : 1970\n"
     ]
    }
   ],
   "source": [
    "fujian = clean_code(1, 113)"
   ]
  },
  {
   "cell_type": "code",
   "execution_count": 354,
   "metadata": {},
   "outputs": [
    {
     "data": {
      "text/plain": [
       "1970"
      ]
     },
     "execution_count": 354,
     "metadata": {},
     "output_type": "execute_result"
    }
   ],
   "source": [
    "write_file('Fujian(113)-1970', fujian)\n",
    "len(read_file('Fujian(113)-1970'))"
   ]
  },
  {
   "cell_type": "code",
   "execution_count": 358,
   "metadata": {
    "scrolled": true
   },
   "outputs": [
    {
     "name": "stdout",
     "output_type": "stream",
     "text": [
      "data_indus_pre : 4811\n",
      "data_indus : 2848\n",
      "data_1000 : 1000\n",
      "22301 : 2848\n"
     ]
    }
   ],
   "source": [
    "chendu = clean_code(1, 22301)"
   ]
  },
  {
   "cell_type": "code",
   "execution_count": 361,
   "metadata": {},
   "outputs": [
    {
     "data": {
      "text/plain": [
       "2848"
      ]
     },
     "execution_count": 361,
     "metadata": {},
     "output_type": "execute_result"
    }
   ],
   "source": [
    "write_file('Chendu(22301)-2848', chendu)\n",
    "len(read_file('Chendu(22301)-2848'))"
   ]
  },
  {
   "cell_type": "code",
   "execution_count": null,
   "metadata": {
    "scrolled": true
   },
   "outputs": [],
   "source": [
    "sichuan = clean_code(1, 123)"
   ]
  },
  {
   "cell_type": "code",
   "execution_count": null,
   "metadata": {},
   "outputs": [],
   "source": [
    "jiangsu = clean_code(1, 110)#企业服务>1000"
   ]
  },
  {
   "cell_type": "code",
   "execution_count": null,
   "metadata": {},
   "outputs": [],
   "source": [
    "hangzhou = clean_code(1, 21101)#企业服务>1000"
   ]
  },
  {
   "cell_type": "code",
   "execution_count": null,
   "metadata": {},
   "outputs": [],
   "source": [
    "guangzhou = clean_code(1, 21901)#企业服务>1000"
   ]
  },
  {
   "cell_type": "code",
   "execution_count": 371,
   "metadata": {},
   "outputs": [
    {
     "name": "stdout",
     "output_type": "stream",
     "text": [
      "data_indus_pre : 7571\n",
      "data_indus : 4902\n",
      "data_1000 : 1000\n",
      "111 : 4902\n"
     ]
    }
   ],
   "source": [
    "zhejiang = clean_code(1, 111)"
   ]
  },
  {
   "cell_type": "code",
   "execution_count": 372,
   "metadata": {},
   "outputs": [
    {
     "name": "stdout",
     "output_type": "stream",
     "text": [
      "data_indus_pre : 10495\n",
      "data_indus : 7142\n",
      "data_1000 : 1000\n",
      "21903 : 7142\n"
     ]
    }
   ],
   "source": [
    "shenzhen = clean_code(1, 21903)"
   ]
  },
  {
   "cell_type": "code",
   "execution_count": 373,
   "metadata": {},
   "outputs": [
    {
     "name": "stdout",
     "output_type": "stream",
     "text": [
      "data_indus_pre : 6801\n",
      "data_indus : 4438\n",
      "data_1000 : 1000\n",
      "21901 : 4438\n"
     ]
    }
   ],
   "source": [
    "guangzhou = clean_code(1, 21901)"
   ]
  },
  {
   "cell_type": "code",
   "execution_count": 376,
   "metadata": {},
   "outputs": [
    {
     "name": "stdout",
     "output_type": "stream",
     "text": [
      "data_indus_pre : 13613\n",
      "data_indus : 9766\n",
      "data_1000 : 1000\n",
      "119 : 9766\n"
     ]
    }
   ],
   "source": [
    "guangdong = clean_code(1, 119)"
   ]
  },
  {
   "cell_type": "code",
   "execution_count": 377,
   "metadata": {},
   "outputs": [
    {
     "name": "stdout",
     "output_type": "stream",
     "text": [
      "data_indus_pre : 12932\n",
      "data_indus : 9112\n",
      "data_1000 : 1000\n",
      "109 : 9112\n"
     ]
    }
   ],
   "source": [
    "shanghai = clean_code(1, 109)"
   ]
  },
  {
   "cell_type": "code",
   "execution_count": 378,
   "metadata": {},
   "outputs": [
    {
     "name": "stdout",
     "output_type": "stream",
     "text": [
      "data_indus_pre : 16397\n",
      "data_indus : 11845\n",
      "data_1000 : 1000\n",
      "101 : 11845\n"
     ]
    }
   ],
   "source": [
    "beijing = clean_code(1, 101)"
   ]
  },
  {
   "cell_type": "code",
   "execution_count": 379,
   "metadata": {},
   "outputs": [
    {
     "data": {
      "text/plain": [
       "{'city': 101, 'industry': [], 'p': 1184, 'phase': [], 'sortField': 'STOCK_AT'}"
      ]
     },
     "execution_count": 379,
     "metadata": {},
     "output_type": "execute_result"
    }
   ],
   "source": [
    "param"
   ]
  },
  {
   "cell_type": "code",
   "execution_count": 380,
   "metadata": {
    "collapsed": true
   },
   "outputs": [],
   "source": [
    "param['industry'] = 'E_COMMERCE'"
   ]
  },
  {
   "cell_type": "code",
   "execution_count": 381,
   "metadata": {},
   "outputs": [
    {
     "data": {
      "text/plain": [
       "{'city': 101,\n",
       " 'industry': 'E_COMMERCE',\n",
       " 'p': 1184,\n",
       " 'phase': [],\n",
       " 'sortField': 'STOCK_AT'}"
      ]
     },
     "execution_count": 381,
     "metadata": {},
     "output_type": "execute_result"
    }
   ],
   "source": [
    "param"
   ]
  },
  {
   "cell_type": "code",
   "execution_count": 382,
   "metadata": {
    "collapsed": true
   },
   "outputs": [],
   "source": [
    "param['p'] = 1"
   ]
  },
  {
   "cell_type": "code",
   "execution_count": 383,
   "metadata": {
    "collapsed": true
   },
   "outputs": [],
   "source": [
    "r = requests.get(url, headers = headers, params = param)"
   ]
  },
  {
   "cell_type": "code",
   "execution_count": 384,
   "metadata": {
    "collapsed": true
   },
   "outputs": [],
   "source": [
    "r = r.json()"
   ]
  },
  {
   "cell_type": "code",
   "execution_count": 386,
   "metadata": {
    "collapsed": true
   },
   "outputs": [],
   "source": [
    "ls = r['data']['label']"
   ]
  },
  {
   "cell_type": "code",
   "execution_count": 387,
   "metadata": {},
   "outputs": [
    {
     "data": {
      "text/plain": [
       "71"
      ]
     },
     "execution_count": 387,
     "metadata": {},
     "output_type": "execute_result"
    }
   ],
   "source": [
    "len(ls)"
   ]
  },
  {
   "cell_type": "code",
   "execution_count": 388,
   "metadata": {
    "collapsed": true
   },
   "outputs": [],
   "source": [
    "total = 0\n",
    "for l in ls:\n",
    "    if(l['id']>0):\n",
    "        total += l['cnt']"
   ]
  },
  {
   "cell_type": "code",
   "execution_count": 389,
   "metadata": {},
   "outputs": [
    {
     "data": {
      "text/plain": [
       "2088"
      ]
     },
     "execution_count": 389,
     "metadata": {},
     "output_type": "execute_result"
    }
   ],
   "source": [
    "total"
   ]
  },
  {
   "cell_type": "code",
   "execution_count": 391,
   "metadata": {},
   "outputs": [],
   "source": [
    "e_commerce_ls = ls"
   ]
  },
  {
   "cell_type": "code",
   "execution_count": 397,
   "metadata": {},
   "outputs": [],
   "source": [
    "def get_labels_counts(indus, city):\n",
    "    param['p'] = 1\n",
    "    param['industry'] = indus\n",
    "    param['city'] = city\n",
    "    r = requests.get(url, headers = headers, params = param).json()\n",
    "    ls = r['data']['label']\n",
    "    total = 0\n",
    "    for l in ls:\n",
    "        if(l['id']>0):\n",
    "            total += l['cnt']\n",
    "    print('total : ' + str(r['data']['pageData']['totalCount']))\n",
    "    print('labelled : ' + str(total))\n",
    "    return ls"
   ]
  },
  {
   "cell_type": "code",
   "execution_count": 398,
   "metadata": {},
   "outputs": [
    {
     "name": "stdout",
     "output_type": "stream",
     "text": [
      "total : 3317\n",
      "labelled : 2088\n"
     ]
    }
   ],
   "source": [
    "e_commerce_ls = get_labels_counts('E_COMMERCE', 101)"
   ]
  },
  {
   "cell_type": "code",
   "execution_count": 399,
   "metadata": {},
   "outputs": [
    {
     "data": {
      "text/plain": [
       "71"
      ]
     },
     "execution_count": 399,
     "metadata": {},
     "output_type": "execute_result"
    }
   ],
   "source": [
    "len(e_commerce_ls)"
   ]
  },
  {
   "cell_type": "code",
   "execution_count": null,
   "metadata": {
    "collapsed": true
   },
   "outputs": [],
   "source": []
  }
 ],
 "metadata": {
  "kernelspec": {
   "display_name": "Python 3",
   "language": "python",
   "name": "python3"
  },
  "language_info": {
   "codemirror_mode": {
    "name": "ipython",
    "version": 3
   },
   "file_extension": ".py",
   "mimetype": "text/x-python",
   "name": "python",
   "nbconvert_exporter": "python",
   "pygments_lexer": "ipython3",
   "version": "3.5.3"
  }
 },
 "nbformat": 4,
 "nbformat_minor": 2
}
