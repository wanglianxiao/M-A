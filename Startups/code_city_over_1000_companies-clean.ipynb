{
 "cells": [
  {
   "cell_type": "code",
   "execution_count": 1,
   "metadata": {
    "collapsed": true
   },
   "outputs": [],
   "source": [
    "import json\n",
    "import requests\n",
    "url = 'https://rong.36kr.com/n/api/column/0/company'\n",
    "param = {\n",
    "    'city' : 0,\n",
    "    'sortField' : 'STOCK_AT',\n",
    "    'p' : 1\n",
    "}\n",
    "headers = {\n",
    "    'Cookie' : 'MEIQIA_EXTRA_TRACK_ID=775a22fa339511e79b2d067fd4f49ede; device-uid=68d06700-33f2-11e7-b51b-ab93852ba40f; kr_stat_uuid=7k4Km24904169; kwlo_iv=2h; Hm_lvt_e8ec47088ed7458ec32cde3617b23ee3=1494217122; Hm_lpvt_e8ec47088ed7458ec32cde3617b23ee3=1494250444; _kr_p_se=b5199443-09fa-4933-a9f5-72277ca6b372; krid_user_id=1059601474; krid_user_version=5; kr_plus_id=1059601474; kr_plus_token=jjKA2nSgr5x4WcpOkAASSFLSpHHN8299267_____; krnewsfrontss=6107d6d0bc8c6006cdce4a04b4e957cf; Hm_lvt_713123c60a0e86982326bae1a51083e1=1494217360; Hm_lpvt_713123c60a0e86982326bae1a51083e1=1494251662; kr_plus_utype=0; M-XSRF-TOKEN=41932728dcfb62d1e7b9fbc40884260a985189383ea8354c591be89ea116086b; aliyungf_tc=AQAAAO78fz/72Q4AvDGgtKMobYC3XaD1; c_name=point; Z-XSRF-TOKEN=eyJpdiI6Iko0cXh0ZXdpcXpMWWdSbW1TWUtZK3c9PSIsInZhbHVlIjoiWHFtanFsellSMjFRXC9YR2E1eTlNWCtKaEpcL21LaHBMb2E1bFhzeHhlTlwvcjVcL015TTQxMjlqZTkxK2FLRmZIcEtrOFZoSWFwclQ5elwvS0VJNTdLS0FNZz09IiwibWFjIjoiY2M1NDVhNDQ1NTBlYzJlNmRkMzNmMDM4MDE3MGQ1Njc4MjYxM2NjMTdhM2Y5MzBmMzQ4NmE1YjUzMzdlYmUzMyJ9; krchoasss=eyJpdiI6InZRU2U3ZE1qYThlT1JYSWwrSXluUEE9PSIsInZhbHVlIjoiUFZOR3hXdjFWd0ZpYmhjMGpadWFTbFZRclN4cHh5OWMrdHNuSnJpZlBvaXVmbFoxRDl0QUFxVktCcUd4TWdUNWcrRmhla2dvRVJyQUUrSUZ4WEVJS3c9PSIsIm1hYyI6IjQ3YWNlMGM4ZDg2ZmE3ZjQxNDRiNjI2MzUzMjBjYjY3YzNmMjg4MjU5NDI3MmI2ODUyN2RlYTE4OWI5ZTE4NTMifQ%3D%3D'\n",
    "}"
   ]
  },
  {
   "cell_type": "code",
   "execution_count": 2,
   "metadata": {
    "collapsed": true
   },
   "outputs": [],
   "source": [
    "phase = 'SEED,ANGEL,PRE_A,D,E,A,A_PLUS,PRE_B,B,B_PLUS,C_PLUS,C'"
   ]
  },
  {
   "cell_type": "code",
   "execution_count": 3,
   "metadata": {
    "collapsed": true
   },
   "outputs": [],
   "source": [
    "industry_all = 'E_COMMERCE,SOCIAL_NETWORK,INTELLIGENT_HARDWARE,MEDIA,SOFTWARE,CONSUMER_LIFESTYLE,FINANCE,MEDICAL_HEALTH,SERVICE_INDUSTRIES,TRAVEL_OUTDOORS,PROPERTY_AND_HOME_FURNISHINGS,EDUCATION_TRAINING,AUTO,LOGISTICS,AI,UAV,ROBOT,VR_AR,SPORTS,FARMING,SHARE_BUSINESS,CHU_HAI,CONSUME,NON_TMT'\n",
    "Industry = [\n",
    "    [\n",
    "    'E_COMMERCE,SOCIAL_NETWORK,INTELLIGENT_HARDWARE,MEDIA,SOFTWARE',\n",
    "    'CONSUMER_LIFESTYLE,FINANCE,MEDICAL_HEALTH,SERVICE_INDUSTRIES',\n",
    "    'TRAVEL_OUTDOORS,PROPERTY_AND_HOME_FURNISHINGS,EDUCATION_TRAINING,AUTO,LOGISTICS,AI,UAV,ROBOT,VR_AR,SPORTS,FARMING,SHARE_BUSINESS,CHU_HAI,CONSUME,NON_TMT'\n",
    "    ]\n",
    "]"
   ]
  },
  {
   "cell_type": "code",
   "execution_count": 4,
   "metadata": {
    "collapsed": true
   },
   "outputs": [],
   "source": [
    "def get_startups(city_code):\n",
    "    param['p'] = 1\n",
    "    param['city'] = city_code\n",
    "    r = requests.get(url, params = param, headers = headers).json()\n",
    "    data = r['data']['pageData']['data']\n",
    "    while(param['p'] < r['data']['pageData']['totalPages']):\n",
    "        param['p']+=1\n",
    "        res = requests.get(url, params = param, headers = headers).json()\n",
    "        data = data + res['data']['pageData']['data']\n",
    "    return data"
   ]
  },
  {
   "cell_type": "code",
   "execution_count": 5,
   "metadata": {
    "collapsed": true
   },
   "outputs": [],
   "source": [
    "def get_startups_by_industries(industry_code, city_code):\n",
    "    param['phase'] = []\n",
    "    industry_page = 0\n",
    "    data = []\n",
    "    while(industry_page < len(Industry[industry_code])):\n",
    "        param['industry'] = Industry[industry_code][industry_page]\n",
    "        data = data + GetStartupsByCitySortedByIdPlus(city_code)\n",
    "        industry_page+=1\n",
    "    return data"
   ]
  },
  {
   "cell_type": "code",
   "execution_count": 6,
   "metadata": {
    "collapsed": true
   },
   "outputs": [],
   "source": [
    "def unique(seq, key):\n",
    "    seen = set()\n",
    "    seen_add = seen.add\n",
    "    return [x for x in seq if x[key] not in seen and not seen_add(x[key])]\n",
    "def sort_and_uniqify(data):\n",
    "    return list_of_seq_unique_by_key(sorted(data, key=lambda x: x['id'], reverse=True), 'id')"
   ]
  },
  {
   "cell_type": "code",
   "execution_count": 7,
   "metadata": {
    "collapsed": true
   },
   "outputs": [],
   "source": [
    "def write_file(name):\n",
    "    f = open(str(name) + '.json', 'w')\n",
    "    f.write(json.dumps(data))\n",
    "    f.close()"
   ]
  },
  {
   "cell_type": "code",
   "execution_count": 8,
   "metadata": {
    "collapsed": true
   },
   "outputs": [],
   "source": [
    "def read_file(name):\n",
    "    with open(str(name) + \".json\") as json_file:\n",
    "        return json.load(json_file)"
   ]
  },
  {
   "cell_type": "code",
   "execution_count": 10,
   "metadata": {},
   "outputs": [],
   "source": [
    "shanxi = get_startups_by_city_and_industries(0, 127)"
   ]
  },
  {
   "cell_type": "code",
   "execution_count": null,
   "metadata": {
    "collapsed": true
   },
   "outputs": [],
   "source": [
    "def clean_code()"
   ]
  }
 ],
 "metadata": {
  "kernelspec": {
   "display_name": "Python 3",
   "language": "python",
   "name": "python3"
  },
  "language_info": {
   "codemirror_mode": {
    "name": "ipython",
    "version": 3
   },
   "file_extension": ".py",
   "mimetype": "text/x-python",
   "name": "python",
   "nbconvert_exporter": "python",
   "pygments_lexer": "ipython3",
   "version": "3.5.3"
  }
 },
 "nbformat": 4,
 "nbformat_minor": 2
}
